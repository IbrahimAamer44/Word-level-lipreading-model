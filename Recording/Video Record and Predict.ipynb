{
 "cells": [
  {
   "cell_type": "markdown",
   "id": "303d4f54",
   "metadata": {},
   "source": [
    "## 0. Importing libraries"
   ]
  },
  {
   "cell_type": "code",
   "execution_count": 1,
   "id": "dcbefe1b",
   "metadata": {},
   "outputs": [],
   "source": [
    "# Importing dependencies\n",
    "# import the opencv library\n",
    "import cv2\n",
    "import mediapipe as mp\n",
    "import math\n",
    "import numpy as np"
   ]
  },
  {
   "cell_type": "markdown",
   "id": "9973a981",
   "metadata": {},
   "source": [
    "## 1. Defining Video recording function"
   ]
  },
  {
   "cell_type": "code",
   "execution_count": 5,
   "id": "fa75188e",
   "metadata": {},
   "outputs": [],
   "source": [
    "import cv2\n",
    "\n",
    "# Function to record simple video of 4 seconds\n",
    "# Args(camera_index; 1 = PC webcam, 1 = USB cam)\n",
    "def record_vid(cam_index = 0):\n",
    "    \n",
    "    # Set the video capture device (webcam)\n",
    "    cap = cv2.VideoCapture(cam_index)\n",
    "\n",
    "    width= int(cap.get(cv2.CAP_PROP_FRAME_WIDTH))\n",
    "    height= int(cap.get(cv2.CAP_PROP_FRAME_HEIGHT))\n",
    "\n",
    "    # Define the codec and create a VideoWriter object\n",
    "    fourcc = cv2.VideoWriter_fourcc(*'DIVX')\n",
    "    # Recording at 25 fps with Camera's original resolution\n",
    "    out = cv2.VideoWriter('output.mp4',fourcc, 25.0, (width,height))\n",
    "\n",
    "    # Set the duration of the video capture (in seconds)\n",
    "    duration = 4\n",
    "\n",
    "    # Capture frames for the specified duration\n",
    "    start_time = cv2.getTickCount()\n",
    "    frame_cnt = 0\n",
    "    while(int((cv2.getTickCount() - start_time)/cv2.getTickFrequency() * 1000) < duration*1000):\n",
    "        ret, frame = cap.read()\n",
    "        \n",
    "        if ret==True:\n",
    "            # Show the frame\n",
    "            cv2.imshow('frame',frame)\n",
    "            # Write the frame to the output file\n",
    "            out.write(frame)\n",
    "            frame_cnt += 1\n",
    "            # Wait for a key press to exit\n",
    "            if cv2.waitKey(1) & 0xFF == ord('q'):\n",
    "                break\n",
    "            \n",
    "            if frame_cnt == 86:\n",
    "                break\n",
    "        else:\n",
    "            break\n",
    "\n",
    "    # Release the video capture device and the output file\n",
    "    cap.release()\n",
    "    out.release()\n",
    "    \n",
    "    # Destroy all the windows\n",
    "    cv2.destroyAllWindows()"
   ]
  },
  {
   "cell_type": "code",
   "execution_count": 6,
   "id": "6bfa9bf3",
   "metadata": {},
   "outputs": [
    {
     "name": "stdout",
     "output_type": "stream",
     "text": [
      "gg\n"
     ]
    }
   ],
   "source": [
    "record_vid(cam_index=0)"
   ]
  },
  {
   "cell_type": "markdown",
   "id": "ac25c53d",
   "metadata": {},
   "source": [
    "## 2. Preprocess Video "
   ]
  },
  {
   "cell_type": "code",
   "execution_count": 4,
   "id": "a8f2b868",
   "metadata": {},
   "outputs": [],
   "source": [
    "# Defining Mediapipe model\n",
    "mp_holistic = mp.solutions.holistic  # Holistic model\n",
    "mp_drawing = mp.solutions.drawing_utils  # Drawing utilities"
   ]
  },
  {
   "cell_type": "markdown",
   "id": "30cca9e2",
   "metadata": {},
   "source": [
    "#### - Defining helper functions"
   ]
  },
  {
   "cell_type": "code",
   "execution_count": 5,
   "id": "a4f51806",
   "metadata": {},
   "outputs": [],
   "source": [
    "#Passing image and model to the function\n",
    "def mediapipe_detection(image, model):\n",
    "    # Converting frame from BGR to RGB because model works on RGB\n",
    "    image = cv2.cvtColor(image, cv2.COLOR_BGR2RGB) # Color conversion (BGR to RGB)\n",
    "    \n",
    "    image.flags.writeable = False # Image not writeable anymore\n",
    "    \n",
    "    results = model.process(image)# Making prediction\n",
    "    \n",
    "    image.flags.writeable = True # Image is now writeable\n",
    "    \n",
    "    image = cv2.cvtColor(image, cv2.COLOR_RGB2BGR) # Color conversion (RGB to BGR)\n",
    "    return image, results"
   ]
  },
  {
   "cell_type": "code",
   "execution_count": 6,
   "id": "11d22d3f",
   "metadata": {},
   "outputs": [],
   "source": [
    "def crop_lips(image, results):\n",
    "    image_height, image_width, c = image.shape\n",
    "\n",
    "    #IMPORTANT VARIABLES\n",
    "    # Defining width and height of resized frame\n",
    "    width = 100\n",
    "    height = 50\n",
    "\n",
    "    # If no lips get detected by mediapipe then exception will be thrown\n",
    "    try:        \n",
    "        \n",
    "        # NORAMALIZING POSITIONS OF LANDMARKS(Two lines below taken from\n",
    "        x_px1 = min(math.floor(results.face_landmarks.landmark[212].x * image_width), image_width - 1)\n",
    "        x_px2 = min(math.floor(results.face_landmarks.landmark[432].x * image_width), image_width - 1)\n",
    "        y_px1 = min(math.floor(results.face_landmarks.landmark[94].y * image_height), image_height - 1)\n",
    "        y_px2 = min(math.floor(results.face_landmarks.landmark[200].y * image_height), image_height - 1)\n",
    "        \n",
    "        # Padding the image\n",
    "        pad = 0.05\n",
    "        \n",
    "\n",
    "        a = math.floor(x_px1 * (1 - pad))\n",
    "        b = math.floor(x_px2 * (1 + pad))\n",
    "        c = math.floor(y_px1 * (1 - pad))\n",
    "        d = math.floor(y_px2 * (1 + pad))\n",
    "        \n",
    "        #print(\"X = \",x_px1,\" \",x_px2)\n",
    "        #print(\"AB= \",a, \" \",b)\n",
    "        #print(\"Y = \",y_px1,\" \",y_px2)\n",
    "        #print(\"CD= \",c,\" \",d)\n",
    "        \n",
    "        # Cropping an image\n",
    "        #cropped_image = image[y_px1:y_px2, x_px1:x_px2]\n",
    "        cropped_image = image[c:d, a:b]\n",
    "\n",
    "        # Resizing the cropped image to Fixed resolution i.e. 300*150\n",
    "        dim = (width, height)\n",
    "\n",
    "        resized = cv2.resize(cropped_image, dim, interpolation=cv2.INTER_AREA)\n",
    "\n",
    "    except:\n",
    "        # If no lips detected plain black frame will be returned\n",
    "        resized = np.zeros((height, width, 3), dtype=np.uint8)\n",
    "\n",
    "\n",
    "    return resized"
   ]
  },
  {
   "cell_type": "code",
   "execution_count": 7,
   "id": "41f28d98",
   "metadata": {},
   "outputs": [],
   "source": [
    "def lip_movement_detected(results):\n",
    "    diff = results.face_landmarks.landmark[14].y - results.face_landmarks.landmark[13].y\n",
    "    if diff > 0.008:\n",
    "        return True\n",
    "    else:\n",
    "        return False"
   ]
  },
  {
   "cell_type": "markdown",
   "id": "d392a4b1",
   "metadata": {},
   "source": [
    "#### - Defining Preprocessing function"
   ]
  },
  {
   "cell_type": "code",
   "execution_count": 8,
   "id": "0796bdb2",
   "metadata": {},
   "outputs": [],
   "source": [
    "def preprocess_vid(directory):\n",
    "\n",
    "    # Total frames in model input\n",
    "    SEQUENCE_LENGTH = 75\n",
    "\n",
    "    # Declare a queue to store video frames.\n",
    "    frames_list = []\n",
    "\n",
    "    # Create a VideoCapture object and read from input file\n",
    "    cap = cv2.VideoCapture(directory)\n",
    "    length = int(cap.get(cv2.CAP_PROP_FRAME_COUNT))\n",
    "\n",
    "    # Check if camera opened successfully\n",
    "    if (cap.isOpened()== False):\n",
    "        print(\"Error opening video file\")\n",
    "\n",
    "    sil_flag = True\n",
    "\n",
    "    frame_cnt = 0\n",
    "\n",
    "    sil_flag_list = []\n",
    "\n",
    "    with mp_holistic.Holistic(min_detection_confidence=0.1, min_tracking_confidence=0.1) as holistic:    \n",
    "        # Read until video is completed\n",
    "        while(cap.isOpened()):\n",
    "\n",
    "            # Capture frame-by-frame\n",
    "            ret, frame = cap.read()\n",
    "\n",
    "            # If frame correctly read only then performing predictions\n",
    "            if ret == True:\n",
    "                \n",
    "                frame = cv2.cvtColor(frame, cv2.COLOR_RGB2BGR)\n",
    "                \n",
    "                image, results = mediapipe_detection(frame, holistic)\n",
    "\n",
    "                # Cropping lips\n",
    "                cropped_image = crop_lips(frame, results)\n",
    "\n",
    "                # Normalizing the cropped frame\n",
    "                normalized_frame = cropped_image / 255 \n",
    "\n",
    "                # Appending lips frame to frames_list\n",
    "                frames_list.append(normalized_frame)\n",
    "\n",
    "                # Appending sil flag in list\n",
    "                sil_flag_list.append(lip_movement_detected(results))\n",
    "\n",
    "                # Display the frame\n",
    "                #cv2.imshow('Frame',frame)\n",
    "\n",
    "\n",
    "\n",
    "            # Press Q on keyboard to exit\n",
    "            #    if cv2.waitKey(25) & 0xFF == ord('q'):\n",
    "            #        break\n",
    "\n",
    "            # Break the loop\n",
    "            else:\n",
    "                break\n",
    "\n",
    "\n",
    "     # When everything done, release the video capture object\n",
    "    cap.release()\n",
    "\n",
    "    # Closes all the frames\n",
    "    cv2.destroyAllWindows()\n",
    "\n",
    "    # Following code identifies last frame after which speaker is silent\n",
    "    last_index = len(sil_flag_list)\n",
    "    for i in range(len(sil_flag_list)-1, len(sil_flag_list)-30, -1):\n",
    "\n",
    "        if len(set(sil_flag_list[i:])) == 1:\n",
    "            last_index = i\n",
    "        else:\n",
    "            break\n",
    "\n",
    "    # Following code identifies last frame of sil at start\n",
    "    start_index = 0\n",
    "    for i in range(1,30):\n",
    "\n",
    "        if len(set(sil_flag_list[0:i])) == 1:\n",
    "            start_index = i\n",
    "        else:\n",
    "            break\n",
    "\n",
    "    # Padding the list if after sil removal it gets has than 75 frames\n",
    "    if (last_index - start_index) < SEQUENCE_LENGTH:\n",
    "        # Equal frames from start and end padded if possible\n",
    "        new_start_index = start_index\n",
    "        new_last_index = last_index\n",
    "\n",
    "        while((new_last_index - new_start_index) < SEQUENCE_LENGTH):\n",
    "\n",
    "            if new_start_index > 0:\n",
    "                new_start_index -= 1\n",
    "\n",
    "            if (new_last_index - new_start_index) == SEQUENCE_LENGTH:\n",
    "                break\n",
    "\n",
    "            if new_last_index < len(frames_list)-1:\n",
    "                new_last_index += 1\n",
    "\n",
    "            if (new_last_index - new_start_index) == SEQUENCE_LENGTH:\n",
    "                break  \n",
    "\n",
    "        frames_list = frames_list[new_start_index : new_last_index]\n",
    "\n",
    "    else:\n",
    "        # if frames are more than 75 last extra frames discarded\n",
    "\n",
    "        num_extra_frames = abs(SEQUENCE_LENGTH - (last_index-start_index))\n",
    "\n",
    "        new_last_index = last_index - num_extra_frames\n",
    "\n",
    "        frames_list = frames_list[start_index : new_last_index]\n",
    "    \n",
    "    return np.array(frames_list)"
   ]
  },
  {
   "cell_type": "code",
   "execution_count": 9,
   "id": "6b475391",
   "metadata": {},
   "outputs": [],
   "source": [
    "frames_list = preprocess_vid(\"_video.avi\")"
   ]
  },
  {
   "cell_type": "code",
   "execution_count": 86,
   "id": "cd84e8c6",
   "metadata": {},
   "outputs": [
    {
     "data": {
      "text/plain": [
       "75"
      ]
     },
     "execution_count": 86,
     "metadata": {},
     "output_type": "execute_result"
    }
   ],
   "source": [
    "len(frames_list)"
   ]
  },
  {
   "cell_type": "code",
   "execution_count": 87,
   "id": "15a6c854",
   "metadata": {},
   "outputs": [
    {
     "data": {
      "text/plain": [
       "(75, 50, 100, 3)"
      ]
     },
     "execution_count": 87,
     "metadata": {},
     "output_type": "execute_result"
    }
   ],
   "source": [
    "frames_list.shape"
   ]
  },
  {
   "cell_type": "code",
   "execution_count": 100,
   "id": "fee94d82",
   "metadata": {},
   "outputs": [
    {
     "data": {
      "text/plain": [
       "-1"
      ]
     },
     "execution_count": 100,
     "metadata": {},
     "output_type": "execute_result"
    }
   ],
   "source": [
    "cv2.imshow(\"win\",frames_list[0])\n",
    "cv2.waitKey(0)"
   ]
  },
  {
   "cell_type": "code",
   "execution_count": 10,
   "id": "7a5a5776",
   "metadata": {},
   "outputs": [
    {
     "data": {
      "image/png": "[encoded data removed]",
      "text/plain": [
       "<Figure size 640x480 with 1 Axes>"
      ]
     },
     "metadata": {},
     "output_type": "display_data"
    }
   ],
   "source": [
    "import matplotlib.pyplot as plt\n",
    "import matplotlib.image as mpimg\n",
    "\n",
    "imgplot = plt.imshow(frames_list[0])\n",
    "plt.show()"
   ]
  },
  {
   "cell_type": "code",
   "execution_count": 11,
   "id": "ea0bd009",
   "metadata": {},
   "outputs": [],
   "source": [
    "for i in frames_list:\n",
    "    cv2.imshow('Input', i)\n",
    "\n",
    "\n",
    "    i=i+1\n",
    "    if cv2.waitKey(1) & 0xFF == ord('q'):\n",
    "        break"
   ]
  },
  {
   "cell_type": "code",
   "execution_count": null,
   "id": "64b23f6c",
   "metadata": {},
   "outputs": [],
   "source": []
  }
 ],
 "metadata": {
  "kernelspec": {
   "display_name": "Python 3 (ipykernel)",
   "language": "python",
   "name": "python3"
  },
  "language_info": {
   "codemirror_mode": {
    "name": "ipython",
    "version": 3
   },
   "file_extension": ".py",
   "mimetype": "text/x-python",
   "name": "python",
   "nbconvert_exporter": "python",
   "pygments_lexer": "ipython3",
   "version": "3.9.13"
  }
 },
 "nbformat": 4,
 "nbformat_minor": 5
}
