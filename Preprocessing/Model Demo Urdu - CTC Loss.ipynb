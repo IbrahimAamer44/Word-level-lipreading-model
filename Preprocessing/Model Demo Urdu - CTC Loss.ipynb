{
 "cells": [
  {
   "cell_type": "markdown",
   "id": "8ae94aa3",
   "metadata": {},
   "source": [
    "# Demo Training & Testing of Word-Level Lip reading Model"
   ]
  },
  {
   "cell_type": "markdown",
   "id": "af54d2fd",
   "metadata": {},
   "source": [
    "## 0. Getting All necessary Dependencies"
   ]
  },
  {
   "cell_type": "code",
   "execution_count": 1,
   "id": "a51ea930",
   "metadata": {},
   "outputs": [],
   "source": [
    "# Import the required libraries.\n",
    "import os\n",
    "import cv2\n",
    "import pafy\n",
    "import math\n",
    "import random\n",
    "import numpy as np\n",
    "import datetime as dt\n",
    "import tensorflow as tf\n",
    "from collections import deque\n",
    "import matplotlib.pyplot as plt\n",
    "\n",
    "from moviepy.editor import *\n",
    "\n",
    "%matplotlib inline\n",
    "\n",
    "from sklearn.model_selection import train_test_split\n",
    "\n",
    "from tensorflow.keras.layers import *\n",
    "from tensorflow.keras.models import Sequential\n",
    "from tensorflow.keras.utils import to_categorical\n",
    "from tensorflow.keras.callbacks import EarlyStopping\n",
    "from tensorflow.keras.utils import plot_model\n",
    "from keras.optimizers import Adam\n",
    "from keras.models import Model"
   ]
  },
  {
   "cell_type": "code",
   "execution_count": 2,
   "id": "0c3ebbc2",
   "metadata": {},
   "outputs": [],
   "source": [
    "seed_constant = 27\n",
    "np.random.seed(seed_constant)\n",
    "random.seed(seed_constant)\n",
    "tf.random.set_seed(seed_constant)"
   ]
  },
  {
   "cell_type": "code",
   "execution_count": 3,
   "id": "e75fceda",
   "metadata": {},
   "outputs": [
    {
     "name": "stdout",
     "output_type": "stream",
     "text": [
      "[PhysicalDevice(name='/physical_device:GPU:0', device_type='GPU')]\n"
     ]
    }
   ],
   "source": [
    "# Making sure TF uses GPU\n",
    "print(tf.config.list_physical_devices('GPU'))"
   ]
  },
  {
   "cell_type": "markdown",
   "id": "7246c162",
   "metadata": {},
   "source": [
    "## 1. Getting Dataset"
   ]
  },
  {
   "cell_type": "code",
   "execution_count": 5,
   "id": "270c58f3",
   "metadata": {},
   "outputs": [],
   "source": [
    "# Getting dataset generation function\n",
    "from Dataset import create_word_level_dataset"
   ]
  },
  {
   "cell_type": "code",
   "execution_count": 6,
   "id": "439018f7",
   "metadata": {},
   "outputs": [],
   "source": [
    "CLASSES_LIST = ['ہے', 'کیسے', 'چار', 'دو', 'چھے', 'وہ', 'جی', 'کب', 'پانچھ', 'تین', 'آپ', 'نوں', 'ہاں', 'میں', 'تھا', 'ہوں', 'نہیں', 'کیوں', 'کتنے', 'ایک', 'کون', 'تھے', 'ہم', 'آٹھ', 'کونسا', 'کدھر', 'سات']"
   ]
  },
  {
   "cell_type": "code",
   "execution_count": 7,
   "id": "24c7ba43",
   "metadata": {},
   "outputs": [
    {
     "name": "stdout",
     "output_type": "stream",
     "text": [
      "['ہے', 'کیسے', 'چار', 'دو', 'چھے', 'وہ', 'جی', 'کب', 'پانچھ', 'تین', 'آپ', 'نوں', 'ہاں', 'میں', 'تھا', 'ہوں', 'نہیں', 'کیوں', 'کتنے', 'ایک', 'کون', 'تھے', 'ہم', 'آٹھ', 'کونسا', 'کدھر', 'سات']\n"
     ]
    }
   ],
   "source": [
    "print(CLASSES_LIST)"
   ]
  },
  {
   "cell_type": "code",
   "execution_count": 8,
   "id": "3c43a1d3",
   "metadata": {},
   "outputs": [
    {
     "name": "stdout",
     "output_type": "stream",
     "text": [
      "27\n"
     ]
    }
   ],
   "source": [
    "print(len(CLASSES_LIST))"
   ]
  },
  {
   "cell_type": "code",
   "execution_count": 20,
   "id": "a9bf3fc4",
   "metadata": {},
   "outputs": [],
   "source": [
    "np.save(\"D://FYP Workspace//Urdu Preprocessed numpy//7_features\", features)\n",
    "np.save(\"D://FYP Workspace//Urdu Preprocessed numpy//7_labels\", labels)"
   ]
  },
  {
   "cell_type": "code",
   "execution_count": 3,
   "id": "6161d3c4",
   "metadata": {},
   "outputs": [
    {
     "name": "stdout",
     "output_type": "stream",
     "text": [
      "(1188, 13, 50, 100, 3)\n",
      "(1188,)\n"
     ]
    }
   ],
   "source": [
    "#features = np.load(\"D://FYP Workspace//Urdu Preprocessed numpy//4_features.npy\")\n",
    "#labels = np.load(\"D://FYP Workspace//Urdu Preprocessed numpy//4_labels.npy\")\n",
    "\n",
    "# Loading Oversampled s4 data\n",
    "tmp_f = np.load(\"D:\\\\FYP Workspace\\\\Urdu Preprocessed numpy\\\\Oversampled\\\\6_features.npy\")\n",
    "tmp_l = np.load(\"D:\\\\FYP Workspace\\\\Urdu Preprocessed numpy\\\\Oversampled\\\\6_labels.npy\")\n",
    "\n",
    "# Splitting features in half to reduce batch size\n",
    "# - First half\n",
    "#features = tmp_f[ : int(len(tmp_f)/2)]\n",
    "#labels = tmp_l[ : int(len(tmp_f)/2)]\n",
    "\n",
    "# - Second half\n",
    "features = tmp_f[ int(len(tmp_f)/2) : ]\n",
    "labels = tmp_l[ int(len(tmp_f)/2) : ]\n",
    "\n",
    "print(features.shape)\n",
    "print(labels.shape)"
   ]
  },
  {
   "cell_type": "code",
   "execution_count": 3,
   "id": "5161b16d",
   "metadata": {},
   "outputs": [],
   "source": [
    "\n",
    "features = np.load(\"6_featureso.npy\")\n",
    "labels = np.load(\"6_labelso.npy\")\n"
   ]
  },
  {
   "cell_type": "code",
   "execution_count": 11,
   "id": "cdd4424b",
   "metadata": {},
   "outputs": [
    {
     "name": "stdout",
     "output_type": "stream",
     "text": [
      "[2]\n"
     ]
    }
   ],
   "source": [
    "a = np.array([2,4,6])\n",
    "print(a[:1])"
   ]
  },
  {
   "cell_type": "raw",
   "id": "316298fc",
   "metadata": {},
   "source": [
    "# LOADING SPEAKER 3,4,6,7 PREPROCESS NUMPY ARRAYS\n",
    "features = np.load(\"D://FYP Workspace//Urdu Preprocessed numpy//6_features.npy\")\n",
    "tmp4 = np.load(\"D://FYP Workspace//Urdu Preprocessed numpy//7_features.npy\")\n",
    "#tmp6 = np.load(\"D://FYP Workspace//Urdu Preprocessed numpy//6_features.npy\")\n",
    "#tmp7 = np.load(\"D://FYP Workspace//Urdu Preprocessed numpy//7_features.npy\")\n",
    "\n",
    "labels = np.load(\"D://FYP Workspace//Urdu Preprocessed numpy//6_labels.npy\")\n",
    "l_tmp4 = np.load(\"D://FYP Workspace//Urdu Preprocessed numpy//7_labels.npy\")\n",
    "#l_tmp6 = np.load(\"D://FYP Workspace//Urdu Preprocessed numpy//6_labels.npy\")\n",
    "#l_tmp7 = np.load(\"D://FYP Workspace//Urdu Preprocessed numpy//7_labels.npy\")\n",
    "\n",
    "print(features.shape)\n",
    "print(labels.shape)\n",
    "\n",
    "features = np.vstack((features, tmp4))\n",
    "#features = np.vstack((features, tmp6))\n",
    "#features = np.vstack((features, tmp7))\n",
    "\n",
    "labels = np.hstack((labels, l_tmp4))\n",
    "#labels = np.hstack((labels, l_tmp6))\n",
    "#labels = np.hstack((labels, l_tmp7))\n",
    "\n",
    "print(features.shape)\n",
    "print(labels.shape)"
   ]
  },
  {
   "cell_type": "markdown",
   "id": "384f7d29",
   "metadata": {},
   "source": [
    "Note :\n",
    "  STATS of 1 Speaker\n",
    "- 788 segments with sil AND 619 without sil\n",
    "- 619 without Augmentation AND 1238 with Augmentation"
   ]
  },
  {
   "cell_type": "code",
   "execution_count": 26,
   "id": "a0c5cd7c",
   "metadata": {},
   "outputs": [
    {
     "name": "stdout",
     "output_type": "stream",
     "text": [
      "1296\n",
      "1296\n"
     ]
    }
   ],
   "source": [
    "print(len(features))\n",
    "print(len(labels))"
   ]
  },
  {
   "cell_type": "code",
   "execution_count": 27,
   "id": "3b677f01",
   "metadata": {},
   "outputs": [
    {
     "name": "stdout",
     "output_type": "stream",
     "text": [
      "BEFORE - OVERSAMPLING\n",
      "TOTAL CLASSES :  27\n",
      "\n",
      "FRQ   CLASS\n",
      "وہ 56\n",
      "کیسے 54\n",
      "ہوں 36\n",
      "جی 72\n",
      "کب 88\n",
      "ایک 24\n",
      "آپ 52\n",
      "ہے 50\n",
      "کیوں 56\n",
      "دو 24\n",
      "تھا 68\n",
      "تین 24\n",
      "میں 52\n",
      "تھے 62\n",
      "چار 24\n",
      "پانچھ 24\n",
      "ہم 56\n",
      "چھے 24\n",
      "سات 24\n",
      "کون 72\n",
      "آٹھ 24\n",
      "نوں 24\n",
      "ہاں 72\n",
      "نہیں 72\n",
      "کونسا 54\n",
      "کدھر 54\n",
      "کتنے 54\n"
     ]
    }
   ],
   "source": [
    "# Getting frequency of each class for Display\n",
    "import collections\n",
    "\n",
    "# using Counter to find frequency of labels\n",
    "frequency = collections.Counter(labels)\n",
    "\n",
    "print(\"BEFORE - OVERSAMPLING\")\n",
    "print(\"TOTAL CLASSES : \" , len(CLASSES_LIST))\n",
    "print(\"\\nFRQ   CLASS\")\n",
    "for key in frequency:\n",
    "    print(CLASSES_LIST[key], frequency[key])"
   ]
  },
  {
   "cell_type": "code",
   "execution_count": 38,
   "id": "a3167a03",
   "metadata": {},
   "outputs": [
    {
     "data": {
      "text/plain": [
       "dict_keys([5, 1, 15, 6, 7, 19, 10, 0, 17, 3, 14, 9, 13, 21, 2, 8, 22, 4, 26, 20, 23, 11, 12, 16, 24, 25, 18])"
      ]
     },
     "execution_count": 38,
     "metadata": {},
     "output_type": "execute_result"
    }
   ],
   "source": [
    "frequency.keys()"
   ]
  },
  {
   "cell_type": "code",
   "execution_count": 62,
   "id": "8ff94b9b",
   "metadata": {},
   "outputs": [
    {
     "data": {
      "image/png": "[encoded data removed]",
      "text/plain": [
       "<Figure size 300x500 with 1 Axes>"
      ]
     },
     "metadata": {},
     "output_type": "display_data"
    }
   ],
   "source": [
    "plt.figure(figsize=(3,5))\n",
    "x = list(frequency.keys())\n",
    "y = list(frequency.values())\n",
    "# Plot bar chart with data points\n",
    "plt.barh(x,y)\n",
    "\n",
    "plt.xlabel(\"Frequency\")\n",
    "plt.ylabel(\"Word\")\n",
    "# Display the plot\n",
    "plt.gca().axes.get_yaxis().set_visible(False)\n",
    "plt.ylabel(\"Word\")\n",
    "plt.show()"
   ]
  },
  {
   "cell_type": "markdown",
   "id": "6a592b59",
   "metadata": {},
   "source": [
    "### 2.5 Doing Oversampling to overcome imbalanced Dataset"
   ]
  },
  {
   "cell_type": "code",
   "execution_count": 9,
   "id": "8674b49b",
   "metadata": {
    "collapsed": true
   },
   "outputs": [
    {
     "ename": "NameError",
     "evalue": "name 'tmp_features' is not defined",
     "output_type": "error",
     "traceback": [
      "\u001b[1;31m---------------------------------------------------------------------------\u001b[0m",
      "\u001b[1;31mNameError\u001b[0m                                 Traceback (most recent call last)",
      "Cell \u001b[1;32mIn [9], line 1\u001b[0m\n\u001b[1;32m----> 1\u001b[0m \u001b[38;5;28;01mdel\u001b[39;00m tmp_features\n\u001b[0;32m      2\u001b[0m \u001b[38;5;28;01mdel\u001b[39;00m tmp_labels\n",
      "\u001b[1;31mNameError\u001b[0m: name 'tmp_features' is not defined"
     ]
    }
   ],
   "source": [
    "del tmp_features\n",
    "del tmp_labels"
   ]
  },
  {
   "cell_type": "code",
   "execution_count": 64,
   "id": "2abd47d8",
   "metadata": {},
   "outputs": [],
   "source": [
    "import collections\n",
    "# Performing over-sampling\n",
    "tmp_features = features.tolist()\n",
    "tmp_labels = labels.tolist()\n",
    "# using Counter to find frequency of labels\n",
    "tmp_freq = collections.Counter(tmp_labels)"
   ]
  },
  {
   "cell_type": "code",
   "execution_count": 17,
   "id": "07c6e44c",
   "metadata": {},
   "outputs": [
    {
     "name": "stdout",
     "output_type": "stream",
     "text": [
      "BEFORE - OVERSAMPLING\n",
      "TOTAL CLASSES :  27\n",
      "\n",
      "FRQ   CLASS\n",
      "وہ    56\n",
      "کیسے    54\n",
      "ہوں    36\n",
      "جی    72\n",
      "کب    88\n",
      "ایک    24\n",
      "آپ    52\n",
      "ہے    50\n",
      "کیوں    56\n",
      "دو    24\n",
      "تھا    68\n",
      "تین    24\n",
      "میں    52\n",
      "تھے    62\n",
      "چار    24\n",
      "پانچھ    24\n",
      "ہم    56\n",
      "چھے    24\n",
      "سات    24\n",
      "کون    72\n",
      "آٹھ    24\n",
      "نوں    24\n",
      "ہاں    72\n",
      "نہیں    72\n",
      "کونسا    54\n",
      "کدھر    54\n",
      "کتنے    54\n"
     ]
    }
   ],
   "source": [
    "print(\"BEFORE - OVERSAMPLING\")\n",
    "print(\"TOTAL CLASSES : \" , len(CLASSES_LIST))\n",
    "print(\"\\nFRQ   CLASS\")\n",
    "for key in tmp_freq:\n",
    "    print(CLASSES_LIST[key], '  ', tmp_freq[key])"
   ]
  },
  {
   "cell_type": "code",
   "execution_count": 18,
   "id": "3c3cf026",
   "metadata": {},
   "outputs": [
    {
     "data": {
      "text/plain": [
       "dict_values([56, 54, 36, 72, 88, 24, 52, 50, 56, 24, 68, 24, 52, 62, 24, 24, 56, 24, 24, 72, 24, 24, 72, 72, 54, 54, 54])"
      ]
     },
     "execution_count": 18,
     "metadata": {},
     "output_type": "execute_result"
    }
   ],
   "source": [
    "min(tmp_freq.values())\n",
    "tmp_freq.values()"
   ]
  },
  {
   "cell_type": "code",
   "execution_count": 65,
   "id": "b840536d",
   "metadata": {},
   "outputs": [
    {
     "name": "stdout",
     "output_type": "stream",
     "text": [
      "hello\n",
      "1188\n"
     ]
    }
   ],
   "source": [
    "\n",
    "# Getting freq of most freq class and dividing by 2\n",
    "highest_freq = max(tmp_freq.values()) / 2  \n",
    "\n",
    "# Oversampling dataset\n",
    "i = 0\n",
    "while i < len(tmp_labels):\n",
    "    \n",
    "    #Current class index\n",
    "    current_class_index = tmp_labels[i]\n",
    "    \n",
    "    # Variable for current class\n",
    "    current_class = CLASSES_LIST[tmp_labels[i]]\n",
    "    \n",
    "    # Variable for current class's frequqncy\n",
    "    current_class_freq = tmp_freq[current_class_index]\n",
    "    \n",
    "    # Any class which has frequency less than of most_freq class will be duplicated\n",
    "    if current_class_freq < highest_freq:\n",
    "        \n",
    "        # Appending duplicate at the end of list\n",
    "        tmp_features.append(tmp_features[i])\n",
    "        tmp_labels.append(tmp_labels[i])\n",
    "    \n",
    "        # Updating frequency of duplicated class\n",
    "        tmp_freq[current_class_index] += 1\n",
    "    \n",
    "    # if a class has higher frq than max accepted then delete its occurence\n",
    "    elif current_class_freq > highest_freq:\n",
    "        \n",
    "        # Appending duplicate at the end of list\n",
    "        tmp_features.remove(tmp_features[i])\n",
    "        tmp_labels.remove(tmp_labels[i])\n",
    "    \n",
    "        # Updating frequency of duplicated class\n",
    "        tmp_freq[current_class_index] -= 1\n",
    "    \n",
    "    # Re-iterating over list if oversampling not complete\n",
    "    if i == (len(tmp_labels) - 1) and min(tmp_freq.values()) < highest_freq:\n",
    "        print(min(tmp_freq.values()))\n",
    "        i = 0\n",
    "    \n",
    "    if i==0:\n",
    "        print(\"hello\")\n",
    "    i += 1\n",
    "\n",
    "print(len(tmp_features))"
   ]
  },
  {
   "cell_type": "code",
   "execution_count": 20,
   "id": "111a7ea0",
   "metadata": {},
   "outputs": [
    {
     "name": "stdout",
     "output_type": "stream",
     "text": [
      "88\n",
      "88\n",
      "88\n",
      "2376\n"
     ]
    }
   ],
   "source": [
    "print(highest_freq)\n",
    "print(min(tmp_freq.values()))\n",
    "print(tmp_freq.get(0))\n",
    "print(len(tmp_features))"
   ]
  },
  {
   "cell_type": "code",
   "execution_count": 66,
   "id": "9cfc42df",
   "metadata": {},
   "outputs": [
    {
     "name": "stdout",
     "output_type": "stream",
     "text": [
      "AFTER - OVERSAMPLING\n",
      "TOTAL CLASSES :  27\n",
      "\n",
      "FRQ   CLASS\n",
      "وہ    44\n",
      "کیسے    44\n",
      "ہوں    44\n",
      "جی    44\n",
      "کب    44\n",
      "ایک    44\n",
      "آپ    44\n",
      "ہے    44\n",
      "کیوں    44\n",
      "دو    44\n",
      "تھا    44\n",
      "تین    44\n",
      "میں    44\n",
      "تھے    44\n",
      "چار    44\n",
      "پانچھ    44\n",
      "ہم    44\n",
      "چھے    44\n",
      "سات    44\n",
      "کون    44\n",
      "آٹھ    44\n",
      "نوں    44\n",
      "ہاں    44\n",
      "نہیں    44\n",
      "کونسا    44\n",
      "کدھر    44\n",
      "کتنے    44\n"
     ]
    }
   ],
   "source": [
    "# Displaying frequency of Oversampled Dataset\n",
    "\n",
    "# using Counter to find frequency of labels\n",
    "#tmp_freq = collections.Counter(tmp_labels)\n",
    "\n",
    "print(\"AFTER - OVERSAMPLING\")\n",
    "print(\"TOTAL CLASSES : \" , len(CLASSES_LIST))\n",
    "print(\"\\nFRQ   CLASS\")\n",
    "for key in tmp_freq:\n",
    "    print(CLASSES_LIST[key], \"  \" , tmp_freq[key])"
   ]
  },
  {
   "cell_type": "code",
   "execution_count": 67,
   "id": "0afb2113",
   "metadata": {},
   "outputs": [
    {
     "data": {
      "image/png": "[encoded data removed]",
      "text/plain": [
       "<Figure size 300x500 with 1 Axes>"
      ]
     },
     "metadata": {},
     "output_type": "display_data"
    }
   ],
   "source": [
    "plt.figure(figsize=(3,5))\n",
    "x = list(tmp_freq.keys())\n",
    "y = list(tmp_freq.values())\n",
    "# Plot bar chart with data points\n",
    "plt.barh(x,y)\n",
    "\n",
    "plt.xlabel(\"Frequency\")\n",
    "plt.ylabel(\"Word\")\n",
    "# Display the plot\n",
    "plt.gca().axes.get_yaxis().set_visible(False)\n",
    "plt.ylabel(\"Word\")\n",
    "plt.show()"
   ]
  },
  {
   "cell_type": "code",
   "execution_count": 73,
   "id": "ece41030",
   "metadata": {},
   "outputs": [],
   "source": [
    "del features\n",
    "del labels\n",
    "features = np.array(tmp_features)\n",
    "labels = np.array(tmp_labels)"
   ]
  },
  {
   "cell_type": "code",
   "execution_count": 87,
   "id": "fd8e2655",
   "metadata": {},
   "outputs": [],
   "source": [
    "np.save(\"D://FYP Workspace//Urdu Preprocessed numpy//Oversampled//6_features_44\", features)\n",
    "np.save(\"D://FYP Workspace//Urdu Preprocessed numpy//Oversampled//6_labels_44\", labels)"
   ]
  },
  {
   "cell_type": "code",
   "execution_count": null,
   "id": "77a45444",
   "metadata": {},
   "outputs": [],
   "source": []
  },
  {
   "cell_type": "code",
   "execution_count": 25,
   "id": "0b126b45",
   "metadata": {},
   "outputs": [],
   "source": [
    "# Using Keras's to_categorical method to convert labels into one-hot-encoded vectors\n",
    "one_hot_encoded_labels = to_categorical(labels)"
   ]
  },
  {
   "cell_type": "code",
   "execution_count": 26,
   "id": "ea174847",
   "metadata": {},
   "outputs": [],
   "source": [
    "# Split the Data into Train ( 75% ) and Test Set ( 25% ).\n",
    "features_train, features_test, labels_train, labels_test = train_test_split(features, one_hot_encoded_labels,\n",
    "                                                                            test_size = 0.20, shuffle = True,\n",
    "                                                                            random_state = seed_constant)"
   ]
  },
  {
   "cell_type": "code",
   "execution_count": 6,
   "id": "63df2f9d",
   "metadata": {},
   "outputs": [
    {
     "data": {
      "text/plain": [
       "(1188, 13, 50, 100, 3)"
      ]
     },
     "execution_count": 6,
     "metadata": {},
     "output_type": "execute_result"
    }
   ],
   "source": [
    "features.shape"
   ]
  },
  {
   "cell_type": "code",
   "execution_count": 7,
   "id": "20a5ada8",
   "metadata": {},
   "outputs": [
    {
     "name": "stdout",
     "output_type": "stream",
     "text": [
      "(950, 27)\n",
      "(238, 27)\n"
     ]
    }
   ],
   "source": [
    "print(labels_train.shape)\n",
    "print(labels_test.shape)"
   ]
  },
  {
   "cell_type": "markdown",
   "id": "0ee56589",
   "metadata": {},
   "source": [
    "## 2. Preparing the labels for CTC Loss\n",
    "\n",
    "Learn more about CTC loss and why its amazing for text recognition from [here](https://theailearner.com/2019/05/29/connectionist-temporal-classificationctc/).\n",
    "\n",
    "The labels have to be converted to numbers which represent each character in the training set. The 'alphabets' consist of A-Z and three special characters (-  '  and space). "
   ]
  },
  {
   "cell_type": "markdown",
   "id": "a6553635",
   "metadata": {},
   "source": [
    "<font color='red'>\n",
    "<b>TO-DO :</b><br>\n",
    "    - Complete preperation of labels <br>\n",
    "    - Buil new functional model\n",
    "</font> "
   ]
  },
  {
   "cell_type": "code",
   "execution_count": 3,
   "id": "e191375a",
   "metadata": {},
   "outputs": [],
   "source": [
    "# Important variables DEFINED IN PREPROCESSOR FILES\n",
    "SEQUENCE_LENGTH = 13 \n",
    "IMAGE_HEIGHT = 50 \n",
    "IMAGE_WIDTH = 100\n",
    "CLASSES_LIST = ['ہے', 'کیسے', 'چار', 'دو', 'چھے', 'وہ', 'جی', 'کب', 'پانچھ', 'تین', 'آپ', 'نوں', 'ہاں', 'میں', 'تھا', 'ہوں', 'نہیں', 'کیوں', 'کتنے', 'ایک', 'کون', 'تھے', 'ہم', 'آٹھ', 'کونسا', 'کدھر', 'سات']"
   ]
  },
  {
   "cell_type": "code",
   "execution_count": 4,
   "id": "7ce61418",
   "metadata": {},
   "outputs": [
    {
     "name": "stdout",
     "output_type": "stream",
     "text": [
      "پانچھ   5\n"
     ]
    }
   ],
   "source": [
    "print(max(CLASSES_LIST, key=len),\" \",len(max(CLASSES_LIST, key=len)))"
   ]
  },
  {
   "cell_type": "code",
   "execution_count": 8,
   "id": "f64fd988",
   "metadata": {},
   "outputs": [],
   "source": [
    "#alphabets = u\"ABCDEFGHIJKLMNOPQRSTUVWXYZ-' \"\n",
    "alphabets = \"آابپتثٹجچحخدڑقزرڑزژسشصضطظعغفقکگلمنوھہیے- '\"\n",
    "max_str_len = len(max(CLASSES_LIST, key=len)) #=24 max length of input labels\n",
    "num_of_characters = len(set(alphabets)) + 1 # +1 for ctc pseudo blank\n",
    "num_of_timestamps = 13#len(max(CLASSES_LIST, key=len)) #=64 max length of predicted labels"
   ]
  },
  {
   "cell_type": "code",
   "execution_count": 9,
   "id": "2036b1e6",
   "metadata": {},
   "outputs": [],
   "source": [
    "al = set(alphabets)"
   ]
  },
  {
   "cell_type": "code",
   "execution_count": 10,
   "id": "e1f33f70",
   "metadata": {},
   "outputs": [
    {
     "data": {
      "text/plain": [
       "39"
      ]
     },
     "execution_count": 10,
     "metadata": {},
     "output_type": "execute_result"
    }
   ],
   "source": [
    "len(al)"
   ]
  },
  {
   "cell_type": "code",
   "execution_count": 13,
   "id": "4e282161",
   "metadata": {},
   "outputs": [
    {
     "data": {
      "text/plain": [
       "40"
      ]
     },
     "execution_count": 13,
     "metadata": {},
     "output_type": "execute_result"
    }
   ],
   "source": [
    "num_of_characters"
   ]
  },
  {
   "cell_type": "code",
   "execution_count": 29,
   "id": "10b9688c",
   "metadata": {},
   "outputs": [],
   "source": [
    "def label_to_num(label):\n",
    "    label_num = []\n",
    "    for ch in label:\n",
    "        label_num.append(alphabets.find(ch))\n",
    "        \n",
    "    return np.array(label_num)\n",
    "\n",
    "def num_to_label(num):\n",
    "    ret = \"\"\n",
    "    for ch in num:\n",
    "        if ch == -1:  # CTC Blank\n",
    "            break\n",
    "        else:\n",
    "            ret+=alphabets[ch]\n",
    "    return ret"
   ]
  },
  {
   "cell_type": "code",
   "execution_count": 30,
   "id": "f4ba23a1",
   "metadata": {},
   "outputs": [
    {
     "name": "stdout",
     "output_type": "stream",
     "text": [
      "کالمیم \n",
      " [29  1 31 32 37 32]\n",
      "کالمیم\n"
     ]
    }
   ],
   "source": [
    "name = 'کالمیم'\n",
    "num = label_to_num(name)\n",
    "print(name,'\\n',num)\n",
    "print(num_to_label(num))"
   ]
  },
  {
   "cell_type": "code",
   "execution_count": 31,
   "id": "54bcae22",
   "metadata": {},
   "outputs": [],
   "source": [
    "# Temp\n",
    "features = np.load(\"6_featureso.npy\")\n",
    "labels = np.load(\"6_labelso.npy\")"
   ]
  },
  {
   "cell_type": "code",
   "execution_count": 32,
   "id": "801f1d2a",
   "metadata": {},
   "outputs": [],
   "source": [
    "features = features[0:50]\n",
    "labels = labels[0:50]"
   ]
  },
  {
   "cell_type": "code",
   "execution_count": 33,
   "id": "5662c101",
   "metadata": {},
   "outputs": [],
   "source": [
    "# Split the Data into Train ( 75% ) and Test Set ( 25% ).\n",
    "features_train, features_valid, labels_train, labels_valid = train_test_split(features, labels,\n",
    "                                                                            test_size = 0.05, shuffle = True,\n",
    "                                                                            random_state = seed_constant)"
   ]
  },
  {
   "cell_type": "code",
   "execution_count": 34,
   "id": "79440e1f",
   "metadata": {},
   "outputs": [
    {
     "name": "stdout",
     "output_type": "stream",
     "text": [
      "Original :  50 50\n",
      "Train    :  47 47\n",
      "Valid    :  3 3\n"
     ]
    }
   ],
   "source": [
    "print(\"Original : \",len(features), len(labels))\n",
    "print(\"Train    : \",len(features_train), len(labels_train))\n",
    "print(\"Valid    : \",len(features_valid), len(labels_valid))"
   ]
  },
  {
   "cell_type": "code",
   "execution_count": 35,
   "id": "9c931f5e",
   "metadata": {},
   "outputs": [],
   "source": [
    "# Temp\n",
    "train_size = len(features_train)\n",
    "valid_size = len(features_valid)"
   ]
  },
  {
   "cell_type": "markdown",
   "id": "818c4dd8",
   "metadata": {},
   "source": [
    "* **train_y** contains the true labels converted to numbers and padded with -1. The length of each label is equal to max_str_len. \n",
    "* **train_label_len** contains the length of each true label (without padding) \n",
    "* **train_input_len** contains the length of each predicted label. The length of all the predicted labels is constant i.e number of timestamps - 2.  \n",
    "* **train_output** is a dummy output for ctc loss. \n"
   ]
  },
  {
   "cell_type": "markdown",
   "id": "f2fa0730",
   "metadata": {},
   "source": [
    "<font color='red'> NOTE :  KEEP IN MIND : Loaded labels contain index of class in `CLASSES_LIST` </font>"
   ]
  },
  {
   "cell_type": "code",
   "execution_count": 57,
   "id": "d6332e56",
   "metadata": {},
   "outputs": [],
   "source": [
    "train_y = np.ones([train_size, max_str_len]) * -1\n",
    "train_label_len = np.zeros([train_size, 1])\n",
    "train_input_len = np.ones([train_size, 1]) * (num_of_timestamps-2)\n",
    "#train_input_len = np.ones([train_size, 1])\n",
    "train_output = np.zeros([train_size])\n",
    "\n",
    "for i in range(train_size):\n",
    "    train_label_len[i] = len(CLASSES_LIST[labels_train[i]])\n",
    "    train_y[i, 0:len(CLASSES_LIST[labels_train[i]])]= label_to_num(CLASSES_LIST[labels_train[i]])"
   ]
  },
  {
   "cell_type": "code",
   "execution_count": 58,
   "id": "602d6030",
   "metadata": {},
   "outputs": [],
   "source": [
    "valid_y = np.ones([valid_size, max_str_len]) * -1\n",
    "valid_label_len = np.zeros([valid_size, 1])\n",
    "valid_input_len = np.ones([valid_size, 1]) * (num_of_timestamps-2)\n",
    "#valid_input_len = np.ones([valid_size, 1])\n",
    "valid_output = np.zeros([valid_size])\n",
    "\n",
    "for i in range(valid_size):\n",
    "    valid_label_len[i] = len(CLASSES_LIST[labels_valid[i]])\n",
    "    valid_y[i, 0:len(CLASSES_LIST[labels_valid[i]])]= label_to_num(CLASSES_LIST[labels_valid[i]])"
   ]
  },
  {
   "cell_type": "code",
   "execution_count": 59,
   "id": "a94a67f3",
   "metadata": {},
   "outputs": [
    {
     "name": "stdout",
     "output_type": "stream",
     "text": [
      "True label :  ہوں \n",
      "train_y :  [36. 34. -1. -1. -1.] \n",
      "train_label_len :  [3.] \n",
      "train_input_len :  [11.]\n",
      "\n",
      "\n"
     ]
    }
   ],
   "source": [
    "# Displaying random results\n",
    "print('True label : ',CLASSES_LIST[labels_train[5]] , '\\ntrain_y : ',train_y[5],'\\ntrain_label_len : ',train_label_len[5], \n",
    "      '\\ntrain_input_len : ', train_input_len[5])\n",
    "print(\"\\n\")\n",
    "#print('True label : ',CLASSES_LIST[labels_valid[50]] , '\\nvalid_y : ',valid_y[50],'\\ntrain_label_len : ',valid_label_len[50], \n",
    "#     '\\ntrain_input_len : ', valid_input_len[50])"
   ]
  },
  {
   "cell_type": "code",
   "execution_count": 60,
   "id": "df5f9fbb",
   "metadata": {
    "scrolled": true
   },
   "outputs": [
    {
     "name": "stdout",
     "output_type": "stream",
     "text": [
      "47\n",
      "[11.]\n",
      "0\n",
      "1\n",
      "2\n",
      "3\n",
      "4\n",
      "5\n",
      "6\n",
      "7\n",
      "8\n",
      "9\n",
      "10\n",
      "11\n",
      "12\n",
      "13\n",
      "14\n",
      "15\n",
      "16\n",
      "17\n",
      "18\n",
      "19\n",
      "20\n",
      "21\n",
      "22\n",
      "23\n",
      "24\n",
      "25\n",
      "26\n",
      "27\n",
      "28\n",
      "29\n",
      "30\n",
      "31\n",
      "32\n",
      "33\n",
      "34\n",
      "35\n",
      "36\n",
      "37\n",
      "38\n",
      "39\n",
      "40\n",
      "41\n",
      "42\n",
      "43\n",
      "44\n",
      "45\n",
      "46\n"
     ]
    }
   ],
   "source": [
    "print(len(train_input_len))\n",
    "for i in train_input_len:\n",
    "    print(i)\n",
    "    break\n",
    "for i in range(0, len(train_output)):\n",
    "    print(i)\n",
    "    if i == 100:\n",
    "        break"
   ]
  },
  {
   "cell_type": "code",
   "execution_count": null,
   "id": "2db8adf6",
   "metadata": {},
   "outputs": [],
   "source": [
    "# initialising array\n",
    "print('Initialised array')\n",
    "gfg = np.array([1, 2, 3, 4])\n",
    "print(gfg)\n",
    "\n",
    "# checking current shape\n",
    "print('current shape of the array')\n",
    "print(gfg.shape)\n",
    "\n",
    "# modifying array according to new dimensions\n",
    "print('changing shape to 2,2')\n",
    "gfg.shape = (2, 2)\n",
    "print(gfg)\n",
    "\n"
   ]
  },
  {
   "cell_type": "markdown",
   "id": "cd9cb6da",
   "metadata": {},
   "source": [
    "## 3. Building and Training Model"
   ]
  },
  {
   "cell_type": "code",
   "execution_count": 197,
   "id": "f82f333d",
   "metadata": {},
   "outputs": [
    {
     "data": {
      "text/plain": [
       "(50, 13, 50, 100, 3)"
      ]
     },
     "execution_count": 197,
     "metadata": {},
     "output_type": "execute_result"
    }
   ],
   "source": [
    "features.shape"
   ]
  },
  {
   "cell_type": "code",
   "execution_count": 198,
   "id": "2bc9d81c",
   "metadata": {},
   "outputs": [
    {
     "data": {
      "text/plain": [
       "40"
      ]
     },
     "execution_count": 198,
     "metadata": {},
     "output_type": "execute_result"
    }
   ],
   "source": [
    "num_of_characters"
   ]
  },
  {
   "cell_type": "code",
   "execution_count": 82,
   "id": "279ffd20",
   "metadata": {},
   "outputs": [
    {
     "data": {
      "text/plain": [
       "(47, 13, 50, 100, 3)"
      ]
     },
     "execution_count": 82,
     "metadata": {},
     "output_type": "execute_result"
    }
   ],
   "source": [
    "features_train.shape"
   ]
  },
  {
   "cell_type": "code",
   "execution_count": 87,
   "id": "a7959c73",
   "metadata": {},
   "outputs": [],
   "source": [
    "train_x = features_train\n",
    "valid_x = features_valid"
   ]
  },
  {
   "cell_type": "code",
   "execution_count": 89,
   "id": "f91e0a44",
   "metadata": {},
   "outputs": [
    {
     "name": "stdout",
     "output_type": "stream",
     "text": [
      "Model: \"model_6\"\n",
      "_________________________________________________________________\n",
      " Layer (type)                Output Shape              Param #   \n",
      "=================================================================\n",
      " input (InputLayer)          [(None, 256, 64, 1)]      0         \n",
      "                                                                 \n",
      " conv1 (Conv2D)              (None, 256, 64, 32)       320       \n",
      "                                                                 \n",
      " batch_normalization (BatchN  (None, 256, 64, 32)      128       \n",
      " ormalization)                                                   \n",
      "                                                                 \n",
      " activation (Activation)     (None, 256, 64, 32)       0         \n",
      "                                                                 \n",
      " max1 (MaxPooling2D)         (None, 128, 32, 32)       0         \n",
      "                                                                 \n",
      " conv2 (Conv2D)              (None, 128, 32, 64)       18496     \n",
      "                                                                 \n",
      " batch_normalization_1 (Batc  (None, 128, 32, 64)      256       \n",
      " hNormalization)                                                 \n",
      "                                                                 \n",
      " activation_1 (Activation)   (None, 128, 32, 64)       0         \n",
      "                                                                 \n",
      " max2 (MaxPooling2D)         (None, 64, 16, 64)        0         \n",
      "                                                                 \n",
      " dropout_9 (Dropout)         (None, 64, 16, 64)        0         \n",
      "                                                                 \n",
      " conv3 (Conv2D)              (None, 64, 16, 128)       73856     \n",
      "                                                                 \n",
      " batch_normalization_2 (Batc  (None, 64, 16, 128)      512       \n",
      " hNormalization)                                                 \n",
      "                                                                 \n",
      " activation_2 (Activation)   (None, 64, 16, 128)       0         \n",
      "                                                                 \n",
      " max3 (MaxPooling2D)         (None, 64, 8, 128)        0         \n",
      "                                                                 \n",
      " dropout_10 (Dropout)        (None, 64, 8, 128)        0         \n",
      "                                                                 \n",
      " reshape (Reshape)           (None, 64, 1024)          0         \n",
      "                                                                 \n",
      " dense1 (Dense)              (None, 64, 64)            65600     \n",
      "                                                                 \n",
      " lstm1 (Bidirectional)       (None, 64, 512)           657408    \n",
      "                                                                 \n",
      " lstm2 (Bidirectional)       (None, 64, 512)           1574912   \n",
      "                                                                 \n",
      " dense2 (Dense)              (None, 64, 40)            20520     \n",
      "                                                                 \n",
      " softmax (Activation)        (None, 64, 40)            0         \n",
      "                                                                 \n",
      "=================================================================\n",
      "Total params: 2,412,008\n",
      "Trainable params: 2,411,560\n",
      "Non-trainable params: 448\n",
      "_________________________________________________________________\n"
     ]
    }
   ],
   "source": [
    "input_data = Input(shape=(256, 64, 1), name='input')\n",
    "\n",
    "inner = Conv2D(32, (3, 3), padding='same', name='conv1', kernel_initializer='he_normal')(input_data)  \n",
    "inner = BatchNormalization()(inner)\n",
    "inner = Activation('relu')(inner)\n",
    "inner = MaxPooling2D(pool_size=(2, 2), name='max1')(inner)\n",
    "\n",
    "inner = Conv2D(64, (3, 3), padding='same', name='conv2', kernel_initializer='he_normal')(inner)\n",
    "inner = BatchNormalization()(inner)\n",
    "inner = Activation('relu')(inner)\n",
    "inner = MaxPooling2D(pool_size=(2, 2), name='max2')(inner)\n",
    "inner = Dropout(0.3)(inner)\n",
    "\n",
    "inner = Conv2D(128, (3, 3), padding='same', name='conv3', kernel_initializer='he_normal')(inner)\n",
    "inner = BatchNormalization()(inner)\n",
    "inner = Activation('relu')(inner)\n",
    "inner = MaxPooling2D(pool_size=(1, 2), name='max3')(inner)\n",
    "inner = Dropout(0.3)(inner)\n",
    "\n",
    "# CNN to RNN\n",
    "inner = Reshape(target_shape=((64, 1024)), name='reshape')(inner)\n",
    "inner = Dense(64, activation='relu', kernel_initializer='he_normal', name='dense1')(inner)\n",
    "\n",
    "## RNN\n",
    "inner = Bidirectional(LSTM(256, return_sequences=True), name = 'lstm1')(inner)\n",
    "inner = Bidirectional(LSTM(256, return_sequences=True), name = 'lstm2')(inner)\n",
    "\n",
    "## OUTPUT\n",
    "inner = Dense(num_of_characters, kernel_initializer='he_normal',name='dense2')(inner)\n",
    "y_pred = Activation('softmax', name='softmax')(inner)\n",
    "\n",
    "model = Model(inputs=input_data, outputs=y_pred)\n",
    "model.summary()"
   ]
  },
  {
   "cell_type": "code",
   "execution_count": 100,
   "id": "96e63ffd",
   "metadata": {},
   "outputs": [
    {
     "ename": "ValueError",
     "evalue": "Input 0 of layer \"max1\" is incompatible with the layer: expected ndim=4, found ndim=6. Full shape received: (None, 13, 13, 50, 100, 32)",
     "output_type": "error",
     "traceback": [
      "\u001b[1;31m---------------------------------------------------------------------------\u001b[0m",
      "\u001b[1;31mValueError\u001b[0m                                Traceback (most recent call last)",
      "Cell \u001b[1;32mIn [100], line 6\u001b[0m\n\u001b[0;32m      4\u001b[0m inner \u001b[38;5;241m=\u001b[39m BatchNormalization()(inner)\n\u001b[0;32m      5\u001b[0m inner \u001b[38;5;241m=\u001b[39m Activation(\u001b[38;5;124m'\u001b[39m\u001b[38;5;124mrelu\u001b[39m\u001b[38;5;124m'\u001b[39m)(inner)\n\u001b[1;32m----> 6\u001b[0m inner \u001b[38;5;241m=\u001b[39m \u001b[43mMaxPooling2D\u001b[49m\u001b[43m(\u001b[49m\u001b[43mpool_size\u001b[49m\u001b[38;5;241;43m=\u001b[39;49m\u001b[43m(\u001b[49m\u001b[38;5;241;43m2\u001b[39;49m\u001b[43m,\u001b[49m\u001b[43m \u001b[49m\u001b[38;5;241;43m2\u001b[39;49m\u001b[43m)\u001b[49m\u001b[43m,\u001b[49m\u001b[43m \u001b[49m\u001b[43mname\u001b[49m\u001b[38;5;241;43m=\u001b[39;49m\u001b[38;5;124;43m'\u001b[39;49m\u001b[38;5;124;43mmax1\u001b[39;49m\u001b[38;5;124;43m'\u001b[39;49m\u001b[43m)\u001b[49m\u001b[43m(\u001b[49m\u001b[43minner\u001b[49m\u001b[43m)\u001b[49m\n\u001b[0;32m      8\u001b[0m inner \u001b[38;5;241m=\u001b[39m Conv2D(\u001b[38;5;241m64\u001b[39m, (\u001b[38;5;241m3\u001b[39m, \u001b[38;5;241m3\u001b[39m), padding\u001b[38;5;241m=\u001b[39m\u001b[38;5;124m'\u001b[39m\u001b[38;5;124msame\u001b[39m\u001b[38;5;124m'\u001b[39m, name\u001b[38;5;241m=\u001b[39m\u001b[38;5;124m'\u001b[39m\u001b[38;5;124mconv2\u001b[39m\u001b[38;5;124m'\u001b[39m, kernel_initializer\u001b[38;5;241m=\u001b[39m\u001b[38;5;124m'\u001b[39m\u001b[38;5;124mhe_normal\u001b[39m\u001b[38;5;124m'\u001b[39m)(inner)\n\u001b[0;32m      9\u001b[0m inner \u001b[38;5;241m=\u001b[39m BatchNormalization()(inner)\n",
      "File \u001b[1;32m~\\AppData\\Local\\Programs\\Python\\Python39\\lib\\site-packages\\keras\\utils\\traceback_utils.py:70\u001b[0m, in \u001b[0;36mfilter_traceback.<locals>.error_handler\u001b[1;34m(*args, **kwargs)\u001b[0m\n\u001b[0;32m     67\u001b[0m     filtered_tb \u001b[38;5;241m=\u001b[39m _process_traceback_frames(e\u001b[38;5;241m.\u001b[39m__traceback__)\n\u001b[0;32m     68\u001b[0m     \u001b[38;5;66;03m# To get the full stack trace, call:\u001b[39;00m\n\u001b[0;32m     69\u001b[0m     \u001b[38;5;66;03m# `tf.debugging.disable_traceback_filtering()`\u001b[39;00m\n\u001b[1;32m---> 70\u001b[0m     \u001b[38;5;28;01mraise\u001b[39;00m e\u001b[38;5;241m.\u001b[39mwith_traceback(filtered_tb) \u001b[38;5;28;01mfrom\u001b[39;00m \u001b[38;5;28mNone\u001b[39m\n\u001b[0;32m     71\u001b[0m \u001b[38;5;28;01mfinally\u001b[39;00m:\n\u001b[0;32m     72\u001b[0m     \u001b[38;5;28;01mdel\u001b[39;00m filtered_tb\n",
      "File \u001b[1;32m~\\AppData\\Local\\Programs\\Python\\Python39\\lib\\site-packages\\keras\\engine\\input_spec.py:232\u001b[0m, in \u001b[0;36massert_input_compatibility\u001b[1;34m(input_spec, inputs, layer_name)\u001b[0m\n\u001b[0;32m    230\u001b[0m     ndim \u001b[38;5;241m=\u001b[39m shape\u001b[38;5;241m.\u001b[39mrank\n\u001b[0;32m    231\u001b[0m     \u001b[38;5;28;01mif\u001b[39;00m ndim \u001b[38;5;241m!=\u001b[39m spec\u001b[38;5;241m.\u001b[39mndim:\n\u001b[1;32m--> 232\u001b[0m         \u001b[38;5;28;01mraise\u001b[39;00m \u001b[38;5;167;01mValueError\u001b[39;00m(\n\u001b[0;32m    233\u001b[0m             \u001b[38;5;124mf\u001b[39m\u001b[38;5;124m'\u001b[39m\u001b[38;5;124mInput \u001b[39m\u001b[38;5;132;01m{\u001b[39;00minput_index\u001b[38;5;132;01m}\u001b[39;00m\u001b[38;5;124m of layer \u001b[39m\u001b[38;5;124m\"\u001b[39m\u001b[38;5;132;01m{\u001b[39;00mlayer_name\u001b[38;5;132;01m}\u001b[39;00m\u001b[38;5;124m\"\u001b[39m\u001b[38;5;124m \u001b[39m\u001b[38;5;124m'\u001b[39m\n\u001b[0;32m    234\u001b[0m             \u001b[38;5;124m\"\u001b[39m\u001b[38;5;124mis incompatible with the layer: \u001b[39m\u001b[38;5;124m\"\u001b[39m\n\u001b[0;32m    235\u001b[0m             \u001b[38;5;124mf\u001b[39m\u001b[38;5;124m\"\u001b[39m\u001b[38;5;124mexpected ndim=\u001b[39m\u001b[38;5;132;01m{\u001b[39;00mspec\u001b[38;5;241m.\u001b[39mndim\u001b[38;5;132;01m}\u001b[39;00m\u001b[38;5;124m, found ndim=\u001b[39m\u001b[38;5;132;01m{\u001b[39;00mndim\u001b[38;5;132;01m}\u001b[39;00m\u001b[38;5;124m. \u001b[39m\u001b[38;5;124m\"\u001b[39m\n\u001b[0;32m    236\u001b[0m             \u001b[38;5;124mf\u001b[39m\u001b[38;5;124m\"\u001b[39m\u001b[38;5;124mFull shape received: \u001b[39m\u001b[38;5;132;01m{\u001b[39;00m\u001b[38;5;28mtuple\u001b[39m(shape)\u001b[38;5;132;01m}\u001b[39;00m\u001b[38;5;124m\"\u001b[39m\n\u001b[0;32m    237\u001b[0m         )\n\u001b[0;32m    238\u001b[0m \u001b[38;5;28;01mif\u001b[39;00m spec\u001b[38;5;241m.\u001b[39mmax_ndim \u001b[38;5;129;01mis\u001b[39;00m \u001b[38;5;129;01mnot\u001b[39;00m \u001b[38;5;28;01mNone\u001b[39;00m:\n\u001b[0;32m    239\u001b[0m     ndim \u001b[38;5;241m=\u001b[39m x\u001b[38;5;241m.\u001b[39mshape\u001b[38;5;241m.\u001b[39mrank\n",
      "\u001b[1;31mValueError\u001b[0m: Input 0 of layer \"max1\" is incompatible with the layer: expected ndim=4, found ndim=6. Full shape received: (None, 13, 13, 50, 100, 32)"
     ]
    }
   ],
   "source": [
    "input_data = Input(shape=(SEQUENCE_LENGTH, 13,50,100,3), name='input')\n",
    "\n",
    "inner = Conv2D(32, (3, 3), padding='same', name='conv1', kernel_initializer='he_normal')(input_data)  \n",
    "inner = BatchNormalization()(inner)\n",
    "inner = Activation('relu')(inner)\n",
    "inner = MaxPooling2D(pool_size=(2, 2), name='max1')(inner)\n",
    "\n",
    "inner = Conv2D(64, (3, 3), padding='same', name='conv2', kernel_initializer='he_normal')(inner)\n",
    "inner = BatchNormalization()(inner)\n",
    "inner = Activation('relu')(inner)\n",
    "inner = MaxPooling2D(pool_size=(2, 2), name='max2')(inner)\n",
    "inner = Dropout(0.3)(inner)\n",
    "\n",
    "inner = Conv2D(128, (3, 3), padding='same', name='conv3', kernel_initializer='he_normal')(inner)\n",
    "inner = BatchNormalization()(inner)\n",
    "inner = Activation('relu')(inner)\n",
    "inner = MaxPooling2D(pool_size=(1, 2), name='max3')(inner)\n",
    "inner = Dropout(0.3)(inner)\n",
    "\n",
    "# CNN to RNN\n",
    "inner = Reshape(target_shape=((64, 1024)), name='reshape')(inner)\n",
    "inner = Dense(64, activation='relu', kernel_initializer='he_normal', name='dense1')(inner)\n",
    "\n",
    "## RNN\n",
    "inner = Bidirectional(LSTM(256, return_sequences=True), name = 'lstm1')(inner)\n",
    "inner = Bidirectional(LSTM(256, return_sequences=True), name = 'lstm2')(inner)\n",
    "\n",
    "## OUTPUT\n",
    "inner = Dense(num_of_characters, kernel_initializer='he_normal',name='dense2')(inner)\n",
    "y_pred = Activation('softmax', name='softmax')(inner)\n",
    "\n",
    "model = Model(inputs=input_data, outputs=y_pred)\n",
    "model.summary()"
   ]
  },
  {
   "cell_type": "code",
   "execution_count": 96,
   "id": "a902941e",
   "metadata": {},
   "outputs": [],
   "source": [
    "from tensorflow.keras import backend as K\n",
    "\n",
    "# the ctc loss function\n",
    "def ctc_lambda_func(args):\n",
    "    y_pred, labels, input_length, label_length = args\n",
    "    # the 2 is critical here since the first couple outputs of the RNN\n",
    "    # tend to be garbage\n",
    "    y_pred = y_pred[:, 2:, :]\n",
    "    y_pred = y_pred[:, :, :]\n",
    "    return K.ctc_batch_cost(labels, y_pred, input_length, label_length)"
   ]
  },
  {
   "cell_type": "code",
   "execution_count": 97,
   "id": "aa1a0fda",
   "metadata": {},
   "outputs": [],
   "source": [
    "labels = Input(name='gtruth_labels', shape=[max_str_len], dtype='float32')\n",
    "input_length = Input(name='input_length', shape=[1], dtype='int64')\n",
    "label_length = Input(name='label_length', shape=[1], dtype='int64')\n",
    "\n",
    "ctc_loss = Lambda(ctc_lambda_func, output_shape=(1,), name='ctc')([y_pred, labels, input_length, label_length])\n",
    "model_final = Model(inputs=[input_data, labels, input_length, label_length], outputs=ctc_loss)"
   ]
  },
  {
   "cell_type": "markdown",
   "id": "37e2e7d9",
   "metadata": {},
   "source": [
    "#### Training the model"
   ]
  },
  {
   "cell_type": "code",
   "execution_count": 98,
   "id": "00cea226",
   "metadata": {},
   "outputs": [],
   "source": [
    "labels = Input(name='gtruth_labels', shape=[max_str_len], dtype='float32')\n",
    "input_length = Input(name='input_length', shape=[1], dtype='int64')\n",
    "label_length = Input(name='label_length', shape=[1], dtype='int64')"
   ]
  },
  {
   "cell_type": "code",
   "execution_count": null,
   "id": "3af84edc",
   "metadata": {},
   "outputs": [],
   "source": []
  },
  {
   "cell_type": "code",
   "execution_count": 99,
   "id": "b02b01d4",
   "metadata": {},
   "outputs": [
    {
     "name": "stdout",
     "output_type": "stream",
     "text": [
      "Epoch 1/60\n"
     ]
    },
    {
     "ename": "ValueError",
     "evalue": "in user code:\n\n    File \"C:\\Users\\ibrah\\AppData\\Local\\Programs\\Python\\Python39\\lib\\site-packages\\keras\\engine\\training.py\", line 1160, in train_function  *\n        return step_function(self, iterator)\n    File \"C:\\Users\\ibrah\\AppData\\Local\\Programs\\Python\\Python39\\lib\\site-packages\\keras\\engine\\training.py\", line 1146, in step_function  **\n        outputs = model.distribute_strategy.run(run_step, args=(data,))\n    File \"C:\\Users\\ibrah\\AppData\\Local\\Programs\\Python\\Python39\\lib\\site-packages\\keras\\engine\\training.py\", line 1135, in run_step  **\n        outputs = model.train_step(data)\n    File \"C:\\Users\\ibrah\\AppData\\Local\\Programs\\Python\\Python39\\lib\\site-packages\\keras\\engine\\training.py\", line 993, in train_step\n        y_pred = self(x, training=True)\n    File \"C:\\Users\\ibrah\\AppData\\Local\\Programs\\Python\\Python39\\lib\\site-packages\\keras\\utils\\traceback_utils.py\", line 70, in error_handler\n        raise e.with_traceback(filtered_tb) from None\n    File \"C:\\Users\\ibrah\\AppData\\Local\\Programs\\Python\\Python39\\lib\\site-packages\\keras\\engine\\input_spec.py\", line 295, in assert_input_compatibility\n        raise ValueError(\n\n    ValueError: Input 0 of layer \"model_10\" is incompatible with the layer: expected shape=(None, 256, 64, 1), found shape=(None, 13, 50, 100, 3)\n",
     "output_type": "error",
     "traceback": [
      "\u001b[1;31m---------------------------------------------------------------------------\u001b[0m",
      "\u001b[1;31mValueError\u001b[0m                                Traceback (most recent call last)",
      "Cell \u001b[1;32mIn [99], line 4\u001b[0m\n\u001b[0;32m      1\u001b[0m \u001b[38;5;66;03m# the loss calculation occurs elsewhere, so we use a dummy lambda function for the loss\u001b[39;00m\n\u001b[0;32m      2\u001b[0m model_final\u001b[38;5;241m.\u001b[39mcompile(loss\u001b[38;5;241m=\u001b[39m{\u001b[38;5;124m'\u001b[39m\u001b[38;5;124mctc\u001b[39m\u001b[38;5;124m'\u001b[39m: \u001b[38;5;28;01mlambda\u001b[39;00m y_true, y_pred: y_pred}, optimizer\u001b[38;5;241m=\u001b[39mAdam(lr \u001b[38;5;241m=\u001b[39m \u001b[38;5;241m0.0001\u001b[39m))\n\u001b[1;32m----> 4\u001b[0m \u001b[43mmodel_final\u001b[49m\u001b[38;5;241;43m.\u001b[39;49m\u001b[43mfit\u001b[49m\u001b[43m(\u001b[49m\u001b[43mx\u001b[49m\u001b[38;5;241;43m=\u001b[39;49m\u001b[43m[\u001b[49m\u001b[43mtrain_x\u001b[49m\u001b[43m,\u001b[49m\u001b[43m \u001b[49m\u001b[43mtrain_y\u001b[49m\u001b[43m,\u001b[49m\u001b[43m \u001b[49m\u001b[43mtrain_input_len\u001b[49m\u001b[43m,\u001b[49m\u001b[43m \u001b[49m\u001b[43mtrain_label_len\u001b[49m\u001b[43m]\u001b[49m\u001b[43m,\u001b[49m\u001b[43m \u001b[49m\u001b[43my\u001b[49m\u001b[38;5;241;43m=\u001b[39;49m\u001b[43mtrain_output\u001b[49m\u001b[43m,\u001b[49m\u001b[43m \u001b[49m\n\u001b[0;32m      5\u001b[0m \u001b[43m                \u001b[49m\u001b[43mvalidation_data\u001b[49m\u001b[38;5;241;43m=\u001b[39;49m\u001b[43m(\u001b[49m\u001b[43m[\u001b[49m\u001b[43mvalid_x\u001b[49m\u001b[43m,\u001b[49m\u001b[43m \u001b[49m\u001b[43mvalid_y\u001b[49m\u001b[43m,\u001b[49m\u001b[43m \u001b[49m\u001b[43mvalid_input_len\u001b[49m\u001b[43m,\u001b[49m\u001b[43m \u001b[49m\u001b[43mvalid_label_len\u001b[49m\u001b[43m]\u001b[49m\u001b[43m,\u001b[49m\u001b[43m \u001b[49m\u001b[43mvalid_output\u001b[49m\u001b[43m)\u001b[49m\u001b[43m,\u001b[49m\n\u001b[0;32m      6\u001b[0m \u001b[43m                \u001b[49m\u001b[43mepochs\u001b[49m\u001b[38;5;241;43m=\u001b[39;49m\u001b[38;5;241;43m60\u001b[39;49m\u001b[43m,\u001b[49m\u001b[43m \u001b[49m\u001b[43mbatch_size\u001b[49m\u001b[38;5;241;43m=\u001b[39;49m\u001b[38;5;241;43m32\u001b[39;49m\u001b[43m)\u001b[49m\n",
      "File \u001b[1;32m~\\AppData\\Local\\Programs\\Python\\Python39\\lib\\site-packages\\keras\\utils\\traceback_utils.py:70\u001b[0m, in \u001b[0;36mfilter_traceback.<locals>.error_handler\u001b[1;34m(*args, **kwargs)\u001b[0m\n\u001b[0;32m     67\u001b[0m     filtered_tb \u001b[38;5;241m=\u001b[39m _process_traceback_frames(e\u001b[38;5;241m.\u001b[39m__traceback__)\n\u001b[0;32m     68\u001b[0m     \u001b[38;5;66;03m# To get the full stack trace, call:\u001b[39;00m\n\u001b[0;32m     69\u001b[0m     \u001b[38;5;66;03m# `tf.debugging.disable_traceback_filtering()`\u001b[39;00m\n\u001b[1;32m---> 70\u001b[0m     \u001b[38;5;28;01mraise\u001b[39;00m e\u001b[38;5;241m.\u001b[39mwith_traceback(filtered_tb) \u001b[38;5;28;01mfrom\u001b[39;00m \u001b[38;5;28mNone\u001b[39m\n\u001b[0;32m     71\u001b[0m \u001b[38;5;28;01mfinally\u001b[39;00m:\n\u001b[0;32m     72\u001b[0m     \u001b[38;5;28;01mdel\u001b[39;00m filtered_tb\n",
      "File \u001b[1;32m~\\AppData\\Local\\Temp\\__autograph_generated_fileon9ouqib.py:15\u001b[0m, in \u001b[0;36mouter_factory.<locals>.inner_factory.<locals>.tf__train_function\u001b[1;34m(iterator)\u001b[0m\n\u001b[0;32m     13\u001b[0m \u001b[38;5;28;01mtry\u001b[39;00m:\n\u001b[0;32m     14\u001b[0m     do_return \u001b[38;5;241m=\u001b[39m \u001b[38;5;28;01mTrue\u001b[39;00m\n\u001b[1;32m---> 15\u001b[0m     retval_ \u001b[38;5;241m=\u001b[39m ag__\u001b[38;5;241m.\u001b[39mconverted_call(ag__\u001b[38;5;241m.\u001b[39mld(step_function), (ag__\u001b[38;5;241m.\u001b[39mld(\u001b[38;5;28mself\u001b[39m), ag__\u001b[38;5;241m.\u001b[39mld(iterator)), \u001b[38;5;28;01mNone\u001b[39;00m, fscope)\n\u001b[0;32m     16\u001b[0m \u001b[38;5;28;01mexcept\u001b[39;00m:\n\u001b[0;32m     17\u001b[0m     do_return \u001b[38;5;241m=\u001b[39m \u001b[38;5;28;01mFalse\u001b[39;00m\n",
      "\u001b[1;31mValueError\u001b[0m: in user code:\n\n    File \"C:\\Users\\ibrah\\AppData\\Local\\Programs\\Python\\Python39\\lib\\site-packages\\keras\\engine\\training.py\", line 1160, in train_function  *\n        return step_function(self, iterator)\n    File \"C:\\Users\\ibrah\\AppData\\Local\\Programs\\Python\\Python39\\lib\\site-packages\\keras\\engine\\training.py\", line 1146, in step_function  **\n        outputs = model.distribute_strategy.run(run_step, args=(data,))\n    File \"C:\\Users\\ibrah\\AppData\\Local\\Programs\\Python\\Python39\\lib\\site-packages\\keras\\engine\\training.py\", line 1135, in run_step  **\n        outputs = model.train_step(data)\n    File \"C:\\Users\\ibrah\\AppData\\Local\\Programs\\Python\\Python39\\lib\\site-packages\\keras\\engine\\training.py\", line 993, in train_step\n        y_pred = self(x, training=True)\n    File \"C:\\Users\\ibrah\\AppData\\Local\\Programs\\Python\\Python39\\lib\\site-packages\\keras\\utils\\traceback_utils.py\", line 70, in error_handler\n        raise e.with_traceback(filtered_tb) from None\n    File \"C:\\Users\\ibrah\\AppData\\Local\\Programs\\Python\\Python39\\lib\\site-packages\\keras\\engine\\input_spec.py\", line 295, in assert_input_compatibility\n        raise ValueError(\n\n    ValueError: Input 0 of layer \"model_10\" is incompatible with the layer: expected shape=(None, 256, 64, 1), found shape=(None, 13, 50, 100, 3)\n"
     ]
    }
   ],
   "source": [
    "# the loss calculation occurs elsewhere, so we use a dummy lambda function for the loss\n",
    "model_final.compile(loss={'ctc': lambda y_true, y_pred: y_pred}, optimizer=Adam(lr = 0.0001))\n",
    "\n",
    "model_final.fit(x=[train_x, train_y, train_input_len, train_label_len], y=train_output, \n",
    "                validation_data=([valid_x, valid_y, valid_input_len, valid_label_len], valid_output),\n",
    "                epochs=60, batch_size=32)"
   ]
  },
  {
   "cell_type": "code",
   "execution_count": 206,
   "id": "1b914b6f",
   "metadata": {},
   "outputs": [
    {
     "name": "stdout",
     "output_type": "stream",
     "text": [
      "Model: \"model_22\"\n",
      "__________________________________________________________________________________________________\n",
      " Layer (type)                   Output Shape         Param #     Connected to                     \n",
      "==================================================================================================\n",
      " input (InputLayer)             [(None, 13, 50, 100  0           []                               \n",
      "                                , 3)]                                                             \n",
      "                                                                                                  \n",
      " time_distributed_132 (TimeDist  (None, 13, 48, 98,   448        ['input[0][0]']                  \n",
      " ributed)                       16)                                                               \n",
      "                                                                                                  \n",
      " time_distributed_133 (TimeDist  (None, 13, 24, 49,   0          ['time_distributed_132[0][0]']   \n",
      " ributed)                       16)                                                               \n",
      "                                                                                                  \n",
      " time_distributed_134 (TimeDist  (None, 13, 24, 49,   0          ['time_distributed_133[0][0]']   \n",
      " ributed)                       16)                                                               \n",
      "                                                                                                  \n",
      " time_distributed_135 (TimeDist  (None, 13, 22, 47,   4640       ['time_distributed_134[0][0]']   \n",
      " ributed)                       32)                                                               \n",
      "                                                                                                  \n",
      " time_distributed_136 (TimeDist  (None, 13, 11, 23,   0          ['time_distributed_135[0][0]']   \n",
      " ributed)                       32)                                                               \n",
      "                                                                                                  \n",
      " time_distributed_137 (TimeDist  (None, 13, 11, 23,   0          ['time_distributed_136[0][0]']   \n",
      " ributed)                       32)                                                               \n",
      "                                                                                                  \n",
      " time_distributed_138 (TimeDist  (None, 13, 9, 21, 6  18496      ['time_distributed_137[0][0]']   \n",
      " ributed)                       4)                                                                \n",
      "                                                                                                  \n",
      " time_distributed_139 (TimeDist  (None, 13, 4, 10, 6  0          ['time_distributed_138[0][0]']   \n",
      " ributed)                       4)                                                                \n",
      "                                                                                                  \n",
      " time_distributed_140 (TimeDist  (None, 13, 4, 10, 6  0          ['time_distributed_139[0][0]']   \n",
      " ributed)                       4)                                                                \n",
      "                                                                                                  \n",
      " time_distributed_141 (TimeDist  (None, 13, 2, 8, 64  36928      ['time_distributed_140[0][0]']   \n",
      " ributed)                       )                                                                 \n",
      "                                                                                                  \n",
      " time_distributed_142 (TimeDist  (None, 13, 1, 4, 64  0          ['time_distributed_141[0][0]']   \n",
      " ributed)                       )                                                                 \n",
      "                                                                                                  \n",
      " time_distributed_143 (TimeDist  (None, 13, 256)     0           ['time_distributed_142[0][0]']   \n",
      " ributed)                                                                                         \n",
      "                                                                                                  \n",
      " lstm_11 (LSTM)                 (None, 13, 32)       36992       ['time_distributed_143[0][0]']   \n",
      "                                                                                                  \n",
      " dense_11 (Dense)               (None, 13, 40)       1320        ['lstm_11[0][0]']                \n",
      "                                                                                                  \n",
      " gtruth_labels (InputLayer)     [(None, 5)]          0           []                               \n",
      "                                                                                                  \n",
      " input_length (InputLayer)      [(None, 1)]          0           []                               \n",
      "                                                                                                  \n",
      " label_length (InputLayer)      [(None, 1)]          0           []                               \n",
      "                                                                                                  \n",
      " ctc (Lambda)                   (None, 1)            0           ['dense_11[0][0]',               \n",
      "                                                                  'gtruth_labels[0][0]',          \n",
      "                                                                  'input_length[0][0]',           \n",
      "                                                                  'label_length[0][0]']           \n",
      "                                                                                                  \n",
      "==================================================================================================\n",
      "Total params: 98,824\n",
      "Trainable params: 98,824\n",
      "Non-trainable params: 0\n",
      "__________________________________________________________________________________________________\n"
     ]
    }
   ],
   "source": [
    "model_final.summary()"
   ]
  },
  {
   "cell_type": "raw",
   "id": "17999130",
   "metadata": {},
   "source": [
    "#def create_LRCN_model():\n",
    "'''\n",
    "This function will construct the required LRCN model.\n",
    "Returns:\n",
    "model: It is the required constructed LRCN model.\n",
    "'''\n",
    "\n",
    "# We will use a Sequential model for model construction.\n",
    "model = Sequential()\n",
    "\n",
    "# Define the Model Architecture.\n",
    "########################################################################################################################\n",
    "\n",
    "model.add(TimeDistributed(Conv2D(16, (3, 3), padding='valid',activation = 'relu'),\n",
    "                  input_shape = (SEQUENCE_LENGTH, IMAGE_HEIGHT, IMAGE_WIDTH, 3)))\n",
    "\n",
    "model.add(TimeDistributed(MaxPooling2D((2, 2)))) \n",
    "model.add(TimeDistributed(Dropout(0.25)))\n",
    "\n",
    "model.add(TimeDistributed(Conv2D(32, (3, 3), padding='valid',activation = 'relu')))\n",
    "model.add(TimeDistributed(MaxPooling2D((2, 2))))\n",
    "model.add(TimeDistributed(Dropout(0.25)))\n",
    "\n",
    "model.add(TimeDistributed(Conv2D(64, (3, 3), padding='valid',activation = 'relu')))\n",
    "model.add(TimeDistributed(MaxPooling2D((2, 2))))\n",
    "model.add(TimeDistributed(Dropout(0.25)))\n",
    "\n",
    "model.add(TimeDistributed(Conv2D(64, (3, 3), padding='valid',activation = 'relu')))\n",
    "model.add(TimeDistributed(MaxPooling2D((2, 2))))\n",
    "#model.add(TimeDistributed(Dropout(0.25)))\n",
    "\n",
    "model.add(TimeDistributed(Flatten()))\n",
    "\n",
    "model.add(LSTM(32))\n",
    "#model.add(Bidirectional(LSTM(32)))\n",
    "\n",
    "model.add(Dense(len(CLASSES_LIST), activation = 'softmax'))\n",
    "\n",
    "########################################################################################################################\n",
    "\n",
    "# Display the models summary.\n",
    "model.summary()\n",
    "\n",
    "# Return the constructed LRCN model.\n",
    "#return model"
   ]
  },
  {
   "cell_type": "raw",
   "id": "59e8fc36",
   "metadata": {},
   "source": [
    "# Construct the required LRCN model.\n",
    "#LRCN_model = create_LRCN_model()\n",
    "\n",
    "# Display the success message.\n",
    "print(\"Model Created Successfully!\")"
   ]
  },
  {
   "cell_type": "markdown",
   "id": "98f8eeef",
   "metadata": {},
   "source": [
    "def ctc_loss(y_true, y_pred, input_length, label_length, real_y_true_ts):\n",
    "    return tf.keras.backend.ctc_batch_cost(real_y_true_ts, y_pred, input_length, label_length)"
   ]
  },
  {
   "cell_type": "code",
   "execution_count": 30,
   "id": "d03463af",
   "metadata": {},
   "outputs": [],
   "source": [
    "#LRCN_model.load_weights(\"Oversampled_Weights/LRCN_urdu_model_s6_firsthalf_Oversampled_Date_Time_2023_04_02__21_33_19___Loss_0.5217263102531433___Accuracy_0.8235294222831726.h5\")\n",
    "\n",
    "# Create an Instance of Early Stopping Callback.\n",
    "#early_stopping_callback = EarlyStopping(monitor = 'val_loss', patience = 15, mode = 'min', restore_best_weights = True)\n",
    " \n",
    "# Compile the model and specify loss function, optimizer and metrics to the model.\n",
    "#LRCN_model.compile(loss = 'categorical_crossentropy', optimizer = 'Adam', metrics = [\"accuracy\"])"
   ]
  },
  {
   "cell_type": "code",
   "execution_count": 31,
   "id": "a2e45a8a",
   "metadata": {
    "collapsed": true
   },
   "outputs": [
    {
     "name": "stdout",
     "output_type": "stream",
     "text": [
      "Epoch 1/300\n",
      "214/214 [==============================] - 10s 17ms/step - loss: 3.3112 - accuracy: 0.0246 - val_loss: 3.3001 - val_accuracy: 0.0211\n",
      "Epoch 2/300\n",
      "214/214 [==============================] - 3s 12ms/step - loss: 3.2965 - accuracy: 0.0292 - val_loss: 3.2944 - val_accuracy: 0.0105\n",
      "Epoch 3/300\n",
      "214/214 [==============================] - 3s 12ms/step - loss: 3.2812 - accuracy: 0.0526 - val_loss: 3.2649 - val_accuracy: 0.0316\n",
      "Epoch 4/300\n",
      "214/214 [==============================] - 3s 12ms/step - loss: 3.2380 - accuracy: 0.0608 - val_loss: 3.2258 - val_accuracy: 0.0632\n",
      "Epoch 5/300\n",
      "214/214 [==============================] - 3s 12ms/step - loss: 3.1852 - accuracy: 0.0901 - val_loss: 3.1352 - val_accuracy: 0.1158\n",
      "Epoch 6/300\n",
      "214/214 [==============================] - 3s 12ms/step - loss: 3.1162 - accuracy: 0.0936 - val_loss: 3.1034 - val_accuracy: 0.1263\n",
      "Epoch 7/300\n",
      "214/214 [==============================] - 3s 12ms/step - loss: 3.0499 - accuracy: 0.1275 - val_loss: 3.0620 - val_accuracy: 0.1684\n",
      "Epoch 8/300\n",
      "214/214 [==============================] - 3s 12ms/step - loss: 2.9799 - accuracy: 0.1392 - val_loss: 3.0267 - val_accuracy: 0.1789\n",
      "Epoch 9/300\n",
      "214/214 [==============================] - 3s 12ms/step - loss: 2.9023 - accuracy: 0.1591 - val_loss: 3.0498 - val_accuracy: 0.2105\n",
      "Epoch 10/300\n",
      "214/214 [==============================] - 3s 12ms/step - loss: 2.8427 - accuracy: 0.1848 - val_loss: 3.0418 - val_accuracy: 0.1789\n",
      "Epoch 11/300\n",
      "214/214 [==============================] - 3s 12ms/step - loss: 2.7559 - accuracy: 0.2152 - val_loss: 3.0333 - val_accuracy: 0.1895\n",
      "Epoch 12/300\n",
      "214/214 [==============================] - 3s 12ms/step - loss: 2.7001 - accuracy: 0.2339 - val_loss: 3.0179 - val_accuracy: 0.1789\n",
      "Epoch 13/300\n",
      "214/214 [==============================] - 3s 12ms/step - loss: 2.6381 - accuracy: 0.2491 - val_loss: 3.0110 - val_accuracy: 0.1895\n",
      "Epoch 14/300\n",
      "214/214 [==============================] - 3s 12ms/step - loss: 2.5632 - accuracy: 0.2667 - val_loss: 2.9721 - val_accuracy: 0.2105\n",
      "Epoch 15/300\n",
      "214/214 [==============================] - 3s 12ms/step - loss: 2.5029 - accuracy: 0.2678 - val_loss: 3.0027 - val_accuracy: 0.1579\n",
      "Epoch 16/300\n",
      "214/214 [==============================] - 3s 12ms/step - loss: 2.4302 - accuracy: 0.2901 - val_loss: 3.0095 - val_accuracy: 0.2105\n",
      "Epoch 17/300\n",
      "214/214 [==============================] - 3s 12ms/step - loss: 2.3556 - accuracy: 0.3216 - val_loss: 2.9186 - val_accuracy: 0.2526\n",
      "Epoch 18/300\n",
      "214/214 [==============================] - 3s 12ms/step - loss: 2.2920 - accuracy: 0.3287 - val_loss: 3.0329 - val_accuracy: 0.2421\n",
      "Epoch 19/300\n",
      "214/214 [==============================] - 3s 12ms/step - loss: 2.2231 - accuracy: 0.3567 - val_loss: 3.0563 - val_accuracy: 0.2421\n",
      "Epoch 20/300\n",
      "214/214 [==============================] - 3s 12ms/step - loss: 2.1523 - accuracy: 0.3918 - val_loss: 3.0011 - val_accuracy: 0.2842\n",
      "Epoch 21/300\n",
      "214/214 [==============================] - 3s 12ms/step - loss: 2.0916 - accuracy: 0.4058 - val_loss: 2.9535 - val_accuracy: 0.2737\n",
      "Epoch 22/300\n",
      "214/214 [==============================] - 3s 12ms/step - loss: 2.0488 - accuracy: 0.4187 - val_loss: 3.0262 - val_accuracy: 0.2947\n",
      "Epoch 23/300\n",
      "214/214 [==============================] - 3s 12ms/step - loss: 1.9764 - accuracy: 0.4304 - val_loss: 3.0615 - val_accuracy: 0.2211\n",
      "Epoch 24/300\n",
      "214/214 [==============================] - 3s 12ms/step - loss: 1.9261 - accuracy: 0.4561 - val_loss: 3.1036 - val_accuracy: 0.2211\n",
      "Epoch 25/300\n",
      "214/214 [==============================] - 3s 12ms/step - loss: 1.8401 - accuracy: 0.4819 - val_loss: 3.1298 - val_accuracy: 0.2947\n",
      "Epoch 26/300\n",
      "214/214 [==============================] - 3s 12ms/step - loss: 1.7841 - accuracy: 0.4924 - val_loss: 3.0549 - val_accuracy: 0.2842\n",
      "Epoch 27/300\n",
      "214/214 [==============================] - 3s 12ms/step - loss: 1.7342 - accuracy: 0.5111 - val_loss: 3.1336 - val_accuracy: 0.2316\n",
      "Epoch 28/300\n",
      "214/214 [==============================] - 3s 12ms/step - loss: 1.6911 - accuracy: 0.5193 - val_loss: 3.2635 - val_accuracy: 0.2526\n",
      "Epoch 29/300\n",
      "214/214 [==============================] - 3s 12ms/step - loss: 1.6272 - accuracy: 0.5415 - val_loss: 3.1254 - val_accuracy: 0.2947\n",
      "Epoch 30/300\n",
      "214/214 [==============================] - 3s 12ms/step - loss: 1.5391 - accuracy: 0.5836 - val_loss: 3.1769 - val_accuracy: 0.2737\n",
      "Epoch 31/300\n",
      "214/214 [==============================] - 3s 12ms/step - loss: 1.4915 - accuracy: 0.6082 - val_loss: 3.1874 - val_accuracy: 0.2737\n",
      "Epoch 32/300\n",
      "214/214 [==============================] - 3s 12ms/step - loss: 1.4206 - accuracy: 0.6222 - val_loss: 3.2998 - val_accuracy: 0.2000\n"
     ]
    }
   ],
   "source": [
    "# Start training the model.\n",
    "#LRCN_model_training_history = LRCN_model.fit(x = features_train, y = labels_train, epochs = 300, batch_size = 4 ,\n",
    "                                             shuffle = True, validation_split = 0.10, callbacks = [early_stopping_callback])"
   ]
  },
  {
   "cell_type": "code",
   "execution_count": null,
   "id": "dd27fb2e",
   "metadata": {},
   "outputs": [],
   "source": []
  },
  {
   "cell_type": "code",
   "execution_count": 32,
   "id": "85617fed",
   "metadata": {},
   "outputs": [
    {
     "name": "stdout",
     "output_type": "stream",
     "text": [
      "8/8 [==============================] - 1s 40ms/step - loss: 3.2566 - accuracy: 0.1639\n"
     ]
    }
   ],
   "source": [
    "# Evaluate the trained model.\n",
    "model_evaluation_history = LRCN_model.evaluate(features_test, labels_test)"
   ]
  },
  {
   "cell_type": "code",
   "execution_count": 33,
   "id": "ea7a66a2",
   "metadata": {},
   "outputs": [
    {
     "name": "stdout",
     "output_type": "stream",
     "text": [
      "Oversampled_Weights/LRCN_urdu_model_s6_Oversampled_Date_Time_2023_04_14__02_39_26___Loss_3.2566494941711426___Accuracy_0.16386555135250092.h5\n"
     ]
    }
   ],
   "source": [
    "# Get the loss and accuracy from model_evaluation_history.\n",
    "model_evaluation_loss, model_evaluation_accuracy = model_evaluation_history\n",
    "\n",
    "# Define the string date format.\n",
    "# Get the current Date and Time in a DateTime Object.\n",
    "# Convert the DateTime object to string according to the style mentioned in date_time_format string.\n",
    "date_time_format = '%Y_%m_%d__%H_%M_%S'\n",
    "current_date_time_dt = dt.datetime.now()\n",
    "current_date_time_string = dt.datetime.strftime(current_date_time_dt, date_time_format)\n",
    "    \n",
    "# Define a useful name for our model to make it easy for us while navigating through multiple saved models.\n",
    "model_file_name = f'Oversampled_Weights/LRCN_urdu_model_s6_Oversampled_Date_Time_{current_date_time_string}___Loss_{model_evaluation_loss}___Accuracy_{model_evaluation_accuracy}.h5'\n",
    "\n",
    "print(model_file_name)\n",
    "\n",
    "# Save the Model.\n",
    "LRCN_model.save(model_file_name)"
   ]
  },
  {
   "cell_type": "code",
   "execution_count": 34,
   "id": "7f873afa",
   "metadata": {},
   "outputs": [],
   "source": [
    "def plot_metric(model_training_history, metric_name_1, metric_name_2, plot_name):\n",
    "    '''\n",
    "    This function will plot the metrics passed to it in a graph.\n",
    "    Args:\n",
    "        model_training_history: A history object containing a record of training and validation \n",
    "                                loss values and metrics values at successive epochs\n",
    "        metric_name_1:          The name of the first metric that needs to be plotted in the graph.\n",
    "        metric_name_2:          The name of the second metric that needs to be plotted in the graph.\n",
    "        plot_name:              The title of the graph.\n",
    "    '''\n",
    "    \n",
    "    # Get metric values using metric names as identifiers.\n",
    "    metric_value_1 = model_training_history.history[metric_name_1]\n",
    "    metric_value_2 = model_training_history.history[metric_name_2]\n",
    "    \n",
    "    # Construct a range object which will be used as x-axis (horizontal plane) of the graph.\n",
    "    epochs = range(len(metric_value_1))\n",
    "\n",
    "    # Plot the Graph.\n",
    "    plt.plot(epochs, metric_value_1, 'blue', label = metric_name_1)\n",
    "    plt.plot(epochs, metric_value_2, 'red', label = metric_name_2)\n",
    "\n",
    "    # Add title to the plot.\n",
    "    plt.title(str(plot_name))\n",
    "\n",
    "    # Add legend to the plot.\n",
    "    plt.legend()"
   ]
  },
  {
   "cell_type": "code",
   "execution_count": 35,
   "id": "ea9de1a4",
   "metadata": {},
   "outputs": [
    {
     "data": {
      "image/png": "[encoded data removed]",
      "text/plain": [
       "<Figure size 640x480 with 1 Axes>"
      ]
     },
     "metadata": {},
     "output_type": "display_data"
    }
   ],
   "source": [
    "# Visualize the training and validation loss metrices.\n",
    "plot_metric(LRCN_model_training_history, 'loss', 'val_loss', 'Total Loss vs Total Validation Loss')"
   ]
  },
  {
   "cell_type": "code",
   "execution_count": 36,
   "id": "bf506064",
   "metadata": {},
   "outputs": [
    {
     "data": {
      "image/png": "[encoded data removed]",
      "text/plain": [
       "<Figure size 640x480 with 1 Axes>"
      ]
     },
     "metadata": {},
     "output_type": "display_data"
    }
   ],
   "source": [
    "# Visualize the training and validation accuracy metrices.\n",
    "plot_metric(LRCN_model_training_history, 'accuracy', 'val_accuracy', 'Total Accuracy vs Total Validation Accuracy')"
   ]
  },
  {
   "cell_type": "markdown",
   "id": "529a1d48",
   "metadata": {},
   "source": [
    "## 4. Making Prediction\n",
    "\n",
    "1. predict_on_video(function to perform prediction on a video File)\n",
    "2. get_most_likely_word(function to get most likely word in set of words)"
   ]
  },
  {
   "cell_type": "code",
   "execution_count": 70,
   "id": "ce8b8c3b",
   "metadata": {},
   "outputs": [],
   "source": [
    "w1_u = ['میں', 'آپ', 'ہم', 'وہ']\n",
    "w2_k_u = ['کیسے', 'کونسا', 'کدھر', 'کتنے']\n",
    "w3_u = ['ہوں', 'تھا', 'ہے', 'تھے']\n",
    "w4_k_u = ['جی', 'ہاں', 'نہیں']\n",
    "w5_u = ['کیوں', 'کب', 'کون']\n",
    "w6_k_u = ['ایک', 'دو', 'تین', 'چار', 'پانچھ', 'چھے', 'سات', 'آٹھ', 'نوں']"
   ]
  },
  {
   "cell_type": "code",
   "execution_count": 71,
   "id": "bfc02f6e",
   "metadata": {},
   "outputs": [],
   "source": [
    "word_list = [w1_u, w2_k_u, w3_u, w4_k_u, w5_u, w6_k_u]"
   ]
  },
  {
   "cell_type": "code",
   "execution_count": 72,
   "id": "e33b77cc",
   "metadata": {},
   "outputs": [
    {
     "data": {
      "text/plain": [
       "[['میں', 'آپ', 'ہم', 'وہ'],\n",
       " ['کیسے', 'کونسا', 'کدھر', 'کتنے'],\n",
       " ['ہوں', 'تھا', 'ہے', 'تھے'],\n",
       " ['جی', 'ہاں', 'نہیں'],\n",
       " ['کیوں', 'کب', 'کون'],\n",
       " ['ایک', 'دو', 'تین', 'چار', 'پانچھ', 'چھے', 'سات', 'آٹھ', 'نوں']]"
      ]
     },
     "execution_count": 72,
     "metadata": {},
     "output_type": "execute_result"
    }
   ],
   "source": [
    "word_list"
   ]
  },
  {
   "cell_type": "code",
   "execution_count": 20,
   "id": "cc90ef91",
   "metadata": {},
   "outputs": [],
   "source": [
    "# function to get most likely word in a given set of words\n",
    "def get_most_likely_word(word_list, CLASSES_LIST, res):\n",
    "    \n",
    "    prob = float(0.0)\n",
    "    pred = ''\n",
    "    \n",
    "    ls = []\n",
    "\n",
    "    for i in word_list:\n",
    "        index = CLASSES_LIST.index(i)\n",
    "        tmp_prob = res[index]\n",
    "              \n",
    "        if tmp_prob >  prob:\n",
    "            prob = tmp_prob\n",
    "            pred = i\n",
    "    \n",
    "    return pred,prob\n",
    "\n",
    "#word = get_most_likely_word(w6_k_u, CLASSES_LIST, res)\n",
    "#print(word)"
   ]
  },
  {
   "cell_type": "code",
   "execution_count": null,
   "id": "c6fc5f1c",
   "metadata": {},
   "outputs": [],
   "source": []
  },
  {
   "cell_type": "code",
   "execution_count": 62,
   "id": "e2b16328",
   "metadata": {
    "collapsed": true
   },
   "outputs": [
    {
     "name": "stdout",
     "output_type": "stream",
     "text": [
      "1/1 [==============================] - 0s 19ms/step\n",
      "1/1 [==============================] - 0s 19ms/step\n",
      "1/1 [==============================] - 0s 20ms/step\n",
      "1/1 [==============================] - 0s 19ms/step\n",
      "1/1 [==============================] - 0s 20ms/step\n",
      "1/1 [==============================] - 0s 19ms/step\n",
      "1/1 [==============================] - 0s 18ms/step\n",
      "1/1 [==============================] - 0s 20ms/step\n",
      "1/1 [==============================] - 0s 18ms/step\n",
      "1/1 [==============================] - 0s 19ms/step\n",
      "1/1 [==============================] - 0s 18ms/step\n",
      "1/1 [==============================] - 0s 19ms/step\n",
      "1/1 [==============================] - 0s 19ms/step\n",
      "1/1 [==============================] - 0s 19ms/step\n",
      "1/1 [==============================] - 0s 20ms/step\n",
      "1/1 [==============================] - 0s 19ms/step\n",
      "1/1 [==============================] - 0s 20ms/step\n",
      "1/1 [==============================] - 0s 17ms/step\n",
      "1/1 [==============================] - 0s 19ms/step\n",
      "1/1 [==============================] - 0s 19ms/step\n",
      "1/1 [==============================] - 0s 20ms/step\n",
      "1/1 [==============================] - 0s 20ms/step\n",
      "1/1 [==============================] - 0s 19ms/step\n",
      "1/1 [==============================] - 0s 19ms/step\n",
      "1/1 [==============================] - 0s 18ms/step\n",
      "1/1 [==============================] - 0s 19ms/step\n",
      "1/1 [==============================] - 0s 18ms/step\n",
      "1/1 [==============================] - 0s 19ms/step\n",
      "1/1 [==============================] - 0s 20ms/step\n",
      "1/1 [==============================] - 0s 18ms/step\n",
      "1/1 [==============================] - 0s 18ms/step\n",
      "1/1 [==============================] - 0s 19ms/step\n",
      "1/1 [==============================] - 0s 18ms/step\n",
      "1/1 [==============================] - 0s 20ms/step\n",
      "1/1 [==============================] - 0s 20ms/step\n",
      "1/1 [==============================] - 0s 19ms/step\n",
      "1/1 [==============================] - 0s 19ms/step\n",
      "1/1 [==============================] - 0s 21ms/step\n",
      "1/1 [==============================] - 0s 18ms/step\n",
      "1/1 [==============================] - 0s 20ms/step\n",
      "1/1 [==============================] - 0s 20ms/step\n",
      "1/1 [==============================] - 0s 19ms/step\n",
      "1/1 [==============================] - 0s 19ms/step\n",
      "1/1 [==============================] - 0s 19ms/step\n",
      "1/1 [==============================] - 0s 17ms/step\n",
      "1/1 [==============================] - 0s 19ms/step\n",
      "1/1 [==============================] - 0s 19ms/step\n",
      "1/1 [==============================] - 0s 20ms/step\n",
      "1/1 [==============================] - 0s 20ms/step\n",
      "1/1 [==============================] - 0s 18ms/step\n",
      "1/1 [==============================] - 0s 19ms/step\n",
      "1/1 [==============================] - 0s 19ms/step\n",
      "1/1 [==============================] - 0s 20ms/step\n",
      "1/1 [==============================] - 0s 20ms/step\n",
      "1/1 [==============================] - 0s 18ms/step\n",
      "1/1 [==============================] - 0s 18ms/step\n",
      "1/1 [==============================] - 0s 18ms/step\n",
      "1/1 [==============================] - 0s 19ms/step\n",
      "1/1 [==============================] - 0s 20ms/step\n",
      "1/1 [==============================] - 0s 19ms/step\n",
      "1/1 [==============================] - 0s 19ms/step\n",
      "1/1 [==============================] - 0s 18ms/step\n",
      "1/1 [==============================] - 0s 18ms/step\n",
      "1/1 [==============================] - 0s 19ms/step\n",
      "1/1 [==============================] - 0s 19ms/step\n",
      "1/1 [==============================] - 0s 19ms/step\n",
      "1/1 [==============================] - 0s 19ms/step\n",
      "1/1 [==============================] - 0s 20ms/step\n",
      "1/1 [==============================] - 0s 19ms/step\n",
      "1/1 [==============================] - 0s 19ms/step\n",
      "1/1 [==============================] - 0s 18ms/step\n",
      "1/1 [==============================] - 0s 19ms/step\n",
      "1/1 [==============================] - 0s 19ms/step\n",
      "1/1 [==============================] - 0s 19ms/step\n",
      "1/1 [==============================] - 0s 19ms/step\n",
      "1/1 [==============================] - 0s 18ms/step\n",
      "1/1 [==============================] - 0s 20ms/step\n",
      "1/1 [==============================] - 0s 19ms/step\n",
      "1/1 [==============================] - 0s 21ms/step\n",
      "1/1 [==============================] - 0s 18ms/step\n",
      "1/1 [==============================] - 0s 19ms/step\n",
      "1/1 [==============================] - 0s 19ms/step\n",
      "82\n",
      "82\n",
      "82\n",
      "82\n",
      "82\n",
      "82\n"
     ]
    }
   ],
   "source": [
    "\n",
    "# importing libraries\n",
    "import cv2\n",
    "from lips import crop_lips\n",
    "import mediapipe as mp\n",
    "\n",
    "mp_holistic = mp.solutions.holistic  # Holistic model\n",
    "mp_drawing = mp.solutions.drawing_utils  # Drawing utilities\n",
    "\n",
    "\n",
    "# Declare a queue to store video frames.\n",
    "frames_queue = deque(maxlen = SEQUENCE_LENGTH)\n",
    "\n",
    "# Initialize a variable to store the predicted action being performed in the video.\n",
    "predicted_class_name = ''\n",
    "\n",
    "sentence = []\n",
    "predictions = []\n",
    "threshold = 0.0 # Result rendered only if they are above this threshold\n",
    "\n",
    "# Create a VideoCapture object and read from input file\n",
    "cap = cv2.VideoCapture(\"..\\\\Dataset\\\\Urdu\\\\6\\\\mein_kidhar_tha_han_kab_paanch\\\\_video.avi\")\n",
    "length = int(cap.get(cv2.CAP_PROP_FRAME_COUNT))\n",
    "\n",
    "# Check if camera opened successfully\n",
    "if (cap.isOpened()== False):\n",
    "    print(\"Error opening video file\")\n",
    "\n",
    "\n",
    "preds = []\n",
    "\n",
    "w0 = []\n",
    "w1 = []\n",
    "w2 = []\n",
    "w3 = []\n",
    "w4 = []\n",
    "w5 = []\n",
    "\n",
    "\n",
    "cnt = 0\n",
    "with mp_holistic.Holistic(min_detection_confidence=0.1, min_tracking_confidence=0.1) as holistic:    \n",
    "    # Read until video is completed\n",
    "    while(cap.isOpened()):\n",
    "\n",
    "        # Capture frame-by-frame\n",
    "        ret, frame = cap.read()\n",
    "        \n",
    "        # If frame correctly read only then performing predictions\n",
    "        if ret == True:\n",
    "            \n",
    "            # Cropping lips\n",
    "            cropped_image = crop_lips(frame, holistic)\n",
    "\n",
    "            # Normalizing the cropped frame\n",
    "            normalized_frame = cropped_image / 255    \n",
    "            \n",
    "            # Appending the pre-processed frame into the frames list.\n",
    "            frames_queue.append(normalized_frame)\n",
    "            \n",
    "            # Check if the number of frames in the queue are equal to the fixed sequence length.\n",
    "            if len(frames_queue) == SEQUENCE_LENGTH:\n",
    "\n",
    "                # Pass the normalized frames to the model and get the predicted probabilities.\n",
    "                res = LRCN_model.predict(np.expand_dims(frames_queue, axis = 0))[0]\n",
    "\n",
    "                # Appending prediction in the Predictions List\n",
    "                predictions.append(np.argmax(res))\n",
    "                \n",
    "                #preds.append(get_most_likely_word(word_list[0], CLASSES_LIST, res))\n",
    "                #preds.append(get_most_likely_word(word_list[1], CLASSES_LIST, res))\n",
    "                #preds.append(get_most_likely_word(word_list[2], CLASSES_LIST, res))\n",
    "                #preds.append(get_most_likely_word(word_list[3], CLASSES_LIST, res))\n",
    "                #preds.append(get_most_likely_word(word_list[4], CLASSES_LIST, res))\n",
    "                #preds.append(get_most_likely_word(word_list[5], CLASSES_LIST, res))\n",
    "                #sentence.append(pred)\n",
    "                \n",
    "                p0_w, p0_acc = get_most_likely_word(word_list[0], CLASSES_LIST, res)\n",
    "                if p0_acc > threshold:\n",
    "                    w0.append([p0_w, p0_acc])\n",
    "                \n",
    "                p1_w, p1_acc = get_most_likely_word(word_list[1], CLASSES_LIST, res)\n",
    "                if p1_acc > threshold:\n",
    "                    w1.append([p1_w, p1_acc])\n",
    "                \n",
    "                p2_w, p2_acc = get_most_likely_word(word_list[2], CLASSES_LIST, res)\n",
    "                if p2_acc > threshold:\n",
    "                    w2.append([p2_w, p2_acc])\n",
    "                    \n",
    "                p3_w, p3_acc = get_most_likely_word(word_list[3], CLASSES_LIST, res)\n",
    "                if p3_acc > threshold:\n",
    "                    w3.append([p3_w, p3_acc])\n",
    "                \n",
    "                p4_w, p4_acc = get_most_likely_word(word_list[4], CLASSES_LIST, res)\n",
    "                if p4_acc > threshold:\n",
    "                    w4.append([p4_w,p4_acc])\n",
    "                \n",
    "                p5_w, p5_acc = get_most_likely_word(word_list[5], CLASSES_LIST, res)\n",
    "                if p5_acc > threshold:\n",
    "                    w5.append([p5_w,p5_acc])\n",
    "                \n",
    "\n",
    "                \n",
    "                #print(get_most_likely_word(word_list[5], CLASSES_LIST, res))\n",
    "                '''if np.unique(predictions[-5:])[0] == np.argmax(res):\n",
    "                    if res[np.argmax(res)] > threshold:\n",
    "                        print(CLASSES_LIST[np.argmax(res)])\n",
    "                        if len(sentence) > 0:\n",
    "                            if CLASSES_LIST[np.argmax(res)] != sentence[-1]:\n",
    "                                sentence.append(CLASSES_LIST[np.argmax(res)])\n",
    "                        else:\n",
    "                            sentence.append(CLASSES_LIST[np.argmax(res)])\n",
    "                '''\n",
    "                \n",
    "                if len(sentence) < 8:\n",
    "                    \n",
    "                    sentence.extend(np.unique(preds))\n",
    "       \n",
    "            \n",
    "            #print(sentence)\n",
    "            \n",
    "            #cv2.putText(frame, ' '.join(sentence) , (2, 30),cv2.FONT_HERSHEY_SIMPLEX, 1, (255, 255, 255), 2, cv2.LINE_AA)\n",
    "            # Display the resulting frame\n",
    "            #cv2.imshow('Frame', frame)\n",
    "            \n",
    "\n",
    "        # Press Q on keyboard to exit\n",
    "            if cv2.waitKey(25) & 0xFF == ord('q'):\n",
    "                break\n",
    "\n",
    "        # Break the loop\n",
    "        else:\n",
    "            break\n",
    "  \n",
    "\n",
    " # When everything done, release the video capture object\n",
    "cap.release()\n",
    "  \n",
    "# Closes all the frames\n",
    "cv2.destroyAllWindows()\n",
    "\n",
    "print(len(w0))\n",
    "print(len(w1))\n",
    "print(len(w2))\n",
    "print(len(w3))\n",
    "print(len(w4))\n",
    "print(len(w5))"
   ]
  },
  {
   "cell_type": "code",
   "execution_count": 86,
   "id": "31aab113",
   "metadata": {},
   "outputs": [],
   "source": [
    "from ipywidgets import IntProgress\n",
    "from IPython.display import display\n",
    "import cv2\n",
    "from lips import crop_lips\n",
    "import mediapipe as mp\n",
    "\n",
    "# file_path = \"..\\\\Dataset\\\\Urdu\\\\6\\\\aap_kitne_tha_han_kyun_ek\\\\_video.avi\"\n",
    "\n",
    "def predict_word_level(file_path, word_list, CLASSES_LIST, SEQUENCE_LENGTH):\n",
    "    mp_holistic = mp.solutions.holistic  # Holistic model\n",
    "    mp_drawing = mp.solutions.drawing_utils  # Drawing utilities\n",
    "\n",
    "\n",
    "    # Declare a queue to store video frames.\n",
    "    frames_queue = deque(maxlen = SEQUENCE_LENGTH)\n",
    "\n",
    "    # Initialize a variable to store the predicted action being performed in the video.\n",
    "    predicted_class_name = ''\n",
    "\n",
    "    sentence = []\n",
    "    predictions = []\n",
    "    threshold = 0.0 # Result rendered only if they are above this threshold\n",
    "\n",
    "    # Create a VideoCapture object and read from input file\n",
    "    cap = cv2.VideoCapture(file_path)\n",
    "    total_frames = int(cap.get(cv2.CAP_PROP_FRAME_COUNT))\n",
    "\n",
    "    win_size = int((total_frames - 12) / 6) \n",
    "\n",
    "    w_cnt = 0\n",
    "\n",
    "    # Progress bar\n",
    "    f = IntProgress(min=0, max=total_frames-12) # instantiate the bar\n",
    "    display(f) # display the bar\n",
    "\n",
    "    # Check if camera opened successfully\n",
    "    if (cap.isOpened()== False):\n",
    "        print(\"Error opening video file\")\n",
    "\n",
    "\n",
    "    preds = []\n",
    "\n",
    "    w0 = []\n",
    "    w1 = []\n",
    "    w2 = []\n",
    "    w3 = []\n",
    "    w4 = []\n",
    "    w5 = []\n",
    "\n",
    "\n",
    "    cnt = 0\n",
    "    with mp_holistic.Holistic(min_detection_confidence=0.1, min_tracking_confidence=0.1) as holistic:    \n",
    "        # Read until video is completed\n",
    "        while(cap.isOpened()):\n",
    "\n",
    "            # Capture frame-by-frame\n",
    "            ret, frame = cap.read()\n",
    "\n",
    "            # If frame correctly read only then performing predictions\n",
    "            if ret == True:\n",
    "\n",
    "                # Cropping lips\n",
    "                cropped_image = crop_lips(frame, holistic)\n",
    "\n",
    "                # Normalizing the cropped frame\n",
    "                normalized_frame = cropped_image / 255    \n",
    "\n",
    "                # Appending the pre-processed frame into the frames list.\n",
    "                frames_queue.append(normalized_frame)\n",
    "\n",
    "                # Check if the number of frames in the queue are equal to the fixed sequence length.\n",
    "                if len(frames_queue) == SEQUENCE_LENGTH:\n",
    "\n",
    "                    # Pass the normalized frames to the model and get the predicted probabilities.\n",
    "                    res = LRCN_model.predict(np.expand_dims(frames_queue, axis = 0), verbose=0)[0]\n",
    "\n",
    "                    # Appending prediction in the Predictions List\n",
    "                    predictions.append(np.argmax(res))\n",
    "\n",
    "                    #preds.append(get_most_likely_word(word_list[0], CLASSES_LIST, res))\n",
    "                    #preds.append(get_most_likely_word(word_list[1], CLASSES_LIST, res))\n",
    "                    #preds.append(get_most_likely_word(word_list[2], CLASSES_LIST, res))\n",
    "                    #preds.append(get_most_likely_word(word_list[3], CLASSES_LIST, res))\n",
    "                    #preds.append(get_most_likely_word(word_list[4], CLASSES_LIST, res))\n",
    "                    #preds.append(get_most_likely_word(word_list[5], CLASSES_LIST, res))\n",
    "                    #sentence.append(pred)\n",
    "\n",
    "                    if w_cnt < win_size:\n",
    "                        p0_w, p0_acc = get_most_likely_word(word_list[0], CLASSES_LIST, res)\n",
    "                        if p0_acc > threshold:\n",
    "                            w0.append([p0_w, p0_acc])\n",
    "\n",
    "\n",
    "\n",
    "                    if w_cnt > win_size and w_cnt < (2*win_size):\n",
    "                        p1_w, p1_acc = get_most_likely_word(word_list[1], CLASSES_LIST, res)\n",
    "                        if p1_acc > threshold:\n",
    "                            w1.append([p1_w, p1_acc])\n",
    "\n",
    "                    if w_cnt > (2*win_size) and w_cnt < (3*win_size):\n",
    "                        p2_w, p2_acc = get_most_likely_word(word_list[2], CLASSES_LIST, res)\n",
    "                        if p2_acc > threshold:\n",
    "                            w2.append([p2_w, p2_acc])\n",
    "\n",
    "                    if w_cnt > (3*win_size) and w_cnt < (4*win_size):\n",
    "                        p3_w, p3_acc = get_most_likely_word(word_list[3], CLASSES_LIST, res)\n",
    "                        if p3_acc > threshold:\n",
    "                            w3.append([p3_w, p3_acc])\n",
    "\n",
    "                    if w_cnt > (4*win_size) and w_cnt < (5*win_size):\n",
    "                        p4_w, p4_acc = get_most_likely_word(word_list[4], CLASSES_LIST, res)\n",
    "                        if p4_acc > threshold:\n",
    "                            w4.append([p4_w,p4_acc])\n",
    "\n",
    "                    if w_cnt > (5*win_size) :\n",
    "                        p5_w, p5_acc = get_most_likely_word(word_list[5], CLASSES_LIST, res)\n",
    "                        if p5_acc > threshold:\n",
    "                            w5.append([p5_w,p5_acc])\n",
    "\n",
    "\n",
    "                    w_cnt += 1\n",
    "\n",
    "                    #Progress bar variables\n",
    "                    f.value += 1 # signal to increment the progress bar\n",
    "\n",
    "                    #print(get_most_likely_word(word_list[5], CLASSES_LIST, res))\n",
    "                    '''if np.unique(predictions[-5:])[0] == np.argmax(res):\n",
    "                        if res[np.argmax(res)] > threshold:\n",
    "                            print(CLASSES_LIST[np.argmax(res)])\n",
    "                            if len(sentence) > 0:\n",
    "                                if CLASSES_LIST[np.argmax(res)] != sentence[-1]:\n",
    "                                    sentence.append(CLASSES_LIST[np.argmax(res)])\n",
    "                            else:\n",
    "                                sentence.append(CLASSES_LIST[np.argmax(res)])\n",
    "                    '''\n",
    "\n",
    "                    if len(sentence) < 8:\n",
    "\n",
    "                        sentence.extend(np.unique(preds))\n",
    "\n",
    "\n",
    "                #print(sentence)\n",
    "\n",
    "                #cv2.putText(frame, ' '.join(sentence) , (2, 30),cv2.FONT_HERSHEY_SIMPLEX, 1, (255, 255, 255), 2, cv2.LINE_AA)\n",
    "                # Display the resulting frame\n",
    "                #cv2.imshow('Frame', frame)\n",
    "\n",
    "\n",
    "            # Press Q on keyboard to exit\n",
    "                if cv2.waitKey(25) & 0xFF == ord('q'):\n",
    "                    break\n",
    "\n",
    "            # Break the loop\n",
    "            else:\n",
    "                break\n",
    "\n",
    "\n",
    "     # When everything done, release the video capture object\n",
    "    cap.release()\n",
    "\n",
    "    # Closes all the frames\n",
    "    cv2.destroyAllWindows()\n",
    "    \n",
    "    return [w0, w1, w2, w3, w4, w5]"
   ]
  },
  {
   "cell_type": "code",
   "execution_count": 88,
   "id": "796c8042",
   "metadata": {},
   "outputs": [
    {
     "data": {
      "application/vnd.jupyter.widget-view+json": {
       "model_id": "8b619700147143d6a4e71d8a10b0d2a4",
       "version_major": 2,
       "version_minor": 0
      },
      "text/plain": [
       "IntProgress(value=0, max=83)"
      ]
     },
     "metadata": {},
     "output_type": "display_data"
    }
   ],
   "source": [
    "file_path = \"..\\\\Dataset\\\\Urdu\\\\6\\\\aap_kitne_tha_han_kyun_ek\\\\_video.avi\"\n",
    "\n",
    "prediction = predict_word_level(file_path, word_list, CLASSES_LIST, SEQUENCE_LENGTH)"
   ]
  },
  {
   "cell_type": "code",
   "execution_count": 43,
   "id": "a0de38d8",
   "metadata": {
    "collapsed": true
   },
   "outputs": [
    {
     "data": {
      "text/plain": [
       "[['آپ', 0.9173111],\n",
       " ['آپ', 0.9422089],\n",
       " ['آپ', 0.91866165],\n",
       " ['آپ', 0.78640306],\n",
       " ['آپ', 0.70065904],\n",
       " ['آپ', 0.69467306],\n",
       " ['آپ', 0.64607507],\n",
       " ['آپ', 0.6723246],\n",
       " ['آپ', 0.6299536],\n",
       " ['آپ', 0.5606654],\n",
       " ['آپ', 0.133201],\n",
       " ['آپ', 0.088064946],\n",
       " ['آپ', 0.08761572],\n",
       " ['آپ', 0.11361515],\n",
       " ['آپ', 0.14550371],\n",
       " ['آپ', 0.12692645],\n",
       " ['آپ', 0.2238348],\n",
       " ['آپ', 0.35460055],\n",
       " ['آپ', 0.3689546],\n",
       " ['آپ', 0.37429127],\n",
       " ['آپ', 0.39098766],\n",
       " ['آپ', 0.25363055],\n",
       " ['آپ', 0.1264291],\n",
       " ['آپ', 0.32304353],\n",
       " ['آپ', 0.37421986],\n",
       " ['آپ', 0.4234264],\n",
       " ['آپ', 0.892332],\n",
       " ['آپ', 0.876484],\n",
       " ['آپ', 0.879007],\n",
       " ['آپ', 0.92051125],\n",
       " ['آپ', 0.9544213],\n",
       " ['آپ', 0.56094015],\n",
       " ['آپ', 0.0061974083],\n",
       " ['آپ', 0.02280366],\n",
       " ['آپ', 0.017913846],\n",
       " ['وہ', 0.011181289],\n",
       " ['وہ', 0.014636341],\n",
       " ['آپ', 0.060483158],\n",
       " ['آپ', 0.03688809],\n",
       " ['آپ', 0.057711538],\n",
       " ['آپ', 0.108581655],\n",
       " ['آپ', 0.076641016],\n",
       " ['آپ', 0.033091776],\n",
       " ['آپ', 0.22122106],\n",
       " ['آپ', 0.2962238],\n",
       " ['آپ', 0.40478006],\n",
       " ['آپ', 0.57138777],\n",
       " ['آپ', 0.5168233],\n",
       " ['آپ', 0.4340036],\n",
       " ['آپ', 0.31912288],\n",
       " ['آپ', 0.3585422],\n",
       " ['آپ', 0.28564218],\n",
       " ['آپ', 0.19174792],\n",
       " ['آپ', 0.11832401],\n",
       " ['آپ', 0.18432708],\n",
       " ['آپ', 0.10046358],\n",
       " ['آپ', 0.072817765],\n",
       " ['آپ', 0.03310884],\n",
       " ['وہ', 0.010898582],\n",
       " ['وہ', 0.004231372],\n",
       " ['وہ', 0.004092525],\n",
       " ['وہ', 0.0051204707],\n",
       " ['وہ', 0.035566647],\n",
       " ['آپ', 0.0026179992],\n",
       " ['آپ', 0.017366502],\n",
       " ['آپ', 0.06284316],\n",
       " ['آپ', 0.052536707],\n",
       " ['وہ', 0.10668441],\n",
       " ['وہ', 0.09805159],\n",
       " ['وہ', 0.028229196],\n",
       " ['وہ', 0.017351853],\n",
       " ['وہ', 0.008501814],\n",
       " ['آپ', 0.011197188],\n",
       " ['آپ', 0.014124388],\n",
       " ['آپ', 0.015228545],\n",
       " ['وہ', 0.012510377],\n",
       " ['آپ', 0.016296985],\n",
       " ['ہم', 0.5090378],\n",
       " ['ہم', 0.7279639],\n",
       " ['آپ', 0.74684566],\n",
       " ['آپ', 0.067603014],\n",
       " ['آپ', 0.0033395106]]"
      ]
     },
     "execution_count": 43,
     "metadata": {},
     "output_type": "execute_result"
    }
   ],
   "source": [
    "w0"
   ]
  },
  {
   "cell_type": "code",
   "execution_count": 47,
   "id": "14a2465d",
   "metadata": {
    "collapsed": true
   },
   "outputs": [
    {
     "name": "stdout",
     "output_type": "stream",
     "text": [
      "0   ['ایک', 0.10666649]\n",
      "1   ['آٹھ', 0.15501854]\n",
      "2   ['آٹھ', 0.032894082]\n",
      "3   ['پانچھ', 0.009119958]\n",
      "4   ['پانچھ', 0.02893465]\n",
      "5   ['پانچھ', 0.06517752]\n",
      "6   ['پانچھ', 0.15323508]\n",
      "7   ['پانچھ', 0.25976986]\n",
      "8   ['پانچھ', 0.36251685]\n",
      "9   ['پانچھ', 0.29112312]\n",
      "10   ['پانچھ', 0.38001415]\n",
      "11   ['تین', 0.007023743]\n",
      "12   ['تین', 0.007668283]\n",
      "13   ['تین', 0.011691475]\n",
      "14   ['تین', 0.16691391]\n",
      "15   ['تین', 0.6376088]\n"
     ]
    }
   ],
   "source": [
    "for i in range(0, len(w5)):\n",
    "    print(i, \" \", w5[i])"
   ]
  },
  {
   "cell_type": "code",
   "execution_count": 64,
   "id": "0927dffc",
   "metadata": {
    "collapsed": true
   },
   "outputs": [
    {
     "name": "stdout",
     "output_type": "stream",
     "text": [
      "0   ['کیوں', 0.00029239958]   ['ایک', 0.0057234075]\n",
      "1   ['کیوں', 0.00014329815]   ['ایک', 0.0028787146]\n",
      "2   ['کیوں', 0.00011644554]   ['ایک', 0.0028040046]\n",
      "3   ['کیوں', 0.00018766064]   ['ایک', 0.017056515]\n",
      "4   ['کیوں', 0.00039994004]   ['ایک', 0.038429394]\n",
      "5   ['کیوں', 0.00067757117]   ['ایک', 0.09774765]\n",
      "6   ['کیوں', 0.0006919108]   ['ایک', 0.11644886]\n",
      "7   ['کون', 0.00046563786]   ['ایک', 0.10282201]\n",
      "8   ['کون', 0.0005919506]   ['ایک', 0.11512396]\n",
      "9   ['کون', 0.00085861434]   ['ایک', 0.1243332]\n",
      "10   ['کون', 0.0009358187]   ['ایک', 0.121799305]\n",
      "11   ['کون', 0.0010012165]   ['ایک', 0.14035107]\n",
      "12   ['کون', 0.0011199312]   ['ایک', 0.17905678]\n",
      "13   ['کون', 0.0017958129]   ['ایک', 0.2351971]\n",
      "14   ['کون', 0.0024050917]   ['ایک', 0.36988357]\n",
      "15   ['کون', 0.0013673196]   ['ایک', 0.39990824]\n",
      "16   ['کون', 0.0012060825]   ['ایک', 0.4446215]\n",
      "17   ['کون', 0.0009345247]   ['ایک', 0.29518965]\n",
      "18   ['کون', 0.00069138885]   ['ایک', 0.3125571]\n",
      "19   ['کون', 0.0006541525]   ['ایک', 0.312597]\n",
      "20   ['کون', 0.0004951019]   ['ایک', 0.21893165]\n",
      "21   ['کون', 0.0004569971]   ['ایک', 0.25273848]\n",
      "22   ['کون', 0.0004547798]   ['پانچھ', 0.34652805]\n",
      "23   ['کون', 0.00113587]   ['پانچھ', 0.33533743]\n",
      "24   ['کون', 0.002614947]   ['پانچھ', 0.27467662]\n",
      "25   ['کون', 0.005641344]   ['پانچھ', 0.20045863]\n",
      "26   ['کون', 0.00025228364]   ['ایک', 0.01785384]\n",
      "27   ['کون', 0.00027828844]   ['ایک', 0.012187397]\n",
      "28   ['کیوں', 0.00016557344]   ['تین', 0.0018304891]\n",
      "29   ['کیوں', 0.00015287762]   ['تین', 0.0014772073]\n",
      "30   ['کون', 7.099234e-05]   ['نوں', 0.0017154213]\n",
      "31   ['کون', 0.0006263166]   ['نوں', 0.007054171]\n",
      "32   ['کب', 0.00011101934]   ['تین', 0.0038145839]\n",
      "33   ['کون', 0.0002112263]   ['تین', 0.0016669013]\n",
      "34   ['کون', 0.00056715263]   ['تین', 0.00083729724]\n",
      "35   ['کون', 0.0008818499]   ['ایک', 0.0010157181]\n",
      "36   ['کون', 0.0020065142]   ['ایک', 0.009774024]\n",
      "37   ['کون', 0.006860224]   ['ایک', 0.1169417]\n",
      "38   ['کون', 0.0044085532]   ['آٹھ', 0.27431604]\n",
      "39   ['کون', 0.0013298553]   ['آٹھ', 0.40014112]\n",
      "40   ['کون', 0.0068682367]   ['آٹھ', 0.30953792]\n",
      "41   ['کون', 0.012812394]   ['آٹھ', 0.34508553]\n",
      "42   ['کون', 0.0027582748]   ['ایک', 0.80913794]\n",
      "43   ['کون', 0.0026326003]   ['ایک', 0.41109478]\n",
      "44   ['کون', 0.0007032681]   ['آٹھ', 0.33583474]\n",
      "45   ['کون', 0.00048167503]   ['آٹھ', 0.26073948]\n",
      "46   ['کون', 0.00022152551]   ['ایک', 0.12205414]\n",
      "47   ['کون', 0.00017813592]   ['ایک', 0.11105862]\n",
      "48   ['کون', 0.00026515004]   ['ایک', 0.2076208]\n",
      "49   ['کون', 0.00026359255]   ['پانچھ', 0.18877028]\n",
      "50   ['کون', 0.0009225736]   ['ایک', 0.38509074]\n",
      "51   ['کون', 0.00038271854]   ['ایک', 0.41343445]\n",
      "52   ['کون', 0.0001513741]   ['پانچھ', 0.3684843]\n",
      "53   ['کون', 0.00014342275]   ['پانچھ', 0.4257934]\n",
      "54   ['کون', 0.00029847946]   ['پانچھ', 0.5374837]\n",
      "55   ['کون', 0.0011225534]   ['پانچھ', 0.6343208]\n",
      "56   ['کون', 0.0018846116]   ['پانچھ', 0.5677748]\n",
      "57   ['کون', 0.0029133013]   ['پانچھ', 0.6058278]\n",
      "58   ['کیوں', 0.000698223]   ['پانچھ', 0.31586748]\n",
      "59   ['کیوں', 0.00096592476]   ['پانچھ', 0.34610945]\n",
      "60   ['کیوں', 0.000961849]   ['پانچھ', 0.33688286]\n",
      "61   ['کیوں', 0.00073955976]   ['پانچھ', 0.26098058]\n",
      "62   ['کیوں', 0.0014147629]   ['پانچھ', 0.16362503]\n",
      "63   ['کب', 0.0014243389]   ['پانچھ', 0.08206976]\n",
      "64   ['کب', 0.00050274975]   ['پانچھ', 0.06721487]\n",
      "65   ['کون', 0.0006160676]   ['ایک', 0.037878446]\n",
      "66   ['کون', 0.0006858246]   ['ایک', 0.10666649]\n",
      "67   ['کون', 0.0012139967]   ['آٹھ', 0.15501854]\n",
      "68   ['کون', 0.0011567039]   ['آٹھ', 0.032894082]\n",
      "69   ['کون', 0.00033153614]   ['پانچھ', 0.009119958]\n",
      "70   ['کون', 0.0008039019]   ['پانچھ', 0.02893465]\n",
      "71   ['کون', 0.0012336507]   ['پانچھ', 0.06517752]\n",
      "72   ['کون', 0.0019374739]   ['پانچھ', 0.15323508]\n",
      "73   ['کون', 0.0019685128]   ['پانچھ', 0.25976986]\n",
      "74   ['کون', 0.002007538]   ['پانچھ', 0.36251685]\n",
      "75   ['کون', 0.0018693948]   ['پانچھ', 0.29112312]\n",
      "76   ['کون', 0.0015953162]   ['پانچھ', 0.38001415]\n",
      "77   ['کون', 0.007307031]   ['تین', 0.007023743]\n",
      "78   ['کون', 0.025762232]   ['تین', 0.007668283]\n",
      "79   ['کون', 0.00028192403]   ['تین', 0.011691475]\n",
      "80   ['کب', 0.0012860299]   ['تین', 0.16691391]\n",
      "81   ['کب', 0.005154047]   ['تین', 0.6376088]\n"
     ]
    }
   ],
   "source": [
    "for i in range(0, len(w5)):\n",
    "    print(i, \" \", w4[i],\" \", w5[i])"
   ]
  },
  {
   "cell_type": "markdown",
   "id": "4d90d0d5",
   "metadata": {},
   "source": [
    "### 4.1 Sentence Prediction Functions"
   ]
  },
  {
   "cell_type": "code",
   "execution_count": 22,
   "id": "8f7b78d8",
   "metadata": {},
   "outputs": [],
   "source": [
    "# Returns word with highest probability in a window\n",
    "def highest_prob_word(words):\n",
    "    \n",
    "    w = ''\n",
    "    acc = 0\n",
    "    for i in words:\n",
    "        if i[1] > acc:\n",
    "            w = i[0]\n",
    "    \n",
    "    return w"
   ]
  },
  {
   "cell_type": "code",
   "execution_count": 55,
   "id": "cb999a44",
   "metadata": {
    "scrolled": false
   },
   "outputs": [
    {
     "name": "stdout",
     "output_type": "stream",
     "text": [
      "پانچھ\n"
     ]
    }
   ],
   "source": [
    "# Returns most frequently occuring word in a window\n",
    "def most_freq_word(words):\n",
    "    \n",
    "    tmp_list = []\n",
    "    \n",
    "    for i in words:\n",
    "        tmp_list.append(i[0])\n",
    "    \n",
    "    return max(set(tmp_list), key = tmp_list.count)\n",
    "\n",
    "print(most_freq_word(w5))"
   ]
  },
  {
   "cell_type": "code",
   "execution_count": 99,
   "id": "4e89bc91",
   "metadata": {},
   "outputs": [],
   "source": [
    "# General function to parse sentence [args : prediction results, function to be used for getting predicted words]\n",
    "def parse_sentence(prediction, func):\n",
    "    \n",
    "    sen = func(prediction[0])+\" \"+func(prediction[1])+\" \"+func(prediction[2])+\" \"+func(prediction[3])+\" \"+func(prediction[4])+\" \"+func(prediction[5])\n",
    "    \n",
    "    return sen"
   ]
  },
  {
   "cell_type": "markdown",
   "id": "51f8da24",
   "metadata": {},
   "source": [
    "###### - Sentence predicted using `most_freq_word()` :"
   ]
  },
  {
   "cell_type": "code",
   "execution_count": 100,
   "id": "69df2c21",
   "metadata": {},
   "outputs": [
    {
     "name": "stdout",
     "output_type": "stream",
     "text": [
      "آپ کتنے تھے ہاں کون ایک\n"
     ]
    }
   ],
   "source": [
    "print(most_freq_word(w0),most_freq_word(w1),most_freq_word(w2),most_freq_word(w3),most_freq_word(w4),most_freq_word(w5))"
   ]
  },
  {
   "cell_type": "code",
   "execution_count": 107,
   "id": "4a1f75f4",
   "metadata": {},
   "outputs": [
    {
     "data": {
      "application/vnd.jupyter.widget-view+json": {
       "model_id": "ef05e055a5fb468fb5995d1aa47866e4",
       "version_major": 2,
       "version_minor": 0
      },
      "text/plain": [
       "IntProgress(value=0, max=79)"
      ]
     },
     "metadata": {},
     "output_type": "display_data"
    },
    {
     "name": "stdout",
     "output_type": "stream",
     "text": [
      "آپ کتنے تھے نہیں کون ایک\n"
     ]
    }
   ],
   "source": [
    "file_path = \"..\\\\Dataset\\\\Urdu\\\\6\\\\aap_konsa_thay_jee_kon_ek\\\\_video.avi\"\n",
    "\n",
    "prediction = predict_word_level(file_path, word_list, CLASSES_LIST, SEQUENCE_LENGTH)\n",
    "\n",
    "print(parse_sentence(prediction, most_freq_word))"
   ]
  },
  {
   "cell_type": "markdown",
   "id": "e6ca99aa",
   "metadata": {},
   "source": [
    "###### - Sentence predicted using `highest_prob_word()` :"
   ]
  },
  {
   "cell_type": "code",
   "execution_count": 69,
   "id": "c8960a80",
   "metadata": {},
   "outputs": [
    {
     "name": "stdout",
     "output_type": "stream",
     "text": [
      "آپ کتنے تھے جی کب تین\n"
     ]
    }
   ],
   "source": [
    "print(highest_prob_word(w0),highest_prob_word(w1),highest_prob_word(w2),highest_prob_word(w3),highest_prob_word(w4),highest_prob_word(w5))"
   ]
  },
  {
   "cell_type": "code",
   "execution_count": 106,
   "id": "6eabb78e",
   "metadata": {},
   "outputs": [
    {
     "data": {
      "application/vnd.jupyter.widget-view+json": {
       "model_id": "400afc71835a47df878195a8ea9b9aec",
       "version_major": 2,
       "version_minor": 0
      },
      "text/plain": [
       "IntProgress(value=0, max=83)"
      ]
     },
     "metadata": {},
     "output_type": "display_data"
    },
    {
     "name": "stdout",
     "output_type": "stream",
     "text": [
      "آپ کیسے تھے نہیں کیوں ایک\n"
     ]
    }
   ],
   "source": [
    "file_path = \"..\\\\Dataset\\\\Urdu\\\\6\\\\aap_konsa_hai_jee_kab_do\\\\_video.avi\"\n",
    "\n",
    "prediction = predict_word_level(file_path, word_list, CLASSES_LIST, SEQUENCE_LENGTH)\n",
    "\n",
    "print(parse_sentence(prediction, highest_prob_word))"
   ]
  },
  {
   "cell_type": "raw",
   "id": "a27cb1b5",
   "metadata": {},
   "source": [
    "print(highest_prob_word(w0))\n",
    "print(highest_prob_word(w1))\n",
    "print(highest_prob_word(w2))\n",
    "print(highest_prob_word(w3))\n",
    "print(highest_prob_word(w4))\n",
    "print(highest_prob_word(w5))\n",
    "print(\"----\")\n",
    "print(highest_prob_word(w0[:13]))\n",
    "print(highest_prob_word(w1[14:27]))\n",
    "print(highest_prob_word(w2[28:41]))\n",
    "print(highest_prob_word(w3[42:55]))\n",
    "print(highest_prob_word(w4[56:69]))\n",
    "print(highest_prob_word(w5[69:]))"
   ]
  },
  {
   "cell_type": "markdown",
   "id": "744207fd",
   "metadata": {},
   "source": [
    "### 4.2 Calculating Word error rate (WER)\n",
    "- Currently performing on single speaker"
   ]
  },
  {
   "cell_type": "markdown",
   "id": "bbaf7147",
   "metadata": {},
   "source": [
    "###### - WER of `most_freq_words()`"
   ]
  },
  {
   "cell_type": "code",
   "execution_count": 121,
   "id": "db7628aa",
   "metadata": {},
   "outputs": [
    {
     "name": "stdout",
     "output_type": "stream",
     "text": [
      "0\n"
     ]
    },
    {
     "data": {
      "application/vnd.jupyter.widget-view+json": {
       "model_id": "",
       "version_major": 2,
       "version_minor": 0
      },
      "text/plain": [
       "IntProgress(value=0, max=83)"
      ]
     },
     "metadata": {},
     "output_type": "display_data"
    },
    {
     "name": "stdout",
     "output_type": "stream",
     "text": [
      "1\n"
     ]
    },
    {
     "data": {
      "application/vnd.jupyter.widget-view+json": {
       "model_id": "",
       "version_major": 2,
       "version_minor": 0
      },
      "text/plain": [
       "IntProgress(value=0, max=83)"
      ]
     },
     "metadata": {},
     "output_type": "display_data"
    },
    {
     "name": "stdout",
     "output_type": "stream",
     "text": [
      "2\n"
     ]
    },
    {
     "data": {
      "application/vnd.jupyter.widget-view+json": {
       "model_id": "",
       "version_major": 2,
       "version_minor": 0
      },
      "text/plain": [
       "IntProgress(value=0, max=79)"
      ]
     },
     "metadata": {},
     "output_type": "display_data"
    },
    {
     "name": "stdout",
     "output_type": "stream",
     "text": [
      "3\n"
     ]
    },
    {
     "data": {
      "application/vnd.jupyter.widget-view+json": {
       "model_id": "",
       "version_major": 2,
       "version_minor": 0
      },
      "text/plain": [
       "IntProgress(value=0, max=83)"
      ]
     },
     "metadata": {},
     "output_type": "display_data"
    },
    {
     "name": "stdout",
     "output_type": "stream",
     "text": [
      "4\n"
     ]
    },
    {
     "data": {
      "application/vnd.jupyter.widget-view+json": {
       "model_id": "",
       "version_major": 2,
       "version_minor": 0
      },
      "text/plain": [
       "IntProgress(value=0, max=82)"
      ]
     },
     "metadata": {},
     "output_type": "display_data"
    },
    {
     "name": "stdout",
     "output_type": "stream",
     "text": [
      "5\n"
     ]
    },
    {
     "data": {
      "application/vnd.jupyter.widget-view+json": {
       "model_id": "",
       "version_major": 2,
       "version_minor": 0
      },
      "text/plain": [
       "IntProgress(value=0, max=82)"
      ]
     },
     "metadata": {},
     "output_type": "display_data"
    },
    {
     "name": "stdout",
     "output_type": "stream",
     "text": [
      "6\n"
     ]
    },
    {
     "data": {
      "application/vnd.jupyter.widget-view+json": {
       "model_id": "",
       "version_major": 2,
       "version_minor": 0
      },
      "text/plain": [
       "IntProgress(value=0, max=83)"
      ]
     },
     "metadata": {},
     "output_type": "display_data"
    },
    {
     "name": "stdout",
     "output_type": "stream",
     "text": [
      "7\n"
     ]
    },
    {
     "data": {
      "application/vnd.jupyter.widget-view+json": {
       "model_id": "",
       "version_major": 2,
       "version_minor": 0
      },
      "text/plain": [
       "IntProgress(value=0, max=85)"
      ]
     },
     "metadata": {},
     "output_type": "display_data"
    },
    {
     "name": "stdout",
     "output_type": "stream",
     "text": [
      "8\n"
     ]
    },
    {
     "data": {
      "application/vnd.jupyter.widget-view+json": {
       "model_id": "",
       "version_major": 2,
       "version_minor": 0
      },
      "text/plain": [
       "IntProgress(value=0, max=83)"
      ]
     },
     "metadata": {},
     "output_type": "display_data"
    },
    {
     "name": "stdout",
     "output_type": "stream",
     "text": [
      "9\n"
     ]
    },
    {
     "data": {
      "application/vnd.jupyter.widget-view+json": {
       "model_id": "",
       "version_major": 2,
       "version_minor": 0
      },
      "text/plain": [
       "IntProgress(value=0, max=82)"
      ]
     },
     "metadata": {},
     "output_type": "display_data"
    },
    {
     "name": "stdout",
     "output_type": "stream",
     "text": [
      "10\n"
     ]
    },
    {
     "data": {
      "application/vnd.jupyter.widget-view+json": {
       "model_id": "",
       "version_major": 2,
       "version_minor": 0
      },
      "text/plain": [
       "IntProgress(value=0, max=81)"
      ]
     },
     "metadata": {},
     "output_type": "display_data"
    },
    {
     "name": "stdout",
     "output_type": "stream",
     "text": [
      "11\n"
     ]
    },
    {
     "data": {
      "application/vnd.jupyter.widget-view+json": {
       "model_id": "",
       "version_major": 2,
       "version_minor": 0
      },
      "text/plain": [
       "IntProgress(value=0, max=82)"
      ]
     },
     "metadata": {},
     "output_type": "display_data"
    },
    {
     "name": "stdout",
     "output_type": "stream",
     "text": [
      "12\n"
     ]
    },
    {
     "data": {
      "application/vnd.jupyter.widget-view+json": {
       "model_id": "",
       "version_major": 2,
       "version_minor": 0
      },
      "text/plain": [
       "IntProgress(value=0, max=82)"
      ]
     },
     "metadata": {},
     "output_type": "display_data"
    },
    {
     "name": "stdout",
     "output_type": "stream",
     "text": [
      "13\n"
     ]
    },
    {
     "data": {
      "application/vnd.jupyter.widget-view+json": {
       "model_id": "",
       "version_major": 2,
       "version_minor": 0
      },
      "text/plain": [
       "IntProgress(value=0, max=82)"
      ]
     },
     "metadata": {},
     "output_type": "display_data"
    },
    {
     "name": "stdout",
     "output_type": "stream",
     "text": [
      "14\n"
     ]
    },
    {
     "data": {
      "application/vnd.jupyter.widget-view+json": {
       "model_id": "",
       "version_major": 2,
       "version_minor": 0
      },
      "text/plain": [
       "IntProgress(value=0, max=83)"
      ]
     },
     "metadata": {},
     "output_type": "display_data"
    },
    {
     "name": "stdout",
     "output_type": "stream",
     "text": [
      "15\n"
     ]
    },
    {
     "data": {
      "application/vnd.jupyter.widget-view+json": {
       "model_id": "",
       "version_major": 2,
       "version_minor": 0
      },
      "text/plain": [
       "IntProgress(value=0, max=82)"
      ]
     },
     "metadata": {},
     "output_type": "display_data"
    },
    {
     "name": "stdout",
     "output_type": "stream",
     "text": [
      "16\n"
     ]
    },
    {
     "data": {
      "application/vnd.jupyter.widget-view+json": {
       "model_id": "",
       "version_major": 2,
       "version_minor": 0
      },
      "text/plain": [
       "IntProgress(value=0, max=82)"
      ]
     },
     "metadata": {},
     "output_type": "display_data"
    },
    {
     "name": "stdout",
     "output_type": "stream",
     "text": [
      "17\n"
     ]
    },
    {
     "data": {
      "application/vnd.jupyter.widget-view+json": {
       "model_id": "",
       "version_major": 2,
       "version_minor": 0
      },
      "text/plain": [
       "IntProgress(value=0, max=82)"
      ]
     },
     "metadata": {},
     "output_type": "display_data"
    },
    {
     "name": "stdout",
     "output_type": "stream",
     "text": [
      "18\n"
     ]
    },
    {
     "data": {
      "application/vnd.jupyter.widget-view+json": {
       "model_id": "",
       "version_major": 2,
       "version_minor": 0
      },
      "text/plain": [
       "IntProgress(value=0, max=82)"
      ]
     },
     "metadata": {},
     "output_type": "display_data"
    },
    {
     "name": "stdout",
     "output_type": "stream",
     "text": [
      "19\n"
     ]
    },
    {
     "data": {
      "application/vnd.jupyter.widget-view+json": {
       "model_id": "",
       "version_major": 2,
       "version_minor": 0
      },
      "text/plain": [
       "IntProgress(value=0, max=83)"
      ]
     },
     "metadata": {},
     "output_type": "display_data"
    },
    {
     "name": "stdout",
     "output_type": "stream",
     "text": [
      "20\n"
     ]
    },
    {
     "data": {
      "application/vnd.jupyter.widget-view+json": {
       "model_id": "",
       "version_major": 2,
       "version_minor": 0
      },
      "text/plain": [
       "IntProgress(value=0, max=82)"
      ]
     },
     "metadata": {},
     "output_type": "display_data"
    },
    {
     "name": "stdout",
     "output_type": "stream",
     "text": [
      "21\n"
     ]
    },
    {
     "data": {
      "application/vnd.jupyter.widget-view+json": {
       "model_id": "",
       "version_major": 2,
       "version_minor": 0
      },
      "text/plain": [
       "IntProgress(value=0, max=82)"
      ]
     },
     "metadata": {},
     "output_type": "display_data"
    },
    {
     "name": "stdout",
     "output_type": "stream",
     "text": [
      "22\n"
     ]
    },
    {
     "data": {
      "application/vnd.jupyter.widget-view+json": {
       "model_id": "",
       "version_major": 2,
       "version_minor": 0
      },
      "text/plain": [
       "IntProgress(value=0, max=83)"
      ]
     },
     "metadata": {},
     "output_type": "display_data"
    },
    {
     "name": "stdout",
     "output_type": "stream",
     "text": [
      "23\n"
     ]
    },
    {
     "data": {
      "application/vnd.jupyter.widget-view+json": {
       "model_id": "",
       "version_major": 2,
       "version_minor": 0
      },
      "text/plain": [
       "IntProgress(value=0, max=84)"
      ]
     },
     "metadata": {},
     "output_type": "display_data"
    },
    {
     "name": "stdout",
     "output_type": "stream",
     "text": [
      "24\n"
     ]
    },
    {
     "data": {
      "application/vnd.jupyter.widget-view+json": {
       "model_id": "",
       "version_major": 2,
       "version_minor": 0
      },
      "text/plain": [
       "IntProgress(value=0, max=82)"
      ]
     },
     "metadata": {},
     "output_type": "display_data"
    },
    {
     "name": "stdout",
     "output_type": "stream",
     "text": [
      "25\n"
     ]
    },
    {
     "data": {
      "application/vnd.jupyter.widget-view+json": {
       "model_id": "",
       "version_major": 2,
       "version_minor": 0
      },
      "text/plain": [
       "IntProgress(value=0, max=82)"
      ]
     },
     "metadata": {},
     "output_type": "display_data"
    },
    {
     "name": "stdout",
     "output_type": "stream",
     "text": [
      "26\n"
     ]
    },
    {
     "data": {
      "application/vnd.jupyter.widget-view+json": {
       "model_id": "",
       "version_major": 2,
       "version_minor": 0
      },
      "text/plain": [
       "IntProgress(value=0, max=82)"
      ]
     },
     "metadata": {},
     "output_type": "display_data"
    },
    {
     "name": "stdout",
     "output_type": "stream",
     "text": [
      "27\n"
     ]
    },
    {
     "data": {
      "application/vnd.jupyter.widget-view+json": {
       "model_id": "",
       "version_major": 2,
       "version_minor": 0
      },
      "text/plain": [
       "IntProgress(value=0, max=79)"
      ]
     },
     "metadata": {},
     "output_type": "display_data"
    },
    {
     "name": "stdout",
     "output_type": "stream",
     "text": [
      "28\n"
     ]
    },
    {
     "data": {
      "application/vnd.jupyter.widget-view+json": {
       "model_id": "",
       "version_major": 2,
       "version_minor": 0
      },
      "text/plain": [
       "IntProgress(value=0, max=83)"
      ]
     },
     "metadata": {},
     "output_type": "display_data"
    },
    {
     "name": "stdout",
     "output_type": "stream",
     "text": [
      "29\n"
     ]
    },
    {
     "data": {
      "application/vnd.jupyter.widget-view+json": {
       "model_id": "",
       "version_major": 2,
       "version_minor": 0
      },
      "text/plain": [
       "IntProgress(value=0, max=82)"
      ]
     },
     "metadata": {},
     "output_type": "display_data"
    },
    {
     "name": "stdout",
     "output_type": "stream",
     "text": [
      "30\n"
     ]
    },
    {
     "data": {
      "application/vnd.jupyter.widget-view+json": {
       "model_id": "",
       "version_major": 2,
       "version_minor": 0
      },
      "text/plain": [
       "IntProgress(value=0, max=82)"
      ]
     },
     "metadata": {},
     "output_type": "display_data"
    },
    {
     "name": "stdout",
     "output_type": "stream",
     "text": [
      "31\n"
     ]
    },
    {
     "data": {
      "application/vnd.jupyter.widget-view+json": {
       "model_id": "",
       "version_major": 2,
       "version_minor": 0
      },
      "text/plain": [
       "IntProgress(value=0, max=83)"
      ]
     },
     "metadata": {},
     "output_type": "display_data"
    },
    {
     "name": "stdout",
     "output_type": "stream",
     "text": [
      "32\n"
     ]
    },
    {
     "data": {
      "application/vnd.jupyter.widget-view+json": {
       "model_id": "",
       "version_major": 2,
       "version_minor": 0
      },
      "text/plain": [
       "IntProgress(value=0, max=82)"
      ]
     },
     "metadata": {},
     "output_type": "display_data"
    },
    {
     "name": "stdout",
     "output_type": "stream",
     "text": [
      "33\n"
     ]
    },
    {
     "data": {
      "application/vnd.jupyter.widget-view+json": {
       "model_id": "",
       "version_major": 2,
       "version_minor": 0
      },
      "text/plain": [
       "IntProgress(value=0, max=82)"
      ]
     },
     "metadata": {},
     "output_type": "display_data"
    },
    {
     "name": "stdout",
     "output_type": "stream",
     "text": [
      "34\n"
     ]
    },
    {
     "data": {
      "application/vnd.jupyter.widget-view+json": {
       "model_id": "",
       "version_major": 2,
       "version_minor": 0
      },
      "text/plain": [
       "IntProgress(value=0, max=83)"
      ]
     },
     "metadata": {},
     "output_type": "display_data"
    },
    {
     "name": "stdout",
     "output_type": "stream",
     "text": [
      "35\n"
     ]
    },
    {
     "data": {
      "application/vnd.jupyter.widget-view+json": {
       "model_id": "",
       "version_major": 2,
       "version_minor": 0
      },
      "text/plain": [
       "IntProgress(value=0, max=83)"
      ]
     },
     "metadata": {},
     "output_type": "display_data"
    },
    {
     "name": "stdout",
     "output_type": "stream",
     "text": [
      "36\n"
     ]
    },
    {
     "data": {
      "application/vnd.jupyter.widget-view+json": {
       "model_id": "",
       "version_major": 2,
       "version_minor": 0
      },
      "text/plain": [
       "IntProgress(value=0, max=78)"
      ]
     },
     "metadata": {},
     "output_type": "display_data"
    },
    {
     "name": "stdout",
     "output_type": "stream",
     "text": [
      "37\n"
     ]
    },
    {
     "data": {
      "application/vnd.jupyter.widget-view+json": {
       "model_id": "",
       "version_major": 2,
       "version_minor": 0
      },
      "text/plain": [
       "IntProgress(value=0, max=82)"
      ]
     },
     "metadata": {},
     "output_type": "display_data"
    },
    {
     "name": "stdout",
     "output_type": "stream",
     "text": [
      "38\n"
     ]
    },
    {
     "data": {
      "application/vnd.jupyter.widget-view+json": {
       "model_id": "",
       "version_major": 2,
       "version_minor": 0
      },
      "text/plain": [
       "IntProgress(value=0, max=78)"
      ]
     },
     "metadata": {},
     "output_type": "display_data"
    },
    {
     "name": "stdout",
     "output_type": "stream",
     "text": [
      "39\n"
     ]
    },
    {
     "data": {
      "application/vnd.jupyter.widget-view+json": {
       "model_id": "",
       "version_major": 2,
       "version_minor": 0
      },
      "text/plain": [
       "IntProgress(value=0, max=82)"
      ]
     },
     "metadata": {},
     "output_type": "display_data"
    },
    {
     "name": "stdout",
     "output_type": "stream",
     "text": [
      "40\n"
     ]
    },
    {
     "data": {
      "application/vnd.jupyter.widget-view+json": {
       "model_id": "",
       "version_major": 2,
       "version_minor": 0
      },
      "text/plain": [
       "IntProgress(value=0, max=83)"
      ]
     },
     "metadata": {},
     "output_type": "display_data"
    },
    {
     "name": "stdout",
     "output_type": "stream",
     "text": [
      "41\n"
     ]
    },
    {
     "data": {
      "application/vnd.jupyter.widget-view+json": {
       "model_id": "",
       "version_major": 2,
       "version_minor": 0
      },
      "text/plain": [
       "IntProgress(value=0, max=82)"
      ]
     },
     "metadata": {},
     "output_type": "display_data"
    },
    {
     "name": "stdout",
     "output_type": "stream",
     "text": [
      "42\n"
     ]
    },
    {
     "data": {
      "application/vnd.jupyter.widget-view+json": {
       "model_id": "",
       "version_major": 2,
       "version_minor": 0
      },
      "text/plain": [
       "IntProgress(value=0, max=82)"
      ]
     },
     "metadata": {},
     "output_type": "display_data"
    },
    {
     "name": "stdout",
     "output_type": "stream",
     "text": [
      "43\n"
     ]
    },
    {
     "data": {
      "application/vnd.jupyter.widget-view+json": {
       "model_id": "",
       "version_major": 2,
       "version_minor": 0
      },
      "text/plain": [
       "IntProgress(value=0, max=82)"
      ]
     },
     "metadata": {},
     "output_type": "display_data"
    },
    {
     "name": "stdout",
     "output_type": "stream",
     "text": [
      "44\n"
     ]
    },
    {
     "data": {
      "application/vnd.jupyter.widget-view+json": {
       "model_id": "",
       "version_major": 2,
       "version_minor": 0
      },
      "text/plain": [
       "IntProgress(value=0, max=85)"
      ]
     },
     "metadata": {},
     "output_type": "display_data"
    },
    {
     "name": "stdout",
     "output_type": "stream",
     "text": [
      "45\n"
     ]
    },
    {
     "data": {
      "application/vnd.jupyter.widget-view+json": {
       "model_id": "",
       "version_major": 2,
       "version_minor": 0
      },
      "text/plain": [
       "IntProgress(value=0, max=82)"
      ]
     },
     "metadata": {},
     "output_type": "display_data"
    },
    {
     "name": "stdout",
     "output_type": "stream",
     "text": [
      "46\n"
     ]
    },
    {
     "data": {
      "application/vnd.jupyter.widget-view+json": {
       "model_id": "",
       "version_major": 2,
       "version_minor": 0
      },
      "text/plain": [
       "IntProgress(value=0, max=84)"
      ]
     },
     "metadata": {},
     "output_type": "display_data"
    },
    {
     "name": "stdout",
     "output_type": "stream",
     "text": [
      "47\n"
     ]
    },
    {
     "data": {
      "application/vnd.jupyter.widget-view+json": {
       "model_id": "",
       "version_major": 2,
       "version_minor": 0
      },
      "text/plain": [
       "IntProgress(value=0, max=82)"
      ]
     },
     "metadata": {},
     "output_type": "display_data"
    },
    {
     "name": "stdout",
     "output_type": "stream",
     "text": [
      "48\n"
     ]
    },
    {
     "data": {
      "application/vnd.jupyter.widget-view+json": {
       "model_id": "",
       "version_major": 2,
       "version_minor": 0
      },
      "text/plain": [
       "IntProgress(value=0, max=82)"
      ]
     },
     "metadata": {},
     "output_type": "display_data"
    },
    {
     "name": "stdout",
     "output_type": "stream",
     "text": [
      "49\n"
     ]
    },
    {
     "data": {
      "application/vnd.jupyter.widget-view+json": {
       "model_id": "",
       "version_major": 2,
       "version_minor": 0
      },
      "text/plain": [
       "IntProgress(value=0, max=82)"
      ]
     },
     "metadata": {},
     "output_type": "display_data"
    },
    {
     "name": "stdout",
     "output_type": "stream",
     "text": [
      "50\n"
     ]
    },
    {
     "data": {
      "application/vnd.jupyter.widget-view+json": {
       "model_id": "",
       "version_major": 2,
       "version_minor": 0
      },
      "text/plain": [
       "IntProgress(value=0, max=82)"
      ]
     },
     "metadata": {},
     "output_type": "display_data"
    },
    {
     "name": "stdout",
     "output_type": "stream",
     "text": [
      "51\n"
     ]
    },
    {
     "data": {
      "application/vnd.jupyter.widget-view+json": {
       "model_id": "",
       "version_major": 2,
       "version_minor": 0
      },
      "text/plain": [
       "IntProgress(value=0, max=82)"
      ]
     },
     "metadata": {},
     "output_type": "display_data"
    },
    {
     "name": "stdout",
     "output_type": "stream",
     "text": [
      "52\n"
     ]
    },
    {
     "data": {
      "application/vnd.jupyter.widget-view+json": {
       "model_id": "",
       "version_major": 2,
       "version_minor": 0
      },
      "text/plain": [
       "IntProgress(value=0, max=83)"
      ]
     },
     "metadata": {},
     "output_type": "display_data"
    },
    {
     "name": "stdout",
     "output_type": "stream",
     "text": [
      "53\n"
     ]
    },
    {
     "data": {
      "application/vnd.jupyter.widget-view+json": {
       "model_id": "",
       "version_major": 2,
       "version_minor": 0
      },
      "text/plain": [
       "IntProgress(value=0, max=82)"
      ]
     },
     "metadata": {},
     "output_type": "display_data"
    },
    {
     "name": "stdout",
     "output_type": "stream",
     "text": [
      "54\n"
     ]
    },
    {
     "data": {
      "application/vnd.jupyter.widget-view+json": {
       "model_id": "",
       "version_major": 2,
       "version_minor": 0
      },
      "text/plain": [
       "IntProgress(value=0, max=83)"
      ]
     },
     "metadata": {},
     "output_type": "display_data"
    },
    {
     "name": "stdout",
     "output_type": "stream",
     "text": [
      "55\n"
     ]
    },
    {
     "data": {
      "application/vnd.jupyter.widget-view+json": {
       "model_id": "",
       "version_major": 2,
       "version_minor": 0
      },
      "text/plain": [
       "IntProgress(value=0, max=82)"
      ]
     },
     "metadata": {},
     "output_type": "display_data"
    },
    {
     "name": "stdout",
     "output_type": "stream",
     "text": [
      "56\n"
     ]
    },
    {
     "data": {
      "application/vnd.jupyter.widget-view+json": {
       "model_id": "",
       "version_major": 2,
       "version_minor": 0
      },
      "text/plain": [
       "IntProgress(value=0, max=83)"
      ]
     },
     "metadata": {},
     "output_type": "display_data"
    },
    {
     "name": "stdout",
     "output_type": "stream",
     "text": [
      "57\n"
     ]
    },
    {
     "data": {
      "application/vnd.jupyter.widget-view+json": {
       "model_id": "",
       "version_major": 2,
       "version_minor": 0
      },
      "text/plain": [
       "IntProgress(value=0, max=82)"
      ]
     },
     "metadata": {},
     "output_type": "display_data"
    },
    {
     "name": "stdout",
     "output_type": "stream",
     "text": [
      "58\n"
     ]
    },
    {
     "data": {
      "application/vnd.jupyter.widget-view+json": {
       "model_id": "",
       "version_major": 2,
       "version_minor": 0
      },
      "text/plain": [
       "IntProgress(value=0, max=82)"
      ]
     },
     "metadata": {},
     "output_type": "display_data"
    },
    {
     "name": "stdout",
     "output_type": "stream",
     "text": [
      "59\n"
     ]
    },
    {
     "data": {
      "application/vnd.jupyter.widget-view+json": {
       "model_id": "",
       "version_major": 2,
       "version_minor": 0
      },
      "text/plain": [
       "IntProgress(value=0, max=83)"
      ]
     },
     "metadata": {},
     "output_type": "display_data"
    },
    {
     "name": "stdout",
     "output_type": "stream",
     "text": [
      "60\n"
     ]
    },
    {
     "data": {
      "application/vnd.jupyter.widget-view+json": {
       "model_id": "",
       "version_major": 2,
       "version_minor": 0
      },
      "text/plain": [
       "IntProgress(value=0, max=83)"
      ]
     },
     "metadata": {},
     "output_type": "display_data"
    },
    {
     "name": "stdout",
     "output_type": "stream",
     "text": [
      "61\n"
     ]
    },
    {
     "data": {
      "application/vnd.jupyter.widget-view+json": {
       "model_id": "",
       "version_major": 2,
       "version_minor": 0
      },
      "text/plain": [
       "IntProgress(value=0, max=83)"
      ]
     },
     "metadata": {},
     "output_type": "display_data"
    },
    {
     "name": "stdout",
     "output_type": "stream",
     "text": [
      "62\n"
     ]
    },
    {
     "data": {
      "application/vnd.jupyter.widget-view+json": {
       "model_id": "",
       "version_major": 2,
       "version_minor": 0
      },
      "text/plain": [
       "IntProgress(value=0, max=85)"
      ]
     },
     "metadata": {},
     "output_type": "display_data"
    },
    {
     "name": "stdout",
     "output_type": "stream",
     "text": [
      "63\n"
     ]
    },
    {
     "data": {
      "application/vnd.jupyter.widget-view+json": {
       "model_id": "",
       "version_major": 2,
       "version_minor": 0
      },
      "text/plain": [
       "IntProgress(value=0, max=79)"
      ]
     },
     "metadata": {},
     "output_type": "display_data"
    },
    {
     "name": "stdout",
     "output_type": "stream",
     "text": [
      "64\n"
     ]
    },
    {
     "data": {
      "application/vnd.jupyter.widget-view+json": {
       "model_id": "",
       "version_major": 2,
       "version_minor": 0
      },
      "text/plain": [
       "IntProgress(value=0, max=77)"
      ]
     },
     "metadata": {},
     "output_type": "display_data"
    },
    {
     "name": "stdout",
     "output_type": "stream",
     "text": [
      "65\n"
     ]
    },
    {
     "data": {
      "application/vnd.jupyter.widget-view+json": {
       "model_id": "",
       "version_major": 2,
       "version_minor": 0
      },
      "text/plain": [
       "IntProgress(value=0, max=82)"
      ]
     },
     "metadata": {},
     "output_type": "display_data"
    },
    {
     "name": "stdout",
     "output_type": "stream",
     "text": [
      "66\n"
     ]
    },
    {
     "data": {
      "application/vnd.jupyter.widget-view+json": {
       "model_id": "",
       "version_major": 2,
       "version_minor": 0
      },
      "text/plain": [
       "IntProgress(value=0, max=82)"
      ]
     },
     "metadata": {},
     "output_type": "display_data"
    },
    {
     "name": "stdout",
     "output_type": "stream",
     "text": [
      "67\n"
     ]
    },
    {
     "data": {
      "application/vnd.jupyter.widget-view+json": {
       "model_id": "",
       "version_major": 2,
       "version_minor": 0
      },
      "text/plain": [
       "IntProgress(value=0, max=82)"
      ]
     },
     "metadata": {},
     "output_type": "display_data"
    },
    {
     "name": "stdout",
     "output_type": "stream",
     "text": [
      "68\n"
     ]
    },
    {
     "data": {
      "application/vnd.jupyter.widget-view+json": {
       "model_id": "",
       "version_major": 2,
       "version_minor": 0
      },
      "text/plain": [
       "IntProgress(value=0, max=83)"
      ]
     },
     "metadata": {},
     "output_type": "display_data"
    },
    {
     "name": "stdout",
     "output_type": "stream",
     "text": [
      "69\n"
     ]
    },
    {
     "data": {
      "application/vnd.jupyter.widget-view+json": {
       "model_id": "",
       "version_major": 2,
       "version_minor": 0
      },
      "text/plain": [
       "IntProgress(value=0, max=83)"
      ]
     },
     "metadata": {},
     "output_type": "display_data"
    },
    {
     "name": "stdout",
     "output_type": "stream",
     "text": [
      "70\n"
     ]
    },
    {
     "data": {
      "application/vnd.jupyter.widget-view+json": {
       "model_id": "",
       "version_major": 2,
       "version_minor": 0
      },
      "text/plain": [
       "IntProgress(value=0, max=82)"
      ]
     },
     "metadata": {},
     "output_type": "display_data"
    },
    {
     "name": "stdout",
     "output_type": "stream",
     "text": [
      "71\n"
     ]
    },
    {
     "data": {
      "application/vnd.jupyter.widget-view+json": {
       "model_id": "",
       "version_major": 2,
       "version_minor": 0
      },
      "text/plain": [
       "IntProgress(value=0, max=82)"
      ]
     },
     "metadata": {},
     "output_type": "display_data"
    },
    {
     "name": "stdout",
     "output_type": "stream",
     "text": [
      "72\n"
     ]
    },
    {
     "data": {
      "application/vnd.jupyter.widget-view+json": {
       "model_id": "",
       "version_major": 2,
       "version_minor": 0
      },
      "text/plain": [
       "IntProgress(value=0, max=79)"
      ]
     },
     "metadata": {},
     "output_type": "display_data"
    },
    {
     "name": "stdout",
     "output_type": "stream",
     "text": [
      "73\n"
     ]
    },
    {
     "data": {
      "application/vnd.jupyter.widget-view+json": {
       "model_id": "",
       "version_major": 2,
       "version_minor": 0
      },
      "text/plain": [
       "IntProgress(value=0, max=83)"
      ]
     },
     "metadata": {},
     "output_type": "display_data"
    },
    {
     "name": "stdout",
     "output_type": "stream",
     "text": [
      "74\n"
     ]
    },
    {
     "data": {
      "application/vnd.jupyter.widget-view+json": {
       "model_id": "",
       "version_major": 2,
       "version_minor": 0
      },
      "text/plain": [
       "IntProgress(value=0, max=79)"
      ]
     },
     "metadata": {},
     "output_type": "display_data"
    },
    {
     "name": "stdout",
     "output_type": "stream",
     "text": [
      "75\n"
     ]
    },
    {
     "data": {
      "application/vnd.jupyter.widget-view+json": {
       "model_id": "",
       "version_major": 2,
       "version_minor": 0
      },
      "text/plain": [
       "IntProgress(value=0, max=82)"
      ]
     },
     "metadata": {},
     "output_type": "display_data"
    },
    {
     "name": "stdout",
     "output_type": "stream",
     "text": [
      "76\n"
     ]
    },
    {
     "data": {
      "application/vnd.jupyter.widget-view+json": {
       "model_id": "",
       "version_major": 2,
       "version_minor": 0
      },
      "text/plain": [
       "IntProgress(value=0, max=82)"
      ]
     },
     "metadata": {},
     "output_type": "display_data"
    },
    {
     "name": "stdout",
     "output_type": "stream",
     "text": [
      "77\n"
     ]
    },
    {
     "data": {
      "application/vnd.jupyter.widget-view+json": {
       "model_id": "",
       "version_major": 2,
       "version_minor": 0
      },
      "text/plain": [
       "IntProgress(value=0, max=82)"
      ]
     },
     "metadata": {},
     "output_type": "display_data"
    },
    {
     "name": "stdout",
     "output_type": "stream",
     "text": [
      "78\n"
     ]
    },
    {
     "data": {
      "application/vnd.jupyter.widget-view+json": {
       "model_id": "",
       "version_major": 2,
       "version_minor": 0
      },
      "text/plain": [
       "IntProgress(value=0, max=82)"
      ]
     },
     "metadata": {},
     "output_type": "display_data"
    },
    {
     "name": "stdout",
     "output_type": "stream",
     "text": [
      "79\n"
     ]
    },
    {
     "data": {
      "application/vnd.jupyter.widget-view+json": {
       "model_id": "",
       "version_major": 2,
       "version_minor": 0
      },
      "text/plain": [
       "IntProgress(value=0, max=82)"
      ]
     },
     "metadata": {},
     "output_type": "display_data"
    },
    {
     "name": "stdout",
     "output_type": "stream",
     "text": [
      "80\n"
     ]
    },
    {
     "data": {
      "application/vnd.jupyter.widget-view+json": {
       "model_id": "",
       "version_major": 2,
       "version_minor": 0
      },
      "text/plain": [
       "IntProgress(value=0, max=82)"
      ]
     },
     "metadata": {},
     "output_type": "display_data"
    },
    {
     "name": "stdout",
     "output_type": "stream",
     "text": [
      "81\n"
     ]
    },
    {
     "data": {
      "application/vnd.jupyter.widget-view+json": {
       "model_id": "",
       "version_major": 2,
       "version_minor": 0
      },
      "text/plain": [
       "IntProgress(value=0, max=82)"
      ]
     },
     "metadata": {},
     "output_type": "display_data"
    },
    {
     "name": "stdout",
     "output_type": "stream",
     "text": [
      "82\n"
     ]
    },
    {
     "data": {
      "application/vnd.jupyter.widget-view+json": {
       "model_id": "",
       "version_major": 2,
       "version_minor": 0
      },
      "text/plain": [
       "IntProgress(value=0, max=82)"
      ]
     },
     "metadata": {},
     "output_type": "display_data"
    },
    {
     "name": "stdout",
     "output_type": "stream",
     "text": [
      "83\n"
     ]
    },
    {
     "data": {
      "application/vnd.jupyter.widget-view+json": {
       "model_id": "",
       "version_major": 2,
       "version_minor": 0
      },
      "text/plain": [
       "IntProgress(value=0, max=85)"
      ]
     },
     "metadata": {},
     "output_type": "display_data"
    },
    {
     "name": "stdout",
     "output_type": "stream",
     "text": [
      "84\n"
     ]
    },
    {
     "data": {
      "application/vnd.jupyter.widget-view+json": {
       "model_id": "",
       "version_major": 2,
       "version_minor": 0
      },
      "text/plain": [
       "IntProgress(value=0, max=82)"
      ]
     },
     "metadata": {},
     "output_type": "display_data"
    },
    {
     "name": "stdout",
     "output_type": "stream",
     "text": [
      "85\n"
     ]
    },
    {
     "data": {
      "application/vnd.jupyter.widget-view+json": {
       "model_id": "",
       "version_major": 2,
       "version_minor": 0
      },
      "text/plain": [
       "IntProgress(value=0, max=86)"
      ]
     },
     "metadata": {},
     "output_type": "display_data"
    },
    {
     "name": "stdout",
     "output_type": "stream",
     "text": [
      "86\n"
     ]
    },
    {
     "data": {
      "application/vnd.jupyter.widget-view+json": {
       "model_id": "",
       "version_major": 2,
       "version_minor": 0
      },
      "text/plain": [
       "IntProgress(value=0, max=82)"
      ]
     },
     "metadata": {},
     "output_type": "display_data"
    },
    {
     "name": "stdout",
     "output_type": "stream",
     "text": [
      "87\n"
     ]
    },
    {
     "data": {
      "application/vnd.jupyter.widget-view+json": {
       "model_id": "",
       "version_major": 2,
       "version_minor": 0
      },
      "text/plain": [
       "IntProgress(value=0, max=82)"
      ]
     },
     "metadata": {},
     "output_type": "display_data"
    },
    {
     "name": "stdout",
     "output_type": "stream",
     "text": [
      "88\n"
     ]
    },
    {
     "data": {
      "application/vnd.jupyter.widget-view+json": {
       "model_id": "",
       "version_major": 2,
       "version_minor": 0
      },
      "text/plain": [
       "IntProgress(value=0, max=78)"
      ]
     },
     "metadata": {},
     "output_type": "display_data"
    },
    {
     "name": "stdout",
     "output_type": "stream",
     "text": [
      "89\n"
     ]
    },
    {
     "data": {
      "application/vnd.jupyter.widget-view+json": {
       "model_id": "",
       "version_major": 2,
       "version_minor": 0
      },
      "text/plain": [
       "IntProgress(value=0, max=79)"
      ]
     },
     "metadata": {},
     "output_type": "display_data"
    },
    {
     "name": "stdout",
     "output_type": "stream",
     "text": [
      "90\n"
     ]
    },
    {
     "data": {
      "application/vnd.jupyter.widget-view+json": {
       "model_id": "",
       "version_major": 2,
       "version_minor": 0
      },
      "text/plain": [
       "IntProgress(value=0, max=83)"
      ]
     },
     "metadata": {},
     "output_type": "display_data"
    },
    {
     "name": "stdout",
     "output_type": "stream",
     "text": [
      "91\n"
     ]
    },
    {
     "data": {
      "application/vnd.jupyter.widget-view+json": {
       "model_id": "",
       "version_major": 2,
       "version_minor": 0
      },
      "text/plain": [
       "IntProgress(value=0, max=82)"
      ]
     },
     "metadata": {},
     "output_type": "display_data"
    },
    {
     "name": "stdout",
     "output_type": "stream",
     "text": [
      "92\n"
     ]
    },
    {
     "data": {
      "application/vnd.jupyter.widget-view+json": {
       "model_id": "",
       "version_major": 2,
       "version_minor": 0
      },
      "text/plain": [
       "IntProgress(value=0, max=82)"
      ]
     },
     "metadata": {},
     "output_type": "display_data"
    },
    {
     "name": "stdout",
     "output_type": "stream",
     "text": [
      "93\n"
     ]
    },
    {
     "data": {
      "application/vnd.jupyter.widget-view+json": {
       "model_id": "",
       "version_major": 2,
       "version_minor": 0
      },
      "text/plain": [
       "IntProgress(value=0, max=82)"
      ]
     },
     "metadata": {},
     "output_type": "display_data"
    },
    {
     "name": "stdout",
     "output_type": "stream",
     "text": [
      "94\n"
     ]
    },
    {
     "data": {
      "application/vnd.jupyter.widget-view+json": {
       "model_id": "",
       "version_major": 2,
       "version_minor": 0
      },
      "text/plain": [
       "IntProgress(value=0, max=79)"
      ]
     },
     "metadata": {},
     "output_type": "display_data"
    },
    {
     "name": "stdout",
     "output_type": "stream",
     "text": [
      "95\n"
     ]
    },
    {
     "data": {
      "application/vnd.jupyter.widget-view+json": {
       "model_id": "",
       "version_major": 2,
       "version_minor": 0
      },
      "text/plain": [
       "IntProgress(value=0, max=79)"
      ]
     },
     "metadata": {},
     "output_type": "display_data"
    },
    {
     "name": "stdout",
     "output_type": "stream",
     "text": [
      "96\n"
     ]
    },
    {
     "data": {
      "application/vnd.jupyter.widget-view+json": {
       "model_id": "",
       "version_major": 2,
       "version_minor": 0
      },
      "text/plain": [
       "IntProgress(value=0, max=82)"
      ]
     },
     "metadata": {},
     "output_type": "display_data"
    },
    {
     "name": "stdout",
     "output_type": "stream",
     "text": [
      "97\n"
     ]
    },
    {
     "data": {
      "application/vnd.jupyter.widget-view+json": {
       "model_id": "",
       "version_major": 2,
       "version_minor": 0
      },
      "text/plain": [
       "IntProgress(value=0, max=82)"
      ]
     },
     "metadata": {},
     "output_type": "display_data"
    },
    {
     "name": "stdout",
     "output_type": "stream",
     "text": [
      "98\n"
     ]
    },
    {
     "data": {
      "application/vnd.jupyter.widget-view+json": {
       "model_id": "",
       "version_major": 2,
       "version_minor": 0
      },
      "text/plain": [
       "IntProgress(value=0, max=82)"
      ]
     },
     "metadata": {},
     "output_type": "display_data"
    },
    {
     "name": "stdout",
     "output_type": "stream",
     "text": [
      "99\n"
     ]
    },
    {
     "data": {
      "application/vnd.jupyter.widget-view+json": {
       "model_id": "",
       "version_major": 2,
       "version_minor": 0
      },
      "text/plain": [
       "IntProgress(value=0, max=82)"
      ]
     },
     "metadata": {},
     "output_type": "display_data"
    },
    {
     "name": "stdout",
     "output_type": "stream",
     "text": [
      "100\n"
     ]
    },
    {
     "data": {
      "application/vnd.jupyter.widget-view+json": {
       "model_id": "",
       "version_major": 2,
       "version_minor": 0
      },
      "text/plain": [
       "IntProgress(value=0, max=83)"
      ]
     },
     "metadata": {},
     "output_type": "display_data"
    },
    {
     "name": "stdout",
     "output_type": "stream",
     "text": [
      "101\n"
     ]
    },
    {
     "data": {
      "application/vnd.jupyter.widget-view+json": {
       "model_id": "",
       "version_major": 2,
       "version_minor": 0
      },
      "text/plain": [
       "IntProgress(value=0, max=83)"
      ]
     },
     "metadata": {},
     "output_type": "display_data"
    },
    {
     "name": "stdout",
     "output_type": "stream",
     "text": [
      "102\n"
     ]
    },
    {
     "data": {
      "application/vnd.jupyter.widget-view+json": {
       "model_id": "",
       "version_major": 2,
       "version_minor": 0
      },
      "text/plain": [
       "IntProgress(value=0, max=82)"
      ]
     },
     "metadata": {},
     "output_type": "display_data"
    },
    {
     "name": "stdout",
     "output_type": "stream",
     "text": [
      "103\n"
     ]
    },
    {
     "data": {
      "application/vnd.jupyter.widget-view+json": {
       "model_id": "",
       "version_major": 2,
       "version_minor": 0
      },
      "text/plain": [
       "IntProgress(value=0, max=82)"
      ]
     },
     "metadata": {},
     "output_type": "display_data"
    },
    {
     "name": "stdout",
     "output_type": "stream",
     "text": [
      "104\n"
     ]
    },
    {
     "data": {
      "application/vnd.jupyter.widget-view+json": {
       "model_id": "",
       "version_major": 2,
       "version_minor": 0
      },
      "text/plain": [
       "IntProgress(value=0, max=82)"
      ]
     },
     "metadata": {},
     "output_type": "display_data"
    },
    {
     "name": "stdout",
     "output_type": "stream",
     "text": [
      "105\n"
     ]
    },
    {
     "data": {
      "application/vnd.jupyter.widget-view+json": {
       "model_id": "",
       "version_major": 2,
       "version_minor": 0
      },
      "text/plain": [
       "IntProgress(value=0, max=76)"
      ]
     },
     "metadata": {},
     "output_type": "display_data"
    },
    {
     "name": "stdout",
     "output_type": "stream",
     "text": [
      "106\n"
     ]
    },
    {
     "data": {
      "application/vnd.jupyter.widget-view+json": {
       "model_id": "",
       "version_major": 2,
       "version_minor": 0
      },
      "text/plain": [
       "IntProgress(value=0, max=82)"
      ]
     },
     "metadata": {},
     "output_type": "display_data"
    },
    {
     "name": "stdout",
     "output_type": "stream",
     "text": [
      "107\n"
     ]
    },
    {
     "data": {
      "application/vnd.jupyter.widget-view+json": {
       "model_id": "",
       "version_major": 2,
       "version_minor": 0
      },
      "text/plain": [
       "IntProgress(value=0, max=82)"
      ]
     },
     "metadata": {},
     "output_type": "display_data"
    }
   ],
   "source": [
    "from Dataset import get_sentences\n",
    "\n",
    "sentences = get_sentences('..\\\\Dictionary\\\\roman_urdu_sentences.txt')\n",
    "\n",
    "speaker_id = 6\n",
    "\n",
    "#file_path = \"..\\\\Dataset\\\\Urdu\\\\6\\\\aap_konsa_thay_jee_kon_ek\\\\_video.avi\"\n",
    "\n",
    "x_sen = []\n",
    "y_sen = []\n",
    "\n",
    "cnt = 0\n",
    "\n",
    "for i in sentences:\n",
    "    \n",
    "    print(cnt)\n",
    "    \n",
    "    # Appending in actual sentence list\n",
    "    x_sen.append(i)\n",
    "    \n",
    "    sen = i.replace(' ','_')\n",
    "    \n",
    "    # Parsing filepath of the video file\n",
    "    file_path = \"..\\\\Dataset\\\\Urdu\\\\\" + str(speaker_id) + \"\\\\\" + sen + \"\\\\_video.avi\"\n",
    "\n",
    "    # Making prediction on video and parsing sentencing\n",
    "    prediction = predict_word_level(file_path, word_list, CLASSES_LIST, SEQUENCE_LENGTH)\n",
    "    predicted_sentence = parse_sentence(prediction, most_freq_word)\n",
    "    \n",
    "    # Appending in predicted sentence list\n",
    "    y_sen.append(predicted_sentence)\n",
    "    \n",
    "    cnt += 1\n",
    "\n",
    "\n"
   ]
  },
  {
   "cell_type": "code",
   "execution_count": 141,
   "id": "199bf6b9",
   "metadata": {},
   "outputs": [],
   "source": [
    "#Function to get urdu dictionary sentences\n",
    "def get_urdu_sentences(path):\n",
    "    #path = '..\\\\Dictionary\\\\roman_urdu_sentences.txt'\n",
    "\n",
    "    # Using readlines()\n",
    "    file = open(path, 'r', encoding='utf-8')\n",
    "    lines = file.readlines()\n",
    "\n",
    "    for i in range(len(lines)):\n",
    "        lines[i] = lines[i].replace(\"\\n\", \"\")\n",
    "\n",
    "    return lines"
   ]
  },
  {
   "cell_type": "code",
   "execution_count": 150,
   "id": "6c21baa5",
   "metadata": {},
   "outputs": [
    {
     "name": "stdout",
     "output_type": "stream",
     "text": [
      "0.6867283950617283\n"
     ]
    }
   ],
   "source": [
    "# Library to calculate WER\n",
    "from jiwer import wer\n",
    "\n",
    "#print(len(x_sen))\n",
    "#print(len(y_sen))\n",
    "urdu_sen = get_urdu_sentences('..\\\\Dictionary\\\\urdu_sentences.txt')\n",
    "\n",
    "total_wer = 0\n",
    "\n",
    "#print(\"       Predicted       -          Actual\")\n",
    "for i in range(0, len(urdu_sen)):\n",
    "    #print(urdu_sen[i], \" --- \" , y_sen[i])\n",
    "    \n",
    "    #arg = (ref, hypothesis)\n",
    "    total_wer += wer(urdu_sen[i], y_sen[i])\n",
    "\n",
    "avg_wer = total_wer / len(urdu_sen)\n",
    "    \n",
    "print(avg_wer)    "
   ]
  },
  {
   "cell_type": "markdown",
   "id": "b2621f62",
   "metadata": {},
   "source": [
    "- Hence using the `most_freq_word()` function we get 0.68 WER (Trained only on single speaker and tested on the same speaker aswell)"
   ]
  },
  {
   "cell_type": "markdown",
   "id": "a7ef45d6",
   "metadata": {},
   "source": [
    "###### - WER of `highest_prob_word()`"
   ]
  },
  {
   "cell_type": "code",
   "execution_count": 151,
   "id": "1ec42ba5",
   "metadata": {},
   "outputs": [
    {
     "name": "stdout",
     "output_type": "stream",
     "text": [
      "0\n"
     ]
    },
    {
     "data": {
      "application/vnd.jupyter.widget-view+json": {
       "model_id": "654db867f6df4895ba79bf68ec6c1523",
       "version_major": 2,
       "version_minor": 0
      },
      "text/plain": [
       "IntProgress(value=0, max=83)"
      ]
     },
     "metadata": {},
     "output_type": "display_data"
    },
    {
     "name": "stdout",
     "output_type": "stream",
     "text": [
      "1\n"
     ]
    },
    {
     "data": {
      "application/vnd.jupyter.widget-view+json": {
       "model_id": "f50c8943d4664b9ab7aed61d7bac0423",
       "version_major": 2,
       "version_minor": 0
      },
      "text/plain": [
       "IntProgress(value=0, max=83)"
      ]
     },
     "metadata": {},
     "output_type": "display_data"
    },
    {
     "name": "stdout",
     "output_type": "stream",
     "text": [
      "2\n"
     ]
    },
    {
     "data": {
      "application/vnd.jupyter.widget-view+json": {
       "model_id": "69f50c22f30e4d6b889f7c96fe9fbb44",
       "version_major": 2,
       "version_minor": 0
      },
      "text/plain": [
       "IntProgress(value=0, max=79)"
      ]
     },
     "metadata": {},
     "output_type": "display_data"
    },
    {
     "name": "stdout",
     "output_type": "stream",
     "text": [
      "3\n"
     ]
    },
    {
     "data": {
      "application/vnd.jupyter.widget-view+json": {
       "model_id": "956690fdbad2416b9bdbde88d3f11bfe",
       "version_major": 2,
       "version_minor": 0
      },
      "text/plain": [
       "IntProgress(value=0, max=83)"
      ]
     },
     "metadata": {},
     "output_type": "display_data"
    },
    {
     "name": "stdout",
     "output_type": "stream",
     "text": [
      "4\n"
     ]
    },
    {
     "data": {
      "application/vnd.jupyter.widget-view+json": {
       "model_id": "753e1dbc168247a691e3d4fe8e4740b4",
       "version_major": 2,
       "version_minor": 0
      },
      "text/plain": [
       "IntProgress(value=0, max=82)"
      ]
     },
     "metadata": {},
     "output_type": "display_data"
    },
    {
     "name": "stdout",
     "output_type": "stream",
     "text": [
      "5\n"
     ]
    },
    {
     "data": {
      "application/vnd.jupyter.widget-view+json": {
       "model_id": "ec36b30b095240e99275ccf60e60fc5e",
       "version_major": 2,
       "version_minor": 0
      },
      "text/plain": [
       "IntProgress(value=0, max=82)"
      ]
     },
     "metadata": {},
     "output_type": "display_data"
    },
    {
     "name": "stdout",
     "output_type": "stream",
     "text": [
      "6\n"
     ]
    },
    {
     "data": {
      "application/vnd.jupyter.widget-view+json": {
       "model_id": "1d2579e2ef67412187a491b67a1389ed",
       "version_major": 2,
       "version_minor": 0
      },
      "text/plain": [
       "IntProgress(value=0, max=83)"
      ]
     },
     "metadata": {},
     "output_type": "display_data"
    },
    {
     "name": "stdout",
     "output_type": "stream",
     "text": [
      "7\n"
     ]
    },
    {
     "data": {
      "application/vnd.jupyter.widget-view+json": {
       "model_id": "b7382f5d7a1f43d88dc6892c56ab2e82",
       "version_major": 2,
       "version_minor": 0
      },
      "text/plain": [
       "IntProgress(value=0, max=85)"
      ]
     },
     "metadata": {},
     "output_type": "display_data"
    },
    {
     "name": "stdout",
     "output_type": "stream",
     "text": [
      "8\n"
     ]
    },
    {
     "data": {
      "application/vnd.jupyter.widget-view+json": {
       "model_id": "09d1a54d3cce4026bdda59000bea898e",
       "version_major": 2,
       "version_minor": 0
      },
      "text/plain": [
       "IntProgress(value=0, max=83)"
      ]
     },
     "metadata": {},
     "output_type": "display_data"
    },
    {
     "name": "stdout",
     "output_type": "stream",
     "text": [
      "9\n"
     ]
    },
    {
     "data": {
      "application/vnd.jupyter.widget-view+json": {
       "model_id": "b52145f9a5394770adb3c208439de873",
       "version_major": 2,
       "version_minor": 0
      },
      "text/plain": [
       "IntProgress(value=0, max=82)"
      ]
     },
     "metadata": {},
     "output_type": "display_data"
    },
    {
     "name": "stdout",
     "output_type": "stream",
     "text": [
      "10\n"
     ]
    },
    {
     "data": {
      "application/vnd.jupyter.widget-view+json": {
       "model_id": "ea71bdcb58924b91a306c58c302d4b54",
       "version_major": 2,
       "version_minor": 0
      },
      "text/plain": [
       "IntProgress(value=0, max=81)"
      ]
     },
     "metadata": {},
     "output_type": "display_data"
    },
    {
     "name": "stdout",
     "output_type": "stream",
     "text": [
      "11\n"
     ]
    },
    {
     "data": {
      "application/vnd.jupyter.widget-view+json": {
       "model_id": "8e9264e15f354291ac610601f1aa7e49",
       "version_major": 2,
       "version_minor": 0
      },
      "text/plain": [
       "IntProgress(value=0, max=82)"
      ]
     },
     "metadata": {},
     "output_type": "display_data"
    },
    {
     "name": "stdout",
     "output_type": "stream",
     "text": [
      "12\n"
     ]
    },
    {
     "data": {
      "application/vnd.jupyter.widget-view+json": {
       "model_id": "7442c45b4d9c4bccb7627d2ea512311a",
       "version_major": 2,
       "version_minor": 0
      },
      "text/plain": [
       "IntProgress(value=0, max=82)"
      ]
     },
     "metadata": {},
     "output_type": "display_data"
    },
    {
     "name": "stdout",
     "output_type": "stream",
     "text": [
      "13\n"
     ]
    },
    {
     "data": {
      "application/vnd.jupyter.widget-view+json": {
       "model_id": "485c57dce9114fd28ee434635cb4f629",
       "version_major": 2,
       "version_minor": 0
      },
      "text/plain": [
       "IntProgress(value=0, max=82)"
      ]
     },
     "metadata": {},
     "output_type": "display_data"
    },
    {
     "name": "stdout",
     "output_type": "stream",
     "text": [
      "14\n"
     ]
    },
    {
     "data": {
      "application/vnd.jupyter.widget-view+json": {
       "model_id": "8cc1887bcf754f4089e612b71fa0e4ed",
       "version_major": 2,
       "version_minor": 0
      },
      "text/plain": [
       "IntProgress(value=0, max=83)"
      ]
     },
     "metadata": {},
     "output_type": "display_data"
    },
    {
     "name": "stdout",
     "output_type": "stream",
     "text": [
      "15\n"
     ]
    },
    {
     "data": {
      "application/vnd.jupyter.widget-view+json": {
       "model_id": "a16d644f3f05472ba226c286144376c9",
       "version_major": 2,
       "version_minor": 0
      },
      "text/plain": [
       "IntProgress(value=0, max=82)"
      ]
     },
     "metadata": {},
     "output_type": "display_data"
    },
    {
     "name": "stdout",
     "output_type": "stream",
     "text": [
      "16\n"
     ]
    },
    {
     "data": {
      "application/vnd.jupyter.widget-view+json": {
       "model_id": "0e00e5a945264a37b6559616eee2d493",
       "version_major": 2,
       "version_minor": 0
      },
      "text/plain": [
       "IntProgress(value=0, max=82)"
      ]
     },
     "metadata": {},
     "output_type": "display_data"
    },
    {
     "name": "stdout",
     "output_type": "stream",
     "text": [
      "17\n"
     ]
    },
    {
     "data": {
      "application/vnd.jupyter.widget-view+json": {
       "model_id": "19f2aa9a7e484226b85fde44bc9ff8e3",
       "version_major": 2,
       "version_minor": 0
      },
      "text/plain": [
       "IntProgress(value=0, max=82)"
      ]
     },
     "metadata": {},
     "output_type": "display_data"
    },
    {
     "name": "stdout",
     "output_type": "stream",
     "text": [
      "18\n"
     ]
    },
    {
     "data": {
      "application/vnd.jupyter.widget-view+json": {
       "model_id": "edf612e7110e4b4bb4925aa2ec4779c9",
       "version_major": 2,
       "version_minor": 0
      },
      "text/plain": [
       "IntProgress(value=0, max=82)"
      ]
     },
     "metadata": {},
     "output_type": "display_data"
    },
    {
     "name": "stdout",
     "output_type": "stream",
     "text": [
      "19\n"
     ]
    },
    {
     "data": {
      "application/vnd.jupyter.widget-view+json": {
       "model_id": "a6fb57b1be534d3e8994f362911c0a83",
       "version_major": 2,
       "version_minor": 0
      },
      "text/plain": [
       "IntProgress(value=0, max=83)"
      ]
     },
     "metadata": {},
     "output_type": "display_data"
    },
    {
     "name": "stdout",
     "output_type": "stream",
     "text": [
      "20\n"
     ]
    },
    {
     "data": {
      "application/vnd.jupyter.widget-view+json": {
       "model_id": "788b4e8c88c44015acf50f63bbc66323",
       "version_major": 2,
       "version_minor": 0
      },
      "text/plain": [
       "IntProgress(value=0, max=82)"
      ]
     },
     "metadata": {},
     "output_type": "display_data"
    },
    {
     "name": "stdout",
     "output_type": "stream",
     "text": [
      "21\n"
     ]
    },
    {
     "data": {
      "application/vnd.jupyter.widget-view+json": {
       "model_id": "bbb283b773b64c3c99a35bdd17fd1eee",
       "version_major": 2,
       "version_minor": 0
      },
      "text/plain": [
       "IntProgress(value=0, max=82)"
      ]
     },
     "metadata": {},
     "output_type": "display_data"
    },
    {
     "name": "stdout",
     "output_type": "stream",
     "text": [
      "22\n"
     ]
    },
    {
     "data": {
      "application/vnd.jupyter.widget-view+json": {
       "model_id": "7df4442c550c49de944eb9b4e60f8ebf",
       "version_major": 2,
       "version_minor": 0
      },
      "text/plain": [
       "IntProgress(value=0, max=83)"
      ]
     },
     "metadata": {},
     "output_type": "display_data"
    },
    {
     "name": "stdout",
     "output_type": "stream",
     "text": [
      "23\n"
     ]
    },
    {
     "data": {
      "application/vnd.jupyter.widget-view+json": {
       "model_id": "c80f56001dc44527a4a3d12eb99bc253",
       "version_major": 2,
       "version_minor": 0
      },
      "text/plain": [
       "IntProgress(value=0, max=84)"
      ]
     },
     "metadata": {},
     "output_type": "display_data"
    },
    {
     "name": "stdout",
     "output_type": "stream",
     "text": [
      "24\n"
     ]
    },
    {
     "data": {
      "application/vnd.jupyter.widget-view+json": {
       "model_id": "1298e9483edf49af8ede71064ee8053c",
       "version_major": 2,
       "version_minor": 0
      },
      "text/plain": [
       "IntProgress(value=0, max=82)"
      ]
     },
     "metadata": {},
     "output_type": "display_data"
    },
    {
     "name": "stdout",
     "output_type": "stream",
     "text": [
      "25\n"
     ]
    },
    {
     "data": {
      "application/vnd.jupyter.widget-view+json": {
       "model_id": "dbd038cbba0a40faab7fdf701c47e6b1",
       "version_major": 2,
       "version_minor": 0
      },
      "text/plain": [
       "IntProgress(value=0, max=82)"
      ]
     },
     "metadata": {},
     "output_type": "display_data"
    },
    {
     "name": "stdout",
     "output_type": "stream",
     "text": [
      "26\n"
     ]
    },
    {
     "data": {
      "application/vnd.jupyter.widget-view+json": {
       "model_id": "4887cd3788714c3f9d923e0d9c0b2388",
       "version_major": 2,
       "version_minor": 0
      },
      "text/plain": [
       "IntProgress(value=0, max=82)"
      ]
     },
     "metadata": {},
     "output_type": "display_data"
    },
    {
     "name": "stdout",
     "output_type": "stream",
     "text": [
      "27\n"
     ]
    },
    {
     "data": {
      "application/vnd.jupyter.widget-view+json": {
       "model_id": "109c37f5ea4245fe95b8cbeda64bbf12",
       "version_major": 2,
       "version_minor": 0
      },
      "text/plain": [
       "IntProgress(value=0, max=79)"
      ]
     },
     "metadata": {},
     "output_type": "display_data"
    },
    {
     "name": "stdout",
     "output_type": "stream",
     "text": [
      "28\n"
     ]
    },
    {
     "data": {
      "application/vnd.jupyter.widget-view+json": {
       "model_id": "6fba1224d9114b1faea9f81114807ce2",
       "version_major": 2,
       "version_minor": 0
      },
      "text/plain": [
       "IntProgress(value=0, max=83)"
      ]
     },
     "metadata": {},
     "output_type": "display_data"
    },
    {
     "name": "stdout",
     "output_type": "stream",
     "text": [
      "29\n"
     ]
    },
    {
     "data": {
      "application/vnd.jupyter.widget-view+json": {
       "model_id": "f2ff7e0a067d4e5ebfd4a8d35c1e8541",
       "version_major": 2,
       "version_minor": 0
      },
      "text/plain": [
       "IntProgress(value=0, max=82)"
      ]
     },
     "metadata": {},
     "output_type": "display_data"
    },
    {
     "name": "stdout",
     "output_type": "stream",
     "text": [
      "30\n"
     ]
    },
    {
     "data": {
      "application/vnd.jupyter.widget-view+json": {
       "model_id": "02ef76dfd845428c89127fa741e8e42f",
       "version_major": 2,
       "version_minor": 0
      },
      "text/plain": [
       "IntProgress(value=0, max=82)"
      ]
     },
     "metadata": {},
     "output_type": "display_data"
    },
    {
     "name": "stdout",
     "output_type": "stream",
     "text": [
      "31\n"
     ]
    },
    {
     "data": {
      "application/vnd.jupyter.widget-view+json": {
       "model_id": "f43cd5297f4e47339a5dc9282b07da45",
       "version_major": 2,
       "version_minor": 0
      },
      "text/plain": [
       "IntProgress(value=0, max=83)"
      ]
     },
     "metadata": {},
     "output_type": "display_data"
    },
    {
     "name": "stdout",
     "output_type": "stream",
     "text": [
      "32\n"
     ]
    },
    {
     "data": {
      "application/vnd.jupyter.widget-view+json": {
       "model_id": "f1b26fff27684272a8543936d8fad941",
       "version_major": 2,
       "version_minor": 0
      },
      "text/plain": [
       "IntProgress(value=0, max=82)"
      ]
     },
     "metadata": {},
     "output_type": "display_data"
    },
    {
     "name": "stdout",
     "output_type": "stream",
     "text": [
      "33\n"
     ]
    },
    {
     "data": {
      "application/vnd.jupyter.widget-view+json": {
       "model_id": "449b29c4c65c4003999351e55006911d",
       "version_major": 2,
       "version_minor": 0
      },
      "text/plain": [
       "IntProgress(value=0, max=82)"
      ]
     },
     "metadata": {},
     "output_type": "display_data"
    },
    {
     "name": "stdout",
     "output_type": "stream",
     "text": [
      "34\n"
     ]
    },
    {
     "data": {
      "application/vnd.jupyter.widget-view+json": {
       "model_id": "af3a59ec311e412484d21ed3d6bbaf23",
       "version_major": 2,
       "version_minor": 0
      },
      "text/plain": [
       "IntProgress(value=0, max=83)"
      ]
     },
     "metadata": {},
     "output_type": "display_data"
    },
    {
     "name": "stdout",
     "output_type": "stream",
     "text": [
      "35\n"
     ]
    },
    {
     "data": {
      "application/vnd.jupyter.widget-view+json": {
       "model_id": "e6ac629046154debae6ce20d2933e97d",
       "version_major": 2,
       "version_minor": 0
      },
      "text/plain": [
       "IntProgress(value=0, max=83)"
      ]
     },
     "metadata": {},
     "output_type": "display_data"
    },
    {
     "name": "stdout",
     "output_type": "stream",
     "text": [
      "36\n"
     ]
    },
    {
     "data": {
      "application/vnd.jupyter.widget-view+json": {
       "model_id": "25919acdf39d4dc9919a04248fda3ac9",
       "version_major": 2,
       "version_minor": 0
      },
      "text/plain": [
       "IntProgress(value=0, max=78)"
      ]
     },
     "metadata": {},
     "output_type": "display_data"
    },
    {
     "name": "stdout",
     "output_type": "stream",
     "text": [
      "37\n"
     ]
    },
    {
     "data": {
      "application/vnd.jupyter.widget-view+json": {
       "model_id": "545d1181781b428f982757b40830a495",
       "version_major": 2,
       "version_minor": 0
      },
      "text/plain": [
       "IntProgress(value=0, max=82)"
      ]
     },
     "metadata": {},
     "output_type": "display_data"
    },
    {
     "name": "stdout",
     "output_type": "stream",
     "text": [
      "38\n"
     ]
    },
    {
     "data": {
      "application/vnd.jupyter.widget-view+json": {
       "model_id": "21bfbc58697a453c9661e5b3678ea8e4",
       "version_major": 2,
       "version_minor": 0
      },
      "text/plain": [
       "IntProgress(value=0, max=78)"
      ]
     },
     "metadata": {},
     "output_type": "display_data"
    },
    {
     "name": "stdout",
     "output_type": "stream",
     "text": [
      "39\n"
     ]
    },
    {
     "data": {
      "application/vnd.jupyter.widget-view+json": {
       "model_id": "d67f935f7923410093196edd639c444a",
       "version_major": 2,
       "version_minor": 0
      },
      "text/plain": [
       "IntProgress(value=0, max=82)"
      ]
     },
     "metadata": {},
     "output_type": "display_data"
    },
    {
     "name": "stdout",
     "output_type": "stream",
     "text": [
      "40\n"
     ]
    },
    {
     "data": {
      "application/vnd.jupyter.widget-view+json": {
       "model_id": "0fb971e0b47e485ca0438f207fee57cb",
       "version_major": 2,
       "version_minor": 0
      },
      "text/plain": [
       "IntProgress(value=0, max=83)"
      ]
     },
     "metadata": {},
     "output_type": "display_data"
    },
    {
     "name": "stdout",
     "output_type": "stream",
     "text": [
      "41\n"
     ]
    },
    {
     "data": {
      "application/vnd.jupyter.widget-view+json": {
       "model_id": "bcda8aa9ae7e42ae858eb410677b950b",
       "version_major": 2,
       "version_minor": 0
      },
      "text/plain": [
       "IntProgress(value=0, max=82)"
      ]
     },
     "metadata": {},
     "output_type": "display_data"
    },
    {
     "name": "stdout",
     "output_type": "stream",
     "text": [
      "42\n"
     ]
    },
    {
     "data": {
      "application/vnd.jupyter.widget-view+json": {
       "model_id": "4e66595b11da4872b687c9d541eb6835",
       "version_major": 2,
       "version_minor": 0
      },
      "text/plain": [
       "IntProgress(value=0, max=82)"
      ]
     },
     "metadata": {},
     "output_type": "display_data"
    },
    {
     "name": "stdout",
     "output_type": "stream",
     "text": [
      "43\n"
     ]
    },
    {
     "data": {
      "application/vnd.jupyter.widget-view+json": {
       "model_id": "2036e2fab6a64343966a3cdcfa01498a",
       "version_major": 2,
       "version_minor": 0
      },
      "text/plain": [
       "IntProgress(value=0, max=82)"
      ]
     },
     "metadata": {},
     "output_type": "display_data"
    },
    {
     "name": "stdout",
     "output_type": "stream",
     "text": [
      "44\n"
     ]
    },
    {
     "data": {
      "application/vnd.jupyter.widget-view+json": {
       "model_id": "3f64b7ac9278461dabdbe127339e8a41",
       "version_major": 2,
       "version_minor": 0
      },
      "text/plain": [
       "IntProgress(value=0, max=85)"
      ]
     },
     "metadata": {},
     "output_type": "display_data"
    },
    {
     "name": "stdout",
     "output_type": "stream",
     "text": [
      "45\n"
     ]
    },
    {
     "data": {
      "application/vnd.jupyter.widget-view+json": {
       "model_id": "dfa75c6b9142493080dee9d312874baa",
       "version_major": 2,
       "version_minor": 0
      },
      "text/plain": [
       "IntProgress(value=0, max=82)"
      ]
     },
     "metadata": {},
     "output_type": "display_data"
    },
    {
     "name": "stdout",
     "output_type": "stream",
     "text": [
      "46\n"
     ]
    },
    {
     "data": {
      "application/vnd.jupyter.widget-view+json": {
       "model_id": "115eea34d80f4ec78dc33a9c7f4f2491",
       "version_major": 2,
       "version_minor": 0
      },
      "text/plain": [
       "IntProgress(value=0, max=84)"
      ]
     },
     "metadata": {},
     "output_type": "display_data"
    },
    {
     "name": "stdout",
     "output_type": "stream",
     "text": [
      "47\n"
     ]
    },
    {
     "data": {
      "application/vnd.jupyter.widget-view+json": {
       "model_id": "c86adc7672fc4f2ab149f5956b047beb",
       "version_major": 2,
       "version_minor": 0
      },
      "text/plain": [
       "IntProgress(value=0, max=82)"
      ]
     },
     "metadata": {},
     "output_type": "display_data"
    },
    {
     "name": "stdout",
     "output_type": "stream",
     "text": [
      "48\n"
     ]
    },
    {
     "data": {
      "application/vnd.jupyter.widget-view+json": {
       "model_id": "675b37416520409f979c33700f71a53c",
       "version_major": 2,
       "version_minor": 0
      },
      "text/plain": [
       "IntProgress(value=0, max=82)"
      ]
     },
     "metadata": {},
     "output_type": "display_data"
    },
    {
     "name": "stdout",
     "output_type": "stream",
     "text": [
      "49\n"
     ]
    },
    {
     "data": {
      "application/vnd.jupyter.widget-view+json": {
       "model_id": "81d6e986cc1c45e1add23a1dead1e364",
       "version_major": 2,
       "version_minor": 0
      },
      "text/plain": [
       "IntProgress(value=0, max=82)"
      ]
     },
     "metadata": {},
     "output_type": "display_data"
    },
    {
     "name": "stdout",
     "output_type": "stream",
     "text": [
      "50\n"
     ]
    },
    {
     "data": {
      "application/vnd.jupyter.widget-view+json": {
       "model_id": "1066f084447c487eb8329abc119534b2",
       "version_major": 2,
       "version_minor": 0
      },
      "text/plain": [
       "IntProgress(value=0, max=82)"
      ]
     },
     "metadata": {},
     "output_type": "display_data"
    },
    {
     "name": "stdout",
     "output_type": "stream",
     "text": [
      "51\n"
     ]
    },
    {
     "data": {
      "application/vnd.jupyter.widget-view+json": {
       "model_id": "43926cb2d682450cafa00b2bbd531651",
       "version_major": 2,
       "version_minor": 0
      },
      "text/plain": [
       "IntProgress(value=0, max=82)"
      ]
     },
     "metadata": {},
     "output_type": "display_data"
    },
    {
     "name": "stdout",
     "output_type": "stream",
     "text": [
      "52\n"
     ]
    },
    {
     "data": {
      "application/vnd.jupyter.widget-view+json": {
       "model_id": "37074dc101db474d8aacd87ea2964760",
       "version_major": 2,
       "version_minor": 0
      },
      "text/plain": [
       "IntProgress(value=0, max=83)"
      ]
     },
     "metadata": {},
     "output_type": "display_data"
    },
    {
     "name": "stdout",
     "output_type": "stream",
     "text": [
      "53\n"
     ]
    },
    {
     "data": {
      "application/vnd.jupyter.widget-view+json": {
       "model_id": "f9bd9b9a3dea4862ab1a6fb5149929e5",
       "version_major": 2,
       "version_minor": 0
      },
      "text/plain": [
       "IntProgress(value=0, max=82)"
      ]
     },
     "metadata": {},
     "output_type": "display_data"
    },
    {
     "name": "stdout",
     "output_type": "stream",
     "text": [
      "54\n"
     ]
    },
    {
     "data": {
      "application/vnd.jupyter.widget-view+json": {
       "model_id": "a2cd8406fd844e678461650bb4c5c0fb",
       "version_major": 2,
       "version_minor": 0
      },
      "text/plain": [
       "IntProgress(value=0, max=83)"
      ]
     },
     "metadata": {},
     "output_type": "display_data"
    },
    {
     "name": "stdout",
     "output_type": "stream",
     "text": [
      "55\n"
     ]
    },
    {
     "data": {
      "application/vnd.jupyter.widget-view+json": {
       "model_id": "b153d04395224c1ba0584f477674c60c",
       "version_major": 2,
       "version_minor": 0
      },
      "text/plain": [
       "IntProgress(value=0, max=82)"
      ]
     },
     "metadata": {},
     "output_type": "display_data"
    },
    {
     "name": "stdout",
     "output_type": "stream",
     "text": [
      "56\n"
     ]
    },
    {
     "data": {
      "application/vnd.jupyter.widget-view+json": {
       "model_id": "0660adcfae5f4ccb970f2e4e168a80f1",
       "version_major": 2,
       "version_minor": 0
      },
      "text/plain": [
       "IntProgress(value=0, max=83)"
      ]
     },
     "metadata": {},
     "output_type": "display_data"
    },
    {
     "name": "stdout",
     "output_type": "stream",
     "text": [
      "57\n"
     ]
    },
    {
     "data": {
      "application/vnd.jupyter.widget-view+json": {
       "model_id": "9531835dacf444f1a7aadc705f2170bc",
       "version_major": 2,
       "version_minor": 0
      },
      "text/plain": [
       "IntProgress(value=0, max=82)"
      ]
     },
     "metadata": {},
     "output_type": "display_data"
    },
    {
     "name": "stdout",
     "output_type": "stream",
     "text": [
      "58\n"
     ]
    },
    {
     "data": {
      "application/vnd.jupyter.widget-view+json": {
       "model_id": "6234636fb990461fac1b2d75e2f05a7a",
       "version_major": 2,
       "version_minor": 0
      },
      "text/plain": [
       "IntProgress(value=0, max=82)"
      ]
     },
     "metadata": {},
     "output_type": "display_data"
    },
    {
     "name": "stdout",
     "output_type": "stream",
     "text": [
      "59\n"
     ]
    },
    {
     "data": {
      "application/vnd.jupyter.widget-view+json": {
       "model_id": "7230d97de492415480f9f6001f7b006c",
       "version_major": 2,
       "version_minor": 0
      },
      "text/plain": [
       "IntProgress(value=0, max=83)"
      ]
     },
     "metadata": {},
     "output_type": "display_data"
    },
    {
     "name": "stdout",
     "output_type": "stream",
     "text": [
      "60\n"
     ]
    },
    {
     "data": {
      "application/vnd.jupyter.widget-view+json": {
       "model_id": "584346551982464ba5bae796f381c4f9",
       "version_major": 2,
       "version_minor": 0
      },
      "text/plain": [
       "IntProgress(value=0, max=83)"
      ]
     },
     "metadata": {},
     "output_type": "display_data"
    },
    {
     "name": "stdout",
     "output_type": "stream",
     "text": [
      "61\n"
     ]
    },
    {
     "data": {
      "application/vnd.jupyter.widget-view+json": {
       "model_id": "6b370695606447278547814c235dca3c",
       "version_major": 2,
       "version_minor": 0
      },
      "text/plain": [
       "IntProgress(value=0, max=83)"
      ]
     },
     "metadata": {},
     "output_type": "display_data"
    },
    {
     "name": "stdout",
     "output_type": "stream",
     "text": [
      "62\n"
     ]
    },
    {
     "data": {
      "application/vnd.jupyter.widget-view+json": {
       "model_id": "6e537083d6b44e8d8eded30e2fc5a0ba",
       "version_major": 2,
       "version_minor": 0
      },
      "text/plain": [
       "IntProgress(value=0, max=85)"
      ]
     },
     "metadata": {},
     "output_type": "display_data"
    },
    {
     "name": "stdout",
     "output_type": "stream",
     "text": [
      "63\n"
     ]
    },
    {
     "data": {
      "application/vnd.jupyter.widget-view+json": {
       "model_id": "2c81255546434b0c8f7fcc950aca59bc",
       "version_major": 2,
       "version_minor": 0
      },
      "text/plain": [
       "IntProgress(value=0, max=79)"
      ]
     },
     "metadata": {},
     "output_type": "display_data"
    },
    {
     "name": "stdout",
     "output_type": "stream",
     "text": [
      "64\n"
     ]
    },
    {
     "data": {
      "application/vnd.jupyter.widget-view+json": {
       "model_id": "db62bb6820df4de6a1c9646d9ac84d9a",
       "version_major": 2,
       "version_minor": 0
      },
      "text/plain": [
       "IntProgress(value=0, max=77)"
      ]
     },
     "metadata": {},
     "output_type": "display_data"
    },
    {
     "name": "stdout",
     "output_type": "stream",
     "text": [
      "65\n"
     ]
    },
    {
     "data": {
      "application/vnd.jupyter.widget-view+json": {
       "model_id": "6c61852cc76a42ebbe179272527911eb",
       "version_major": 2,
       "version_minor": 0
      },
      "text/plain": [
       "IntProgress(value=0, max=82)"
      ]
     },
     "metadata": {},
     "output_type": "display_data"
    },
    {
     "name": "stdout",
     "output_type": "stream",
     "text": [
      "66\n"
     ]
    },
    {
     "data": {
      "application/vnd.jupyter.widget-view+json": {
       "model_id": "1e45d94e447240b2861f6c2a52e16155",
       "version_major": 2,
       "version_minor": 0
      },
      "text/plain": [
       "IntProgress(value=0, max=82)"
      ]
     },
     "metadata": {},
     "output_type": "display_data"
    },
    {
     "name": "stdout",
     "output_type": "stream",
     "text": [
      "67\n"
     ]
    },
    {
     "data": {
      "application/vnd.jupyter.widget-view+json": {
       "model_id": "4b137bd8f7a94442a91725c4fdd368cd",
       "version_major": 2,
       "version_minor": 0
      },
      "text/plain": [
       "IntProgress(value=0, max=82)"
      ]
     },
     "metadata": {},
     "output_type": "display_data"
    },
    {
     "name": "stdout",
     "output_type": "stream",
     "text": [
      "68\n"
     ]
    },
    {
     "data": {
      "application/vnd.jupyter.widget-view+json": {
       "model_id": "fa5617a72c1e4d5ba1951ce47ed1a3df",
       "version_major": 2,
       "version_minor": 0
      },
      "text/plain": [
       "IntProgress(value=0, max=83)"
      ]
     },
     "metadata": {},
     "output_type": "display_data"
    },
    {
     "name": "stdout",
     "output_type": "stream",
     "text": [
      "69\n"
     ]
    },
    {
     "data": {
      "application/vnd.jupyter.widget-view+json": {
       "model_id": "b859c224a6744d3ab0315567b854106b",
       "version_major": 2,
       "version_minor": 0
      },
      "text/plain": [
       "IntProgress(value=0, max=83)"
      ]
     },
     "metadata": {},
     "output_type": "display_data"
    },
    {
     "name": "stdout",
     "output_type": "stream",
     "text": [
      "70\n"
     ]
    },
    {
     "data": {
      "application/vnd.jupyter.widget-view+json": {
       "model_id": "04fa9432e4364acaa558f3a896cadee5",
       "version_major": 2,
       "version_minor": 0
      },
      "text/plain": [
       "IntProgress(value=0, max=82)"
      ]
     },
     "metadata": {},
     "output_type": "display_data"
    },
    {
     "name": "stdout",
     "output_type": "stream",
     "text": [
      "71\n"
     ]
    },
    {
     "data": {
      "application/vnd.jupyter.widget-view+json": {
       "model_id": "f17d62622a3d43709e2ad130e1cb0d21",
       "version_major": 2,
       "version_minor": 0
      },
      "text/plain": [
       "IntProgress(value=0, max=82)"
      ]
     },
     "metadata": {},
     "output_type": "display_data"
    },
    {
     "name": "stdout",
     "output_type": "stream",
     "text": [
      "72\n"
     ]
    },
    {
     "data": {
      "application/vnd.jupyter.widget-view+json": {
       "model_id": "2ad1c112cda14a15a2bbb2a4ac98da0e",
       "version_major": 2,
       "version_minor": 0
      },
      "text/plain": [
       "IntProgress(value=0, max=79)"
      ]
     },
     "metadata": {},
     "output_type": "display_data"
    },
    {
     "name": "stdout",
     "output_type": "stream",
     "text": [
      "73\n"
     ]
    },
    {
     "data": {
      "application/vnd.jupyter.widget-view+json": {
       "model_id": "8e8b607e46f345b58c818f25a80ee105",
       "version_major": 2,
       "version_minor": 0
      },
      "text/plain": [
       "IntProgress(value=0, max=83)"
      ]
     },
     "metadata": {},
     "output_type": "display_data"
    },
    {
     "name": "stdout",
     "output_type": "stream",
     "text": [
      "74\n"
     ]
    },
    {
     "data": {
      "application/vnd.jupyter.widget-view+json": {
       "model_id": "a9a210be595c4752be576a2d9dd1dc9e",
       "version_major": 2,
       "version_minor": 0
      },
      "text/plain": [
       "IntProgress(value=0, max=79)"
      ]
     },
     "metadata": {},
     "output_type": "display_data"
    },
    {
     "name": "stdout",
     "output_type": "stream",
     "text": [
      "75\n"
     ]
    },
    {
     "data": {
      "application/vnd.jupyter.widget-view+json": {
       "model_id": "6017a92e15714a3b817251fb4b5b7722",
       "version_major": 2,
       "version_minor": 0
      },
      "text/plain": [
       "IntProgress(value=0, max=82)"
      ]
     },
     "metadata": {},
     "output_type": "display_data"
    },
    {
     "name": "stdout",
     "output_type": "stream",
     "text": [
      "76\n"
     ]
    },
    {
     "data": {
      "application/vnd.jupyter.widget-view+json": {
       "model_id": "16eaea24613246df8786a9bb6666b265",
       "version_major": 2,
       "version_minor": 0
      },
      "text/plain": [
       "IntProgress(value=0, max=82)"
      ]
     },
     "metadata": {},
     "output_type": "display_data"
    },
    {
     "name": "stdout",
     "output_type": "stream",
     "text": [
      "77\n"
     ]
    },
    {
     "data": {
      "application/vnd.jupyter.widget-view+json": {
       "model_id": "4b65b41194d041db948a5c69e8c4a778",
       "version_major": 2,
       "version_minor": 0
      },
      "text/plain": [
       "IntProgress(value=0, max=82)"
      ]
     },
     "metadata": {},
     "output_type": "display_data"
    },
    {
     "name": "stdout",
     "output_type": "stream",
     "text": [
      "78\n"
     ]
    },
    {
     "data": {
      "application/vnd.jupyter.widget-view+json": {
       "model_id": "27985d4b864a43269c255ad2f9082069",
       "version_major": 2,
       "version_minor": 0
      },
      "text/plain": [
       "IntProgress(value=0, max=82)"
      ]
     },
     "metadata": {},
     "output_type": "display_data"
    },
    {
     "name": "stdout",
     "output_type": "stream",
     "text": [
      "79\n"
     ]
    },
    {
     "data": {
      "application/vnd.jupyter.widget-view+json": {
       "model_id": "99fe152282f94e9f904db97deb985035",
       "version_major": 2,
       "version_minor": 0
      },
      "text/plain": [
       "IntProgress(value=0, max=82)"
      ]
     },
     "metadata": {},
     "output_type": "display_data"
    },
    {
     "name": "stdout",
     "output_type": "stream",
     "text": [
      "80\n"
     ]
    },
    {
     "data": {
      "application/vnd.jupyter.widget-view+json": {
       "model_id": "d9c5e4a4a9744844acd239544f2776bf",
       "version_major": 2,
       "version_minor": 0
      },
      "text/plain": [
       "IntProgress(value=0, max=82)"
      ]
     },
     "metadata": {},
     "output_type": "display_data"
    },
    {
     "name": "stdout",
     "output_type": "stream",
     "text": [
      "81\n"
     ]
    },
    {
     "data": {
      "application/vnd.jupyter.widget-view+json": {
       "model_id": "d8a25b7713e14bbe8c06103ff5771e1b",
       "version_major": 2,
       "version_minor": 0
      },
      "text/plain": [
       "IntProgress(value=0, max=82)"
      ]
     },
     "metadata": {},
     "output_type": "display_data"
    },
    {
     "name": "stdout",
     "output_type": "stream",
     "text": [
      "82\n"
     ]
    },
    {
     "data": {
      "application/vnd.jupyter.widget-view+json": {
       "model_id": "bc27a56b8b2a4811889dcfdd331bb081",
       "version_major": 2,
       "version_minor": 0
      },
      "text/plain": [
       "IntProgress(value=0, max=82)"
      ]
     },
     "metadata": {},
     "output_type": "display_data"
    },
    {
     "name": "stdout",
     "output_type": "stream",
     "text": [
      "83\n"
     ]
    },
    {
     "data": {
      "application/vnd.jupyter.widget-view+json": {
       "model_id": "fd409d7fd5de4c89be8d52e34da9db07",
       "version_major": 2,
       "version_minor": 0
      },
      "text/plain": [
       "IntProgress(value=0, max=85)"
      ]
     },
     "metadata": {},
     "output_type": "display_data"
    },
    {
     "name": "stdout",
     "output_type": "stream",
     "text": [
      "84\n"
     ]
    },
    {
     "data": {
      "application/vnd.jupyter.widget-view+json": {
       "model_id": "452f1fd95fee4f7d8777c18725318fe6",
       "version_major": 2,
       "version_minor": 0
      },
      "text/plain": [
       "IntProgress(value=0, max=82)"
      ]
     },
     "metadata": {},
     "output_type": "display_data"
    },
    {
     "name": "stdout",
     "output_type": "stream",
     "text": [
      "85\n"
     ]
    },
    {
     "data": {
      "application/vnd.jupyter.widget-view+json": {
       "model_id": "941d41b99827403584a5b856d08baf24",
       "version_major": 2,
       "version_minor": 0
      },
      "text/plain": [
       "IntProgress(value=0, max=86)"
      ]
     },
     "metadata": {},
     "output_type": "display_data"
    },
    {
     "name": "stdout",
     "output_type": "stream",
     "text": [
      "86\n"
     ]
    },
    {
     "data": {
      "application/vnd.jupyter.widget-view+json": {
       "model_id": "be14a4b0e8464e039c89c491ffcd57fb",
       "version_major": 2,
       "version_minor": 0
      },
      "text/plain": [
       "IntProgress(value=0, max=82)"
      ]
     },
     "metadata": {},
     "output_type": "display_data"
    },
    {
     "name": "stdout",
     "output_type": "stream",
     "text": [
      "87\n"
     ]
    },
    {
     "data": {
      "application/vnd.jupyter.widget-view+json": {
       "model_id": "9421d44cda8543938412fca769040634",
       "version_major": 2,
       "version_minor": 0
      },
      "text/plain": [
       "IntProgress(value=0, max=82)"
      ]
     },
     "metadata": {},
     "output_type": "display_data"
    },
    {
     "name": "stdout",
     "output_type": "stream",
     "text": [
      "88\n"
     ]
    },
    {
     "data": {
      "application/vnd.jupyter.widget-view+json": {
       "model_id": "a489348eec13409595e78a47a43d2ce8",
       "version_major": 2,
       "version_minor": 0
      },
      "text/plain": [
       "IntProgress(value=0, max=78)"
      ]
     },
     "metadata": {},
     "output_type": "display_data"
    },
    {
     "name": "stdout",
     "output_type": "stream",
     "text": [
      "89\n"
     ]
    },
    {
     "data": {
      "application/vnd.jupyter.widget-view+json": {
       "model_id": "3176725087384fe68965811701045057",
       "version_major": 2,
       "version_minor": 0
      },
      "text/plain": [
       "IntProgress(value=0, max=79)"
      ]
     },
     "metadata": {},
     "output_type": "display_data"
    },
    {
     "name": "stdout",
     "output_type": "stream",
     "text": [
      "90\n"
     ]
    },
    {
     "data": {
      "application/vnd.jupyter.widget-view+json": {
       "model_id": "a537cbc8383545a084ac314f403e8d73",
       "version_major": 2,
       "version_minor": 0
      },
      "text/plain": [
       "IntProgress(value=0, max=83)"
      ]
     },
     "metadata": {},
     "output_type": "display_data"
    },
    {
     "name": "stdout",
     "output_type": "stream",
     "text": [
      "91\n"
     ]
    },
    {
     "data": {
      "application/vnd.jupyter.widget-view+json": {
       "model_id": "3aef269e05af470c9ecd8f78a1255fb0",
       "version_major": 2,
       "version_minor": 0
      },
      "text/plain": [
       "IntProgress(value=0, max=82)"
      ]
     },
     "metadata": {},
     "output_type": "display_data"
    },
    {
     "name": "stdout",
     "output_type": "stream",
     "text": [
      "92\n"
     ]
    },
    {
     "data": {
      "application/vnd.jupyter.widget-view+json": {
       "model_id": "1cd3fb37b724442c930475e12e9fcd92",
       "version_major": 2,
       "version_minor": 0
      },
      "text/plain": [
       "IntProgress(value=0, max=82)"
      ]
     },
     "metadata": {},
     "output_type": "display_data"
    },
    {
     "name": "stdout",
     "output_type": "stream",
     "text": [
      "93\n"
     ]
    },
    {
     "data": {
      "application/vnd.jupyter.widget-view+json": {
       "model_id": "bdb363d577a1491983213dec02e79ff7",
       "version_major": 2,
       "version_minor": 0
      },
      "text/plain": [
       "IntProgress(value=0, max=82)"
      ]
     },
     "metadata": {},
     "output_type": "display_data"
    },
    {
     "name": "stdout",
     "output_type": "stream",
     "text": [
      "94\n"
     ]
    },
    {
     "data": {
      "application/vnd.jupyter.widget-view+json": {
       "model_id": "b4bc694b5473478981b94d282a930858",
       "version_major": 2,
       "version_minor": 0
      },
      "text/plain": [
       "IntProgress(value=0, max=79)"
      ]
     },
     "metadata": {},
     "output_type": "display_data"
    },
    {
     "name": "stdout",
     "output_type": "stream",
     "text": [
      "95\n"
     ]
    },
    {
     "data": {
      "application/vnd.jupyter.widget-view+json": {
       "model_id": "5c6e5d7119244850b66f245cd93c3cfa",
       "version_major": 2,
       "version_minor": 0
      },
      "text/plain": [
       "IntProgress(value=0, max=79)"
      ]
     },
     "metadata": {},
     "output_type": "display_data"
    },
    {
     "name": "stdout",
     "output_type": "stream",
     "text": [
      "96\n"
     ]
    },
    {
     "data": {
      "application/vnd.jupyter.widget-view+json": {
       "model_id": "4ca03b3a320b4bcba876dd49e93d0591",
       "version_major": 2,
       "version_minor": 0
      },
      "text/plain": [
       "IntProgress(value=0, max=82)"
      ]
     },
     "metadata": {},
     "output_type": "display_data"
    },
    {
     "name": "stdout",
     "output_type": "stream",
     "text": [
      "97\n"
     ]
    },
    {
     "data": {
      "application/vnd.jupyter.widget-view+json": {
       "model_id": "544a15c374a446e5b1f4ac0e725f053b",
       "version_major": 2,
       "version_minor": 0
      },
      "text/plain": [
       "IntProgress(value=0, max=82)"
      ]
     },
     "metadata": {},
     "output_type": "display_data"
    },
    {
     "name": "stdout",
     "output_type": "stream",
     "text": [
      "98\n"
     ]
    },
    {
     "data": {
      "application/vnd.jupyter.widget-view+json": {
       "model_id": "4a93629614af48b4be3757f5396de739",
       "version_major": 2,
       "version_minor": 0
      },
      "text/plain": [
       "IntProgress(value=0, max=82)"
      ]
     },
     "metadata": {},
     "output_type": "display_data"
    },
    {
     "name": "stdout",
     "output_type": "stream",
     "text": [
      "99\n"
     ]
    },
    {
     "data": {
      "application/vnd.jupyter.widget-view+json": {
       "model_id": "33afd9edf24248faa1fa303bfb271c28",
       "version_major": 2,
       "version_minor": 0
      },
      "text/plain": [
       "IntProgress(value=0, max=82)"
      ]
     },
     "metadata": {},
     "output_type": "display_data"
    },
    {
     "name": "stdout",
     "output_type": "stream",
     "text": [
      "100\n"
     ]
    },
    {
     "data": {
      "application/vnd.jupyter.widget-view+json": {
       "model_id": "c855f540f20f465e978dc5626d4e0bc6",
       "version_major": 2,
       "version_minor": 0
      },
      "text/plain": [
       "IntProgress(value=0, max=83)"
      ]
     },
     "metadata": {},
     "output_type": "display_data"
    },
    {
     "name": "stdout",
     "output_type": "stream",
     "text": [
      "101\n"
     ]
    },
    {
     "data": {
      "application/vnd.jupyter.widget-view+json": {
       "model_id": "39ff8d0d47b44f0289308cab93186a9f",
       "version_major": 2,
       "version_minor": 0
      },
      "text/plain": [
       "IntProgress(value=0, max=83)"
      ]
     },
     "metadata": {},
     "output_type": "display_data"
    },
    {
     "name": "stdout",
     "output_type": "stream",
     "text": [
      "102\n"
     ]
    },
    {
     "data": {
      "application/vnd.jupyter.widget-view+json": {
       "model_id": "fd69c34702d545af815651f546c08560",
       "version_major": 2,
       "version_minor": 0
      },
      "text/plain": [
       "IntProgress(value=0, max=82)"
      ]
     },
     "metadata": {},
     "output_type": "display_data"
    },
    {
     "name": "stdout",
     "output_type": "stream",
     "text": [
      "103\n"
     ]
    },
    {
     "data": {
      "application/vnd.jupyter.widget-view+json": {
       "model_id": "3b36b327daca4dc68fd762db751d5ac0",
       "version_major": 2,
       "version_minor": 0
      },
      "text/plain": [
       "IntProgress(value=0, max=82)"
      ]
     },
     "metadata": {},
     "output_type": "display_data"
    },
    {
     "name": "stdout",
     "output_type": "stream",
     "text": [
      "104\n"
     ]
    },
    {
     "data": {
      "application/vnd.jupyter.widget-view+json": {
       "model_id": "26a74078c2324b73a024682757bcbc07",
       "version_major": 2,
       "version_minor": 0
      },
      "text/plain": [
       "IntProgress(value=0, max=82)"
      ]
     },
     "metadata": {},
     "output_type": "display_data"
    },
    {
     "name": "stdout",
     "output_type": "stream",
     "text": [
      "105\n"
     ]
    },
    {
     "data": {
      "application/vnd.jupyter.widget-view+json": {
       "model_id": "aa15978d7e364e2ea0cee81e8b2932ff",
       "version_major": 2,
       "version_minor": 0
      },
      "text/plain": [
       "IntProgress(value=0, max=76)"
      ]
     },
     "metadata": {},
     "output_type": "display_data"
    },
    {
     "name": "stdout",
     "output_type": "stream",
     "text": [
      "106\n"
     ]
    },
    {
     "data": {
      "application/vnd.jupyter.widget-view+json": {
       "model_id": "7b74d8f121294141bf35a9f48bd9e9b6",
       "version_major": 2,
       "version_minor": 0
      },
      "text/plain": [
       "IntProgress(value=0, max=82)"
      ]
     },
     "metadata": {},
     "output_type": "display_data"
    },
    {
     "name": "stdout",
     "output_type": "stream",
     "text": [
      "107\n"
     ]
    },
    {
     "data": {
      "application/vnd.jupyter.widget-view+json": {
       "model_id": "9389dd5bd2704c959620653836833483",
       "version_major": 2,
       "version_minor": 0
      },
      "text/plain": [
       "IntProgress(value=0, max=82)"
      ]
     },
     "metadata": {},
     "output_type": "display_data"
    }
   ],
   "source": [
    "from Dataset import get_sentences\n",
    "\n",
    "sentences = get_sentences('..\\\\Dictionary\\\\roman_urdu_sentences.txt')\n",
    "\n",
    "speaker_id = 6\n",
    "\n",
    "#file_path = \"..\\\\Dataset\\\\Urdu\\\\6\\\\aap_konsa_thay_jee_kon_ek\\\\_video.avi\"\n",
    "\n",
    "x_sen = []\n",
    "y_sen = []\n",
    "\n",
    "cnt = 0\n",
    "\n",
    "for i in sentences:\n",
    "    \n",
    "    print(cnt)\n",
    "    \n",
    "    # Appending in actual sentence list\n",
    "    x_sen.append(i)\n",
    "    \n",
    "    sen = i.replace(' ','_')\n",
    "    \n",
    "    # Parsing filepath of the video file\n",
    "    file_path = \"..\\\\Dataset\\\\Urdu\\\\\" + str(speaker_id) + \"\\\\\" + sen + \"\\\\_video.avi\"\n",
    "\n",
    "    # Making prediction on video and parsing sentencing\n",
    "    prediction = predict_word_level(file_path, word_list, CLASSES_LIST, SEQUENCE_LENGTH)\n",
    "    predicted_sentence = parse_sentence(prediction, highest_prob_word)\n",
    "    \n",
    "    # Appending in predicted sentence list\n",
    "    y_sen.append(predicted_sentence)\n",
    "    \n",
    "    cnt += 1\n",
    "\n",
    "\n"
   ]
  },
  {
   "cell_type": "code",
   "execution_count": 152,
   "id": "08eff4ae",
   "metadata": {},
   "outputs": [
    {
     "name": "stdout",
     "output_type": "stream",
     "text": [
      "0.6975308641975313\n"
     ]
    }
   ],
   "source": [
    "# Library to calculate WER\n",
    "from jiwer import wer\n",
    "\n",
    "#print(len(x_sen))\n",
    "#print(len(y_sen))\n",
    "urdu_sen = get_urdu_sentences('..\\\\Dictionary\\\\urdu_sentences.txt')\n",
    "\n",
    "total_wer = 0\n",
    "\n",
    "#print(\"       Predicted       -          Actual\")\n",
    "for i in range(0, len(urdu_sen)):\n",
    "    #print(urdu_sen[i], \" --- \" , y_sen[i])\n",
    "    \n",
    "    #arg = (ref, hypothesis)\n",
    "    total_wer += wer(urdu_sen[i], y_sen[i])\n",
    "\n",
    "avg_wer = total_wer / len(urdu_sen)\n",
    "    \n",
    "print(avg_wer)    "
   ]
  },
  {
   "cell_type": "code",
   "execution_count": 20,
   "id": "3c48c3e8",
   "metadata": {},
   "outputs": [
    {
     "name": "stdout",
     "output_type": "stream",
     "text": [
      "1.0\n",
      "0.0\n"
     ]
    }
   ],
   "source": [
    "from jiwer import wer\n",
    "\n",
    "print(wer(\"آپ کتنے ہوں ہاں کون پانچھ\",\"پ کیژا وہ جی کو چھ\"))\n",
    "print(wer(\"hello two\",\"hello two\"))"
   ]
  },
  {
   "cell_type": "code",
   "execution_count": 18,
   "id": "b19139ca",
   "metadata": {},
   "outputs": [
    {
     "name": "stdout",
     "output_type": "stream",
     "text": [
      "6\n"
     ]
    }
   ],
   "source": [
    "def wer1(r, h):\n",
    "    \"\"\"\n",
    "    Calculation of WER with Levenshtein distance.\n",
    "\n",
    "    Works only for iterables up to 254 elements (uint8).\n",
    "    O(nm) time ans space complexity.\n",
    "\n",
    "    Parameters\n",
    "    ----------\n",
    "    r : list\n",
    "    h : list\n",
    "\n",
    "    Returns\n",
    "    -------\n",
    "    int\n",
    "\n",
    "    Examples\n",
    "    --------\n",
    "    >>> wer(\"who is there\".split(), \"is there\".split())\n",
    "    1\n",
    "    >>> wer(\"who is there\".split(), \"\".split())\n",
    "    3\n",
    "    >>> wer(\"\".split(), \"who is there\".split())\n",
    "    3\n",
    "    \"\"\"\n",
    "    # initialisation\n",
    "    import numpy\n",
    "\n",
    "    d = numpy.zeros((len(r) + 1) * (len(h) + 1), dtype=numpy.uint8)\n",
    "    d = d.reshape((len(r) + 1, len(h) + 1))\n",
    "    for i in range(len(r) + 1):\n",
    "        for j in range(len(h) + 1):\n",
    "            if i == 0:\n",
    "                d[0][j] = j\n",
    "            elif j == 0:\n",
    "                d[i][0] = i\n",
    "\n",
    "    # computation\n",
    "    for i in range(1, len(r) + 1):\n",
    "        for j in range(1, len(h) + 1):\n",
    "            if r[i - 1] == h[j - 1]:\n",
    "                d[i][j] = d[i - 1][j - 1]\n",
    "            else:\n",
    "                substitution = d[i - 1][j - 1] + 1\n",
    "                insertion = d[i][j - 1] + 1\n",
    "                deletion = d[i - 1][j] + 1\n",
    "                d[i][j] = min(substitution, insertion, deletion)\n",
    "\n",
    "    return d[len(r)][len(h)]\n",
    "\n",
    "print(wer1(\"آپ کتنے ہوں ہاں کون پانچھ\".split(),\"پ کیژا وہ جی کو چھ\".split()))"
   ]
  },
  {
   "cell_type": "code",
   "execution_count": null,
   "id": "796c57d5",
   "metadata": {},
   "outputs": [],
   "source": []
  },
  {
   "cell_type": "markdown",
   "id": "79a499c2",
   "metadata": {},
   "source": [
    "- Hence using the `highest_prob_word()` function we get 0.68 WER (Trained only on single speaker and tested on the same speaker aswell)"
   ]
  },
  {
   "cell_type": "markdown",
   "id": "18c976da",
   "metadata": {},
   "source": [
    "''''''''''''''''''''''''''''''''''''''''''''''''''''''''''''''''''''''''''''''''''''''''''''''''''''''''''''''''''''''''''''''''''''''''''''''''''''''''''''''''''''''''''''''''''''''''''''''''''''''''''''''''''''''''''''''''''''''''''''''''''''''''''''''''''''''''''''''<br></br>\n",
    "Ignore below atm\n",
    "### Predictions"
   ]
  },
  {
   "cell_type": "code",
   "execution_count": 18,
   "id": "6d6ff03f",
   "metadata": {},
   "outputs": [],
   "source": [
    "from lips import crop_lips\n",
    "import mediapipe as mp\n",
    "\n",
    "\n",
    "mp_holistic = mp.solutions.holistic  # Holistic model\n",
    "mp_drawing = mp.solutions.drawing_utils  # Drawing utilities\n",
    "\n",
    "def predict_on_video(video_file_path, SEQUENCE_LENGTH):\n",
    "    '''\n",
    "    This function will perform action recognition on a video using the LRCN model.\n",
    "    Args:\n",
    "    video_file_path:  The path of the video stored in the disk on which the action recognition is to be performed.\n",
    "    output_file_path: The path where the ouput video with the predicted action being performed overlayed will be stored.\n",
    "    SEQUENCE_LENGTH:  The fixed number of frames of a video that can be passed to the model as one sequence.\n",
    "    '''\n",
    "\n",
    "    # Initialize the VideoCapture object to read from the video file.\n",
    "    video_reader = cv2.VideoCapture(video_file_path)\n",
    "\n",
    "    # Get the width and height of the video.\n",
    "    original_video_width = int(video_reader.get(cv2.CAP_PROP_FRAME_WIDTH))\n",
    "    original_video_height = int(video_reader.get(cv2.CAP_PROP_FRAME_HEIGHT))\n",
    "\n",
    "\n",
    "    # Declare a queue to store video frames.\n",
    "    frames_queue = deque(maxlen = SEQUENCE_LENGTH)\n",
    "\n",
    "    # Initialize a variable to store the predicted action being performed in the video.\n",
    "    predicted_class_name = ''\n",
    "\n",
    "    with mp_holistic.Holistic(min_detection_confidence=0.1, min_tracking_confidence=0.1) as holistic:\n",
    "        # Iterate until the video is accessed successfully.\n",
    "        while video_reader.isOpened():\n",
    "\n",
    "            # Read the frame.\n",
    "            ok, frame = video_reader.read() \n",
    "\n",
    "            # Check if frame is not read properly then break the loop.\n",
    "            if not ok:\n",
    "                print(\"NOT OK\")\n",
    "                break\n",
    "            \n",
    "            cropped_image = crop_lips(frame, holistic)\n",
    "            \n",
    "\n",
    "            # Normalize the resized frame by dividing it with 255 so that each pixel value then lies between 0 and 1.\n",
    "            normalized_frame = cropped_image / 255\n",
    "\n",
    "            # Appending the pre-processed frame into the frames list.\n",
    "            frames_queue.append(normalized_frame)\n",
    "\n",
    "            # Check if the number of frames in the queue are equal to the fixed sequence length.\n",
    "            if len(frames_queue) == SEQUENCE_LENGTH:\n",
    "\n",
    "                # Pass the normalized frames to the model and get the predicted probabilities.\n",
    "                predicted_labels_probabilities = LRCN_model.predict(np.expand_dims(frames_queue, axis = 0))[0]\n",
    "\n",
    "                # Get the index of class with highest probability.\n",
    "                predicted_label = np.argmax(predicted_labels_probabilities)\n",
    "\n",
    "                # Get the class name using the retrieved index.\n",
    "                predicted_class_name = CLASSES_LIST[predicted_label]\n",
    "                \n",
    "                print(predicted_class_name)\n",
    "\n",
    "            # Write predicted class name on top of the frame.\n",
    "            cv2.putText(frame, predicted_class_name, (10, 30), cv2.FONT_HERSHEY_SIMPLEX, 1, (0, 255, 0), 2)\n",
    "            \n",
    "            cv2.imshow(\"Result\", frame)\n",
    "\n",
    "\n",
    "        # Release the VideoCapture and VideoWriter objects.\n",
    "        video_reader.release()\n"
   ]
  },
  {
   "cell_type": "code",
   "execution_count": 70,
   "id": "dfaca33c",
   "metadata": {},
   "outputs": [
    {
     "name": "stdout",
     "output_type": "stream",
     "text": [
      "8/8 [==============================] - 0s 20ms/step\n"
     ]
    }
   ],
   "source": [
    "res = LRCN_model.predict(features_test)"
   ]
  },
  {
   "cell_type": "code",
   "execution_count": 71,
   "id": "c0ecfa88",
   "metadata": {},
   "outputs": [
    {
     "name": "stdout",
     "output_type": "stream",
     "text": [
      "27\n",
      "0.99999994\n"
     ]
    }
   ],
   "source": [
    "print(len(res[0])) # Total 7 probablities\n",
    "print(np.sum(res[0])) # All probablities will add up to 1"
   ]
  },
  {
   "cell_type": "code",
   "execution_count": 72,
   "id": "6489e705",
   "metadata": {},
   "outputs": [
    {
     "name": "stdout",
     "output_type": "stream",
     "text": [
      "ACTUAL    :  ہے\n",
      "PREDICTED :  نہیں\n"
     ]
    }
   ],
   "source": [
    "nu = 8\n",
    "\n",
    "print(\"ACTUAL    : \", CLASSES_LIST[np.argmax(labels_test[nu])])\n",
    "print(\"PREDICTED : \", CLASSES_LIST[np.argmax(res[nu])]) \n",
    "\n",
    "#print(res[0][nu]) # 'kese' has the probability of 0.99 (highest in the results)\n"
   ]
  },
  {
   "cell_type": "code",
   "execution_count": 23,
   "id": "6043daec",
   "metadata": {},
   "outputs": [],
   "source": [
    "#LRCN_model.load_weights(\"LRCN_model___Date_Time_2023_02_13__00_24_29___Loss_1.8407708406448364___Accuracy_0.4947916567325592.h5\")"
   ]
  },
  {
   "cell_type": "code",
   "execution_count": 75,
   "id": "b47499eb",
   "metadata": {},
   "outputs": [
    {
     "name": "stdout",
     "output_type": "stream",
     "text": [
      "1/1 [==============================] - 0s 31ms/step\n",
      "تین\n",
      "1/1 [==============================] - 0s 31ms/step\n",
      "تین\n",
      "1/1 [==============================] - 0s 41ms/step\n",
      "نہیں\n",
      "1/1 [==============================] - 0s 32ms/step\n",
      "تین\n",
      "1/1 [==============================] - 0s 24ms/step\n",
      "تین\n",
      "1/1 [==============================] - 0s 17ms/step\n",
      "تین\n",
      "1/1 [==============================] - 0s 16ms/step\n",
      "تین\n",
      "1/1 [==============================] - 0s 40ms/step\n",
      "نہیں\n",
      "1/1 [==============================] - 0s 21ms/step\n",
      "نہیں\n",
      "1/1 [==============================] - 0s 32ms/step\n",
      "نہیں\n",
      "1/1 [==============================] - 0s 40ms/step\n",
      "نہیں\n",
      "1/1 [==============================] - 0s 32ms/step\n",
      "نہیں\n",
      "1/1 [==============================] - 0s 24ms/step\n",
      "نہیں\n",
      "1/1 [==============================] - 0s 24ms/step\n",
      "نہیں\n",
      "1/1 [==============================] - 0s 24ms/step\n",
      "تھا\n",
      "1/1 [==============================] - 0s 31ms/step\n",
      "تھا\n",
      "1/1 [==============================] - 0s 32ms/step\n",
      "تھا\n",
      "1/1 [==============================] - 0s 32ms/step\n",
      "تھا\n",
      "1/1 [==============================] - 0s 26ms/step\n",
      "سات\n",
      "1/1 [==============================] - 0s 32ms/step\n",
      "سات\n",
      "1/1 [==============================] - 0s 35ms/step\n",
      "آٹھ\n",
      "1/1 [==============================] - 0s 32ms/step\n",
      "آٹھ\n",
      "1/1 [==============================] - 0s 25ms/step\n",
      "آٹھ\n",
      "1/1 [==============================] - 0s 41ms/step\n",
      "آٹھ\n",
      "1/1 [==============================] - 0s 32ms/step\n",
      "آٹھ\n",
      "1/1 [==============================] - 0s 32ms/step\n",
      "ایک\n",
      "1/1 [==============================] - 0s 32ms/step\n",
      "تھے\n",
      "1/1 [==============================] - 0s 32ms/step\n",
      "تھے\n",
      "1/1 [==============================] - 0s 32ms/step\n",
      "تھے\n",
      "1/1 [==============================] - 0s 24ms/step\n",
      "تھا\n",
      "1/1 [==============================] - 0s 31ms/step\n",
      "تھا\n",
      "1/1 [==============================] - 0s 25ms/step\n",
      "تھا\n",
      "1/1 [==============================] - 0s 32ms/step\n",
      "تھا\n",
      "1/1 [==============================] - 0s 32ms/step\n",
      "تھا\n",
      "1/1 [==============================] - 0s 31ms/step\n",
      "تھا\n",
      "1/1 [==============================] - 0s 32ms/step\n",
      "تھا\n",
      "1/1 [==============================] - 0s 24ms/step\n",
      "تھا\n",
      "1/1 [==============================] - 0s 24ms/step\n",
      "تھا\n",
      "1/1 [==============================] - 0s 31ms/step\n",
      "نہیں\n",
      "1/1 [==============================] - 0s 16ms/step\n",
      "نہیں\n",
      "1/1 [==============================] - 0s 32ms/step\n",
      "نہیں\n",
      "1/1 [==============================] - 0s 32ms/step\n",
      "چھے\n",
      "1/1 [==============================] - 0s 40ms/step\n",
      "تین\n",
      "1/1 [==============================] - 0s 31ms/step\n",
      "تین\n",
      "1/1 [==============================] - 0s 24ms/step\n",
      "ہے\n",
      "1/1 [==============================] - 0s 33ms/step\n",
      "تین\n",
      "1/1 [==============================] - 0s 32ms/step\n",
      "تین\n",
      "1/1 [==============================] - 0s 40ms/step\n",
      "تین\n",
      "1/1 [==============================] - 0s 40ms/step\n",
      "تین\n",
      "1/1 [==============================] - 0s 32ms/step\n",
      "تین\n",
      "1/1 [==============================] - 0s 33ms/step\n",
      "تین\n",
      "1/1 [==============================] - 0s 32ms/step\n",
      "تین\n",
      "1/1 [==============================] - 0s 31ms/step\n",
      "تین\n",
      "1/1 [==============================] - 0s 31ms/step\n",
      "تین\n",
      "1/1 [==============================] - 0s 29ms/step\n",
      "تین\n",
      "1/1 [==============================] - 0s 27ms/step\n",
      "تین\n",
      "1/1 [==============================] - 0s 30ms/step\n",
      "تین\n",
      "1/1 [==============================] - 0s 32ms/step\n",
      "تین\n",
      "1/1 [==============================] - 0s 29ms/step\n",
      "تین\n",
      "1/1 [==============================] - 0s 40ms/step\n",
      "تین\n",
      "1/1 [==============================] - 0s 40ms/step\n",
      "تین\n",
      "1/1 [==============================] - 0s 28ms/step\n",
      "تھا\n",
      "1/1 [==============================] - 0s 32ms/step\n",
      "تین\n",
      "1/1 [==============================] - 0s 31ms/step\n",
      "تین\n",
      "1/1 [==============================] - 0s 29ms/step\n",
      "تھے\n",
      "1/1 [==============================] - 0s 24ms/step\n",
      "تھے\n",
      "1/1 [==============================] - 0s 37ms/step\n",
      "ہے\n",
      "1/1 [==============================] - 0s 32ms/step\n",
      "ہے\n",
      "1/1 [==============================] - 0s 39ms/step\n",
      "ہے\n",
      "1/1 [==============================] - 0s 32ms/step\n",
      "نہیں\n",
      "1/1 [==============================] - 0s 32ms/step\n",
      "نہیں\n",
      "1/1 [==============================] - 0s 31ms/step\n",
      "نہیں\n",
      "1/1 [==============================] - 0s 16ms/step\n",
      "نہیں\n",
      "1/1 [==============================] - 0s 32ms/step\n",
      "نہیں\n",
      "1/1 [==============================] - 0s 34ms/step\n",
      "تین\n",
      "1/1 [==============================] - 0s 26ms/step\n",
      "تین\n",
      "1/1 [==============================] - 0s 26ms/step\n",
      "تین\n",
      "NOT OK\n"
     ]
    }
   ],
   "source": [
    "# Perform Action Recognition on the Test Video.\n",
    "predict_on_video(\"..\\\\Dataset\\\\Urdu\\\\4\\\\aap_kese_tha_nai_kab_theen\\\\_video.avi\", SEQUENCE_LENGTH)"
   ]
  },
  {
   "cell_type": "markdown",
   "id": "206df41d",
   "metadata": {},
   "source": [
    "## Temp model"
   ]
  },
  {
   "cell_type": "code",
   "execution_count": 11,
   "id": "4486b2f0",
   "metadata": {},
   "outputs": [
    {
     "name": "stdout",
     "output_type": "stream",
     "text": [
      "Model: \"sequential_4\"\n",
      "_________________________________________________________________\n",
      " Layer (type)                Output Shape              Param #   \n",
      "=================================================================\n",
      " time_distributed_50 (TimeDi  (None, 13, 48, 98, 16)   448       \n",
      " stributed)                                                      \n",
      "                                                                 \n",
      " time_distributed_51 (TimeDi  (None, 13, 24, 49, 16)   0         \n",
      " stributed)                                                      \n",
      "                                                                 \n",
      " time_distributed_52 (TimeDi  (None, 13, 24, 49, 16)   0         \n",
      " stributed)                                                      \n",
      "                                                                 \n",
      " time_distributed_53 (TimeDi  (None, 13, 22, 47, 32)   4640      \n",
      " stributed)                                                      \n",
      "                                                                 \n",
      " time_distributed_54 (TimeDi  (None, 13, 11, 23, 32)   0         \n",
      " stributed)                                                      \n",
      "                                                                 \n",
      " time_distributed_55 (TimeDi  (None, 13, 11, 23, 32)   0         \n",
      " stributed)                                                      \n",
      "                                                                 \n",
      " time_distributed_56 (TimeDi  (None, 13, 9, 21, 64)    18496     \n",
      " stributed)                                                      \n",
      "                                                                 \n",
      " time_distributed_57 (TimeDi  (None, 13, 4, 10, 64)    0         \n",
      " stributed)                                                      \n",
      "                                                                 \n",
      " time_distributed_58 (TimeDi  (None, 13, 4, 10, 64)    0         \n",
      " stributed)                                                      \n",
      "                                                                 \n",
      " time_distributed_59 (TimeDi  (None, 13, 2, 8, 64)     36928     \n",
      " stributed)                                                      \n",
      "                                                                 \n",
      " time_distributed_60 (TimeDi  (None, 13, 1, 4, 64)     0         \n",
      " stributed)                                                      \n",
      "                                                                 \n",
      " time_distributed_61 (TimeDi  (None, 13, 256)          0         \n",
      " stributed)                                                      \n",
      "                                                                 \n",
      " bidirectional_1 (Bidirectio  (None, 64)               73984     \n",
      " nal)                                                            \n",
      "                                                                 \n",
      " dense_4 (Dense)             (None, 27)                1755      \n",
      "                                                                 \n",
      "=================================================================\n",
      "Total params: 136,251\n",
      "Trainable params: 136,251\n",
      "Non-trainable params: 0\n",
      "_________________________________________________________________\n"
     ]
    }
   ],
   "source": [
    "model = Sequential()\n",
    "\n",
    "# Define the Model Architecture.\n",
    "########################################################################################################################\n",
    "\n",
    "model.add(TimeDistributed(Conv2D(16, (3, 3), padding='valid',activation = 'relu'),\n",
    "                          input_shape = (SEQUENCE_LENGTH, IMAGE_HEIGHT, IMAGE_WIDTH, 3)))\n",
    "\n",
    "model.add(TimeDistributed(MaxPooling2D((2, 2)))) \n",
    "model.add(TimeDistributed(Dropout(0.25)))\n",
    "\n",
    "model.add(TimeDistributed(Conv2D(32, (3, 3), padding='valid',activation = 'relu')))\n",
    "model.add(TimeDistributed(MaxPooling2D((2, 2))))\n",
    "model.add(TimeDistributed(Dropout(0.25)))\n",
    "\n",
    "model.add(TimeDistributed(Conv2D(64, (3, 3), padding='valid',activation = 'relu')))\n",
    "model.add(TimeDistributed(MaxPooling2D((2, 2))))\n",
    "model.add(TimeDistributed(Dropout(0.25)))\n",
    "\n",
    "model.add(TimeDistributed(Conv2D(64, (3, 3), padding='valid',activation = 'relu')))\n",
    "model.add(TimeDistributed(MaxPooling2D((2, 2))))\n",
    "#model.add(TimeDistributed(Dropout(0.25)))\n",
    "\n",
    "model.add(TimeDistributed(Flatten()))\n",
    "\n",
    "model.add(Bidirectional(LSTM(32)))\n",
    "\n",
    "model.add(Dense(len(CLASSES_LIST), activation = 'softmax'))\n",
    "\n",
    "########################################################################################################################\n",
    "\n",
    "# Display the models summary.\n",
    "model.summary()\n"
   ]
  },
  {
   "cell_type": "code",
   "execution_count": 9,
   "id": "6633464c",
   "metadata": {},
   "outputs": [],
   "source": [
    "# Important variables DEFINED IN PREPROCESSOR FILES\n",
    "SEQUENCE_LENGTH = 13 \n",
    "IMAGE_HEIGHT = 50 \n",
    "IMAGE_WIDTH = 100\n",
    "CLASSES_LIST = ['ہے', 'کیسے', 'چار', 'دو', 'چھے', 'وہ', 'جی', 'کب', 'پانچھ', 'تین', 'آپ', 'نوں', 'ہاں', 'میں', 'تھا', 'ہوں', 'نہیں', 'کیوں', 'کتنے', 'ایک', 'کون', 'تھے', 'ہم', 'آٹھ', 'کونسا', 'کدھر', 'سات']"
   ]
  },
  {
   "cell_type": "code",
   "execution_count": 10,
   "id": "93c3e7e0",
   "metadata": {},
   "outputs": [],
   "source": [
    "def ctc_loss(y_true, y_pred, input_length, label_length, real_y_true_ts):\n",
    "    return tf.keras.backend.ctc_batch_cost(real_y_true_ts, y_pred, input_length, label_length)"
   ]
  },
  {
   "cell_type": "code",
   "execution_count": 21,
   "id": "c9dee318",
   "metadata": {},
   "outputs": [],
   "source": []
  },
  {
   "cell_type": "code",
   "execution_count": null,
   "id": "ecc47910",
   "metadata": {},
   "outputs": [],
   "source": [
    "model = Sequential()\n",
    "\n",
    "# Define the Model Architecture.\n",
    "########################################################################################################################\n",
    "\n",
    "model.add(TimeDistributed(Conv2D(16, (3, 3), padding='valid',activation = 'relu'),\n",
    "                          input_shape = (SEQUENCE_LENGTH, IMAGE_HEIGHT, IMAGE_WIDTH, 3)))\n",
    "\n",
    "model.add(TimeDistributed(MaxPooling2D((2, 2)))) \n",
    "model.add(TimeDistributed(Dropout(0.25)))\n",
    "\n",
    "model.add(TimeDistributed(Conv2D(32, (3, 3), padding='valid',activation = 'relu')))\n",
    "model.add(TimeDistributed(MaxPooling2D((2, 2))))\n",
    "model.add(TimeDistributed(Dropout(0.25)))\n",
    "\n",
    "model.add(TimeDistributed(Conv2D(64, (3, 3), padding='valid',activation = 'relu')))\n",
    "model.add(TimeDistributed(MaxPooling2D((2, 2))))\n",
    "model.add(TimeDistributed(Dropout(0.25)))\n",
    "\n",
    "model.add(TimeDistributed(Conv2D(64, (3, 3), padding='valid',activation = 'relu')))\n",
    "model.add(TimeDistributed(MaxPooling2D((2, 2))))\n",
    "#model.add(TimeDistributed(Dropout(0.25)))\n",
    "\n",
    "model.add(TimeDistributed(Flatten()))\n",
    "\n",
    "model.add(LSTM(32))\n",
    "\n",
    "model.add(Dense(len(CLASSES_LIST), activation = 'softmax'))\n",
    "\n",
    "########################################################################################################################\n",
    "\n",
    "# Display the models summary.\n",
    "model.summary()\n",
    "\n",
    "# Return the constructed LRCN model.\n",
    "return model"
   ]
  },
  {
   "cell_type": "code",
   "execution_count": 22,
   "id": "b120f405",
   "metadata": {},
   "outputs": [
    {
     "ename": "NameError",
     "evalue": "name 'Conv2d' is not defined",
     "output_type": "error",
     "traceback": [
      "\u001b[1;31m---------------------------------------------------------------------------\u001b[0m",
      "\u001b[1;31mNameError\u001b[0m                                 Traceback (most recent call last)",
      "Cell \u001b[1;32mIn [22], line 1\u001b[0m\n\u001b[1;32m----> 1\u001b[0m model, label_length_ts, pred_length_ts, y_true_input_ts\u001b[38;5;241m=\u001b[39m \u001b[43mbuild_model_v1\u001b[49m\u001b[43m(\u001b[49m\u001b[43mIMAGE_WIDTH\u001b[49m\u001b[43m,\u001b[49m\u001b[43m \u001b[49m\u001b[43mIMAGE_HEIGHT\u001b[49m\u001b[43m,\u001b[49m\u001b[43m \u001b[49m\u001b[38;5;241;43m0\u001b[39;49m\u001b[43m,\u001b[49m\u001b[43m \u001b[49m\u001b[38;5;28;43mlen\u001b[39;49m\u001b[43m(\u001b[49m\u001b[43mCLASSES_LIST\u001b[49m\u001b[43m)\u001b[49m\u001b[43m,\u001b[49m\u001b[43m \u001b[49m\u001b[38;5;28;43mlen\u001b[39;49m\u001b[43m(\u001b[49m\u001b[43m(\u001b[49m\u001b[38;5;28;43mmax\u001b[39;49m\u001b[43m(\u001b[49m\u001b[43mCLASSES_LIST\u001b[49m\u001b[43m,\u001b[49m\u001b[43m \u001b[49m\u001b[43mkey\u001b[49m\u001b[38;5;241;43m=\u001b[39;49m\u001b[38;5;28;43mlen\u001b[39;49m\u001b[43m)\u001b[49m\u001b[43m)\u001b[49m\u001b[43m)\u001b[49m\u001b[43m)\u001b[49m\n\u001b[0;32m      2\u001b[0m ctc_loss_prepare_fn \u001b[38;5;241m=\u001b[39m functools\u001b[38;5;241m.\u001b[39mpartial(ctc_loss, input_length\u001b[38;5;241m=\u001b[39mpred_length_ts, label_length\u001b[38;5;241m=\u001b[39mlabel_length_ts, real_y_true_ts\u001b[38;5;241m=\u001b[39my_true_input_ts)\n\u001b[0;32m      3\u001b[0m model\u001b[38;5;241m.\u001b[39mcompile(optimizer\u001b[38;5;241m=\u001b[39mtf\u001b[38;5;241m.\u001b[39mkeras\u001b[38;5;241m.\u001b[39moptimizers\u001b[38;5;241m.\u001b[39mAdam(lr\u001b[38;5;241m=\u001b[39m\u001b[38;5;241m0.0001\u001b[39m), loss\u001b[38;5;241m=\u001b[39mctc_loss_prepare_fn)\n",
      "Cell \u001b[1;32mIn [21], line 13\u001b[0m, in \u001b[0;36mbuild_model_v1\u001b[1;34m(input_width, input_height, input_channels, class_size, max_str_len)\u001b[0m\n\u001b[0;32m     11\u001b[0m pred_length_input \u001b[38;5;241m=\u001b[39m tf\u001b[38;5;241m.\u001b[39mkeras\u001b[38;5;241m.\u001b[39mlayers\u001b[38;5;241m.\u001b[39mInput((\u001b[38;5;241m1\u001b[39m,),name\u001b[38;5;241m=\u001b[39m\u001b[38;5;124m\"\u001b[39m\u001b[38;5;124mpred_length_input\u001b[39m\u001b[38;5;124m\"\u001b[39m)\n\u001b[0;32m     12\u001b[0m y_true_input \u001b[38;5;241m=\u001b[39m tf\u001b[38;5;241m.\u001b[39mkeras\u001b[38;5;241m.\u001b[39mlayers\u001b[38;5;241m.\u001b[39mInput((max_str_len,), name\u001b[38;5;241m=\u001b[39m\u001b[38;5;124m\"\u001b[39m\u001b[38;5;124my_true_input\u001b[39m\u001b[38;5;124m\"\u001b[39m)\n\u001b[1;32m---> 13\u001b[0m output \u001b[38;5;241m=\u001b[39m \u001b[43mConv2d\u001b[49m(\u001b[38;5;28minput\u001b[39m, \u001b[38;5;241m8\u001b[39m, (\u001b[38;5;241m5\u001b[39m,\u001b[38;5;241m5\u001b[39m), \u001b[38;5;241m1\u001b[39m, name\u001b[38;5;241m=\u001b[39m\u001b[38;5;124m\"\u001b[39m\u001b[38;5;124mdown_0\u001b[39m\u001b[38;5;124m\"\u001b[39m)\n\u001b[0;32m     14\u001b[0m output \u001b[38;5;241m=\u001b[39m tf\u001b[38;5;241m.\u001b[39mkeras\u001b[38;5;241m.\u001b[39mlayers\u001b[38;5;241m.\u001b[39mMaxPooling2D(name\u001b[38;5;241m=\u001b[39m\u001b[38;5;124m\"\u001b[39m\u001b[38;5;124mpool_0\u001b[39m\u001b[38;5;124m\"\u001b[39m)\n\u001b[0;32m     15\u001b[0m output \u001b[38;5;241m=\u001b[39m Conv2d(output, \u001b[38;5;241m16\u001b[39m, (\u001b[38;5;241m5\u001b[39m,\u001b[38;5;241m5\u001b[39m), \u001b[38;5;241m1\u001b[39m, name\u001b[38;5;241m=\u001b[39m\u001b[38;5;124m\"\u001b[39m\u001b[38;5;124mdown_1\u001b[39m\u001b[38;5;124m\"\u001b[39m)\n",
      "\u001b[1;31mNameError\u001b[0m: name 'Conv2d' is not defined"
     ]
    }
   ],
   "source": [
    "model.compile(optimizer=tf.keras.optimizers.Adam(lr=0.0001), loss=ctc_loss)"
   ]
  },
  {
   "cell_type": "code",
   "execution_count": 1,
   "id": "f09ef553",
   "metadata": {},
   "outputs": [],
   "source": [
    "\n",
    "# importing libraries\n",
    "import cv2\n",
    "from lips import crop_lips\n",
    "import mediapipe as mp\n",
    "\n",
    "mp_holistic = mp.solutions.holistic  # Holistic model\n",
    "mp_drawing = mp.solutions.drawing_utils  # Drawing utilities\n",
    "\n",
    "#SEQUENCE_LENGTH =\n",
    "\n",
    "# Declare a queue to store video frames.\n",
    "#frames_queue = deque(maxlen = SEQUENCE_LENGTH)\n",
    "\n",
    "# Initialize a variable to store the predicted action being performed in the video.\n",
    "predicted_class_name = ''\n",
    "\n",
    "sentence = []\n",
    "predictions = []\n",
    "threshold = 0.0 # Result rendered only if they are above this threshold\n",
    "\n",
    "# Create a VideoCapture object and read from input file\n",
    "cap = cv2.VideoCapture(\"..\\\\Dataset\\\\Urdu\\\\6\\\\mein_kidhar_tha_han_kab_paanch\\\\_video.avi\")\n",
    "length = int(cap.get(cv2.CAP_PROP_FRAME_COUNT))\n",
    "\n",
    "# Check if camera opened successfully\n",
    "if (cap.isOpened()== False):\n",
    "    print(\"Error opening video file\")\n",
    "\n",
    "\n",
    "cnt = 0\n",
    "with mp_holistic.Holistic(min_detection_confidence=0.1, min_tracking_confidence=0.1) as holistic:    \n",
    "    # Read until video is completed\n",
    "    while(cap.isOpened()):\n",
    "\n",
    "        # Capture frame-by-frame\n",
    "        ret, frame = cap.read()\n",
    "        \n",
    "        # If frame correctly read only then performing predictions\n",
    "        if ret == True:\n",
    "            \n",
    "            # Cropping lips\n",
    "            cropped_image = crop_lips(frame, holistic)\n",
    "\n",
    "            # Normalizing the cropped frame\n",
    "            normalized_frame = cropped_image / 255    \n",
    "            \n",
    "            # Appending the pre-processed frame into the frames list.\n",
    "            #frames_queue.append(normalized_frame)\n",
    "            \n",
    "            # Check if the number of frames in the queue are equal to the fixed sequence length.\n",
    "            \"\"\"if len(frames_queue) == SEQUENCE_LENGTH:\n",
    "\n",
    "                # Pass the normalized frames to the model and get the predicted probabilities.\n",
    "                res = LRCN_model.predict(np.expand_dims(frames_queue, axis = 0))[0]\n",
    "\n",
    "                # Appending prediction in the Predictions List\n",
    "                predictions.append(np.argmax(res))\n",
    "\n",
    "                \n",
    "                if len(sentence) < 8:\n",
    "                    \n",
    "                    sentence.extend(np.unique(preds))\n",
    "       \n",
    "            \"\"\"\n",
    "\n",
    "            # Display the resulting frame\n",
    "            cv2.imshow('Frame', frame)\n",
    "            \n",
    "\n",
    "        # Press Q on keyboard to exit\n",
    "            if cv2.waitKey(25) & 0xFF == ord('q'):\n",
    "                break\n",
    "\n",
    "        # Break the loop\n",
    "        else:\n",
    "            break\n",
    "  \n",
    "\n",
    " # When everything done, release the video capture object\n",
    "cap.release()\n",
    "  \n",
    "# Closes all the frames\n",
    "cv2.destroyAllWindows()"
   ]
  },
  {
   "cell_type": "code",
   "execution_count": 12,
   "id": "692909a7",
   "metadata": {},
   "outputs": [],
   "source": [
    "#Passing image and model to the function\n",
    "def mediapipe_detection(image, model):\n",
    "    # Converting frame from BGR to RGB because model works on RGB\n",
    "    image = cv2.cvtColor(image, cv2.COLOR_BGR2RGB) # Color conversion (BGR to RGB)\n",
    "    \n",
    "    image.flags.writeable = False # Image not writeable anymore\n",
    "    \n",
    "    results = model.process(image)# Making prediction\n",
    "    \n",
    "    image.flags.writeable = True # Image is now writeable\n",
    "    \n",
    "    image = cv2.cvtColor(image, cv2.COLOR_RGB2BGR) # Color conversion (RGB to BGR)\n",
    "    return image, results\n",
    "\n",
    "def lip_movement_detected(results):\n",
    "    diff = results.face_landmarks.landmark[14].y - results.face_landmarks.landmark[13].y\n",
    "    if diff > 0.008:\n",
    "        return True\n",
    "    else:\n",
    "        return False"
   ]
  },
  {
   "cell_type": "code",
   "execution_count": null,
   "id": "a5af919b",
   "metadata": {},
   "outputs": [],
   "source": [
    "def crop_lips(frame, model):\n",
    "    image_height, image_width, c = frame.shape\n",
    "\n",
    "    #IMPORTANT VARIABLES\n",
    "    # Defining width and height of resized frame\n",
    "    width = 100\n",
    "    height = 50\n",
    "\n",
    "    # If no lips get detected by mediapipe then exception will be thrown\n",
    "    try:\n",
    "        # Making detections\n",
    "\n",
    "        image, results = mediapipe_detection(frame, model)\n",
    "\n",
    "\n",
    "        # NORAMALIZING POSITIONS OF LANDMARKS(Two lines below taken from\n",
    "        x_px1 = min(math.floor(results.face_landmarks.landmark[212].x * image_width), image_width - 1)\n",
    "        x_px2 = min(math.floor(results.face_landmarks.landmark[432].x * image_width), image_width - 1)\n",
    "        y_px1 = min(math.floor(results.face_landmarks.landmark[94].y * image_height), image_height - 1)\n",
    "        y_px2 = min(math.floor(results.face_landmarks.landmark[200].y * image_height), image_height - 1)\n",
    "\n",
    "        # Cropping an image\n",
    "        cropped_image = image[y_px1:y_px2, x_px1:x_px2]\n",
    "\n",
    "        # Resizing the cropped image to Fixed resolution i.e. 300*150\n",
    "        dim = (width, height)\n",
    "\n",
    "        resized = cv2.resize(cropped_image, dim, interpolation=cv2.INTER_AREA)\n",
    "\n",
    "    except:\n",
    "        # If no lips detected plain black frame will be returned\n",
    "        resized = np.zeros((height, width, 3), dtype=np.uint8)\n",
    "\n",
    "\n",
    "    return resized"
   ]
  },
  {
   "cell_type": "code",
   "execution_count": 13,
   "id": "da406b0e",
   "metadata": {},
   "outputs": [],
   "source": [
    "# import the opencv library\n",
    "import cv2\n",
    "import mediapipe as mp\n",
    "\n",
    "mp_holistic = mp.solutions.holistic  # Holistic model\n",
    "mp_drawing = mp.solutions.drawing_utils  # Drawing utilities\n",
    "\n",
    "\n",
    "#define a video capture object\n",
    "cap = cv2.VideoCapture(0)\n",
    "with mp_holistic.Holistic(min_detection_confidence=0.1, min_tracking_confidence=0.1) as holistic:    \n",
    "\n",
    "    while(cap.isOpened()):\n",
    "\n",
    "        # Capture the video frame\n",
    "        # by frame\n",
    "        ret, frame = cap.read()\n",
    "        txt = \"Closed\"\n",
    "         # Making detections\n",
    "        try:\n",
    "            image, results = mediapipe_detection(frame, holistic)\n",
    "\n",
    "            # Recording of frames would be started with 3 frames prior of lip movement\n",
    "            if lip_movement_detected(results):\n",
    "                txt = \"OPEN\"\n",
    "            else:\n",
    "                txt = \"CLOSED\"\n",
    "        except:\n",
    "            a=1\n",
    "            \n",
    "\n",
    "        cv2.putText(frame, txt, (50,50), cv2.FONT_HERSHEY_SIMPLEX, 1, (255, 0, 0), 2, cv2.LINE_AA)\n",
    "        \n",
    "        # Display the resulting frame\n",
    "        cv2.imshow('frame', frame)\n",
    "\n",
    "        # the 'q' button is set as the\n",
    "        # quitting button you may use any\n",
    "        # desired button of your choice\n",
    "        if cv2.waitKey(1) & 0xFF == ord('q'):\n",
    "            break\n",
    "\n",
    "    # After the loop release the cap object\n",
    "    cap.release()\n",
    "    # Destroy all the windows\n",
    "    cv2.destroyAllWindows()"
   ]
  },
  {
   "cell_type": "code",
   "execution_count": 5,
   "id": "77fff796",
   "metadata": {},
   "outputs": [],
   "source": [
    "import cv2\n",
    "\n",
    "# Function to record simple video of 4 seconds\n",
    "# Args(camera_index; 1 = PC webcam, 1 = USB cam)\n",
    "def record_vid(cam_index = 0):\n",
    "    \n",
    "    # Set the video capture device (webcam)\n",
    "    cap = cv2.VideoCapture(cam_index)\n",
    "\n",
    "    width= int(cap.get(cv2.CAP_PROP_FRAME_WIDTH))\n",
    "    height= int(cap.get(cv2.CAP_PROP_FRAME_HEIGHT))\n",
    "\n",
    "    # Define the codec and create a VideoWriter object\n",
    "    fourcc = cv2.VideoWriter_fourcc(*'DIVX')\n",
    "    out = cv2.VideoWriter('output.mp4',fourcc, 25.0, (width,height))\n",
    "\n",
    "    # Set the duration of the video capture (in seconds)\n",
    "    duration = 4\n",
    "\n",
    "    # Capture frames for the specified duration\n",
    "    start_time = cv2.getTickCount()\n",
    "    while(int((cv2.getTickCount() - start_time)/cv2.getTickFrequency() * 1000) < duration*1000):\n",
    "        ret, frame = cap.read()\n",
    "        # Show the frame\n",
    "        cv2.imshow('frame',frame)\n",
    "        # Write the frame to the output file\n",
    "        out.write(frame)\n",
    "        # Wait for a key press to exit\n",
    "        if cv2.waitKey(1) & 0xFF == ord('q'):\n",
    "            break\n",
    "\n",
    "    # Release the video capture device and the output file\n",
    "    cap.release()\n",
    "    out.release()\n",
    "\n",
    "record_vid(cam_index=0)"
   ]
  },
  {
   "cell_type": "code",
   "execution_count": 4,
   "id": "530098e6",
   "metadata": {},
   "outputs": [],
   "source": []
  },
  {
   "cell_type": "code",
   "execution_count": null,
   "id": "3d695538",
   "metadata": {},
   "outputs": [],
   "source": []
  }
 ],
 "metadata": {
  "kernelspec": {
   "display_name": "Python 3 (ipykernel)",
   "language": "python",
   "name": "python3"
  },
  "language_info": {
   "codemirror_mode": {
    "name": "ipython",
    "version": 3
   },
   "file_extension": ".py",
   "mimetype": "text/x-python",
   "name": "python",
   "nbconvert_exporter": "python",
   "pygments_lexer": "ipython3",
   "version": "3.9.13"
  }
 },
 "nbformat": 4,
 "nbformat_minor": 5
}
